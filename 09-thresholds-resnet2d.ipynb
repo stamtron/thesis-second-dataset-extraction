{
 "cells": [
  {
   "cell_type": "code",
   "execution_count": 2,
   "metadata": {},
   "outputs": [
    {
     "name": "stdout",
     "output_type": "stream",
     "text": [
      "conv1 False\n",
      "bn1 False\n",
      "relu True\n",
      "maxpool True\n",
      "layer1 False\n",
      "layer2 False\n",
      "layer3 False\n",
      "layer4 False\n",
      "avgpool True\n",
      "fc True\n"
     ]
    }
   ],
   "source": [
    "import sys\n",
    "\n",
    "sys.path.append('./helpers_models/')\n",
    "sys.path.append('./data_visualization_and_augmentations/')\n",
    "sys.path.append('../torch_videovision/')\n",
    "sys.path.append('./important_csvs/')\n",
    "\n",
    "from helpers_resnet import *\n",
    "\n",
    "resnet = torchvision.models.resnet50(pretrained=True)\n",
    "adaptive_pooling = AdaptiveConcatPool2d()\n",
    "head = Head()\n",
    "resnet.avgpool = adaptive_pooling\n",
    "resnet.fc = head\n",
    "\n",
    "os.environ['CUDA_VISIBLE_DEVICES']='0,1,2'\n",
    "\n",
    "resnet = resnet.cuda()\n",
    "\n",
    "for param in resnet.parameters():\n",
    "    param.requires_grad = False\n",
    "    \n",
    "for param in resnet.avgpool.parameters():\n",
    "    param.requires_grad = True\n",
    "    \n",
    "for param in resnet.fc.parameters():\n",
    "    param.requires_grad = True\n",
    "\n",
    "resnet = nn.DataParallel(resnet)\n",
    "check_freeze(resnet.module)"
   ]
  },
  {
   "cell_type": "code",
   "execution_count": 3,
   "metadata": {},
   "outputs": [],
   "source": [
    "tensor_transform = get_tensor_transform('ImageNet', True)\n",
    "train_spat_transform = get_spatial_transform(2)\n",
    "train_temp_transform = get_temporal_transform()\n",
    "valid_spat_transform = get_spatial_transform(0)\n",
    "valid_temp_transform = va.TemporalFit(size=16)\n",
    "\n",
    "root_dir = '/media/scratch/astamoulakatos/nsea_video_jpegs/'\n",
    "df = pd.read_csv('./small_dataset_csvs/events_with_number_of_frames_stratified.csv')\n",
    "df_train = get_df(df, 20, True, False, False)\n",
    "class_image_paths, end_idx = get_indices(df_train, root_dir)\n",
    "train_loader = get_loader(1, 128, end_idx, class_image_paths, train_temp_transform, train_spat_transform, tensor_transform, False, True)\n",
    "df_valid = get_df(df, 20, False, True, False)\n",
    "class_image_paths, end_idx = get_indices(df_valid, root_dir)\n",
    "valid_loader = get_loader(1, 128, end_idx, class_image_paths, valid_temp_transform, valid_spat_transform, tensor_transform, False, True)\n",
    "df_test = get_df(df, 20, False, False, True)\n",
    "class_image_paths, end_idx = get_indices(df_test, root_dir)\n",
    "test_loader = get_loader(1, 64, end_idx, class_image_paths, valid_temp_transform, valid_spat_transform, tensor_transform, False, True)\n",
    "\n",
    "torch.cuda.empty_cache()"
   ]
  },
  {
   "cell_type": "code",
   "execution_count": 5,
   "metadata": {},
   "outputs": [
    {
     "name": "stdout",
     "output_type": "stream",
     "text": [
      "loading pretrained freezed model!\n"
     ]
    }
   ],
   "source": [
    "load = True\n",
    "if load:\n",
    "    checkpoint = torch.load('/media/scratch/astamoulakatos/saved-resnet-models/best-checkpoint-003epoch.pth')\n",
    "    resnet.load_state_dict(checkpoint['model_state_dict'])\n",
    "    print('loading pretrained freezed model!')"
   ]
  },
  {
   "cell_type": "code",
   "execution_count": 7,
   "metadata": {},
   "outputs": [],
   "source": [
    "device = torch.device('cuda')"
   ]
  },
  {
   "cell_type": "code",
   "execution_count": 9,
   "metadata": {},
   "outputs": [],
   "source": [
    "resnet.eval()\n",
    "y_true = []\n",
    "y_pred = []\n",
    "with torch.no_grad():\n",
    "    for X, y in valid_loader:\n",
    "        X = X.to(device)\n",
    "        y = Variable(y.float()).to(device) \n",
    "        #X = X.permute(0,2,1,3,4)\n",
    "        y = y.squeeze(dim=1)\n",
    "        y = y.float()\n",
    "        output = resnet(X)\n",
    "        y = y.detach().cpu()\n",
    "        #loss = criterion(output, y)\n",
    "        preds = torch.sigmoid(output)\n",
    "        preds = preds.to(torch.float32) \n",
    "        preds = preds.detach().cpu()\n",
    "        y_pred.append(preds)\n",
    "        y_true.append(y)"
   ]
  },
  {
   "cell_type": "code",
   "execution_count": 10,
   "metadata": {},
   "outputs": [],
   "source": [
    "from helpers_thresholds import *"
   ]
  },
  {
   "cell_type": "code",
   "execution_count": 11,
   "metadata": {},
   "outputs": [],
   "source": [
    "y_tr = np.vstack([t.__array__() for tensor in y_true for t in tensor])"
   ]
  },
  {
   "cell_type": "code",
   "execution_count": 12,
   "metadata": {},
   "outputs": [],
   "source": [
    "y_pr = np.vstack([t.__array__() for tensor in y_pred for t in tensor])"
   ]
  },
  {
   "cell_type": "code",
   "execution_count": 14,
   "metadata": {},
   "outputs": [],
   "source": [
    "classes = ['Exposure', 'Burial', 'Field Joint', 'Anode', 'Free Span']"
   ]
  },
  {
   "cell_type": "code",
   "execution_count": 15,
   "metadata": {},
   "outputs": [],
   "source": [
    "thresholds = nsea_compute_thresholds(y_tr, y_pr, classes)"
   ]
  },
  {
   "cell_type": "code",
   "execution_count": 16,
   "metadata": {},
   "outputs": [
    {
     "data": {
      "text/plain": [
       "{'Exposure': 0.5549621,\n",
       " 'Burial': 0.7895948,\n",
       " 'Field Joint': 0.38403448,\n",
       " 'Anode': 0.9837944,\n",
       " 'Free Span': 0.97246337}"
      ]
     },
     "execution_count": 16,
     "metadata": {},
     "output_type": "execute_result"
    }
   ],
   "source": [
    "thresholds"
   ]
  },
  {
   "cell_type": "markdown",
   "metadata": {},
   "source": [
    "## validation set"
   ]
  },
  {
   "cell_type": "code",
   "execution_count": 19,
   "metadata": {},
   "outputs": [
    {
     "name": "stderr",
     "output_type": "stream",
     "text": [
      "/home/astamoulakatos/.conda/envs/deep/lib/python3.7/site-packages/sklearn/metrics/_classification.py:1272: UndefinedMetricWarning: Precision and F-score are ill-defined and being set to 0.0 in samples with no predicted labels. Use `zero_division` parameter to control this behavior.\n",
      "  _warn_prf(average, modifier, msg_start, len(result))\n"
     ]
    },
    {
     "data": {
      "text/html": [
       "<div>\n",
       "<style scoped>\n",
       "    .dataframe tbody tr th:only-of-type {\n",
       "        vertical-align: middle;\n",
       "    }\n",
       "\n",
       "    .dataframe tbody tr th {\n",
       "        vertical-align: top;\n",
       "    }\n",
       "\n",
       "    .dataframe thead th {\n",
       "        text-align: right;\n",
       "    }\n",
       "</style>\n",
       "<table border=\"1\" class=\"dataframe\">\n",
       "  <thead>\n",
       "    <tr style=\"text-align: right;\">\n",
       "      <th></th>\n",
       "      <th>Event</th>\n",
       "      <th>Threshold</th>\n",
       "      <th>Exact Matching Score</th>\n",
       "      <th>Precision</th>\n",
       "      <th>Recall</th>\n",
       "      <th>F1-Score</th>\n",
       "      <th>tn</th>\n",
       "      <th>fp</th>\n",
       "      <th>fn</th>\n",
       "      <th>tp</th>\n",
       "    </tr>\n",
       "  </thead>\n",
       "  <tbody>\n",
       "    <tr>\n",
       "      <th>0</th>\n",
       "      <td>Exposure</td>\n",
       "      <td>0.554962</td>\n",
       "      <td>0.887344</td>\n",
       "      <td>0.915709</td>\n",
       "      <td>0.929760</td>\n",
       "      <td>0.922681</td>\n",
       "      <td>1377.0</td>\n",
       "      <td>396.0</td>\n",
       "      <td>325.0</td>\n",
       "      <td>4302.0</td>\n",
       "    </tr>\n",
       "    <tr>\n",
       "      <th>1</th>\n",
       "      <td>Burial</td>\n",
       "      <td>0.789595</td>\n",
       "      <td>0.885781</td>\n",
       "      <td>0.768834</td>\n",
       "      <td>0.840384</td>\n",
       "      <td>0.803018</td>\n",
       "      <td>4179.0</td>\n",
       "      <td>448.0</td>\n",
       "      <td>283.0</td>\n",
       "      <td>1490.0</td>\n",
       "    </tr>\n",
       "    <tr>\n",
       "      <th>2</th>\n",
       "      <td>Field Joint</td>\n",
       "      <td>0.384034</td>\n",
       "      <td>0.908125</td>\n",
       "      <td>0.647500</td>\n",
       "      <td>0.977358</td>\n",
       "      <td>0.778947</td>\n",
       "      <td>4776.0</td>\n",
       "      <td>564.0</td>\n",
       "      <td>24.0</td>\n",
       "      <td>1036.0</td>\n",
       "    </tr>\n",
       "    <tr>\n",
       "      <th>3</th>\n",
       "      <td>Anode</td>\n",
       "      <td>0.983794</td>\n",
       "      <td>0.944219</td>\n",
       "      <td>0.833935</td>\n",
       "      <td>0.426199</td>\n",
       "      <td>0.564103</td>\n",
       "      <td>5812.0</td>\n",
       "      <td>46.0</td>\n",
       "      <td>311.0</td>\n",
       "      <td>231.0</td>\n",
       "    </tr>\n",
       "    <tr>\n",
       "      <th>4</th>\n",
       "      <td>Free Span</td>\n",
       "      <td>0.972463</td>\n",
       "      <td>0.998281</td>\n",
       "      <td>0.997245</td>\n",
       "      <td>0.997703</td>\n",
       "      <td>0.997474</td>\n",
       "      <td>4217.0</td>\n",
       "      <td>6.0</td>\n",
       "      <td>5.0</td>\n",
       "      <td>2172.0</td>\n",
       "    </tr>\n",
       "    <tr>\n",
       "      <th>5</th>\n",
       "      <td>Aggregate</td>\n",
       "      <td>NaN</td>\n",
       "      <td>0.772031</td>\n",
       "      <td>0.846667</td>\n",
       "      <td>0.880078</td>\n",
       "      <td>0.856281</td>\n",
       "      <td>NaN</td>\n",
       "      <td>NaN</td>\n",
       "      <td>NaN</td>\n",
       "      <td>NaN</td>\n",
       "    </tr>\n",
       "  </tbody>\n",
       "</table>\n",
       "</div>"
      ],
      "text/plain": [
       "         Event  Threshold  Exact Matching Score  Precision    Recall  \\\n",
       "0     Exposure   0.554962              0.887344   0.915709  0.929760   \n",
       "1       Burial   0.789595              0.885781   0.768834  0.840384   \n",
       "2  Field Joint   0.384034              0.908125   0.647500  0.977358   \n",
       "3        Anode   0.983794              0.944219   0.833935  0.426199   \n",
       "4    Free Span   0.972463              0.998281   0.997245  0.997703   \n",
       "5    Aggregate        NaN              0.772031   0.846667  0.880078   \n",
       "\n",
       "   F1-Score      tn     fp     fn      tp  \n",
       "0  0.922681  1377.0  396.0  325.0  4302.0  \n",
       "1  0.803018  4179.0  448.0  283.0  1490.0  \n",
       "2  0.778947  4776.0  564.0   24.0  1036.0  \n",
       "3  0.564103  5812.0   46.0  311.0   231.0  \n",
       "4  0.997474  4217.0    6.0    5.0  2172.0  \n",
       "5  0.856281     NaN    NaN    NaN     NaN  "
      ]
     },
     "execution_count": 19,
     "metadata": {},
     "output_type": "execute_result"
    }
   ],
   "source": [
    "new_compute_metrics(y_tr, y_pr, thresholds, classes)"
   ]
  },
  {
   "cell_type": "markdown",
   "metadata": {},
   "source": [
    "## test set"
   ]
  },
  {
   "cell_type": "code",
   "execution_count": 20,
   "metadata": {},
   "outputs": [],
   "source": [
    "resnet.eval()\n",
    "y_true = []\n",
    "y_pred = []\n",
    "with torch.no_grad():\n",
    "    for X, y in test_loader:\n",
    "        X = X.to(device)\n",
    "        y = Variable(y.float()).to(device) \n",
    "        #X = X.permute(0,2,1,3,4)\n",
    "        y = y.squeeze(dim=1)\n",
    "        y = y.float()\n",
    "        output = resnet(X)\n",
    "        y = y.detach().cpu()\n",
    "        #loss = criterion(output, y)\n",
    "        preds = torch.sigmoid(output)\n",
    "        preds = preds.to(torch.float32) \n",
    "        preds = preds.detach().cpu()\n",
    "        y_pred.append(preds)\n",
    "        y_true.append(y)"
   ]
  },
  {
   "cell_type": "code",
   "execution_count": 21,
   "metadata": {},
   "outputs": [],
   "source": [
    "y_tr = np.vstack([t.__array__() for tensor in y_true for t in tensor])"
   ]
  },
  {
   "cell_type": "code",
   "execution_count": 22,
   "metadata": {},
   "outputs": [],
   "source": [
    "y_pr = np.vstack([t.__array__() for tensor in y_pred for t in tensor])"
   ]
  },
  {
   "cell_type": "code",
   "execution_count": 23,
   "metadata": {},
   "outputs": [
    {
     "data": {
      "text/html": [
       "<div>\n",
       "<style scoped>\n",
       "    .dataframe tbody tr th:only-of-type {\n",
       "        vertical-align: middle;\n",
       "    }\n",
       "\n",
       "    .dataframe tbody tr th {\n",
       "        vertical-align: top;\n",
       "    }\n",
       "\n",
       "    .dataframe thead th {\n",
       "        text-align: right;\n",
       "    }\n",
       "</style>\n",
       "<table border=\"1\" class=\"dataframe\">\n",
       "  <thead>\n",
       "    <tr style=\"text-align: right;\">\n",
       "      <th></th>\n",
       "      <th>Event</th>\n",
       "      <th>Threshold</th>\n",
       "      <th>Exact Matching Score</th>\n",
       "      <th>Precision</th>\n",
       "      <th>Recall</th>\n",
       "      <th>F1-Score</th>\n",
       "      <th>tn</th>\n",
       "      <th>fp</th>\n",
       "      <th>fn</th>\n",
       "      <th>tp</th>\n",
       "    </tr>\n",
       "  </thead>\n",
       "  <tbody>\n",
       "    <tr>\n",
       "      <th>0</th>\n",
       "      <td>Exposure</td>\n",
       "      <td>0.554962</td>\n",
       "      <td>0.817560</td>\n",
       "      <td>0.863043</td>\n",
       "      <td>0.869470</td>\n",
       "      <td>0.866245</td>\n",
       "      <td>1524.0</td>\n",
       "      <td>630.0</td>\n",
       "      <td>596.0</td>\n",
       "      <td>3970.0</td>\n",
       "    </tr>\n",
       "    <tr>\n",
       "      <th>1</th>\n",
       "      <td>Burial</td>\n",
       "      <td>0.789595</td>\n",
       "      <td>0.825000</td>\n",
       "      <td>0.711872</td>\n",
       "      <td>0.762767</td>\n",
       "      <td>0.736441</td>\n",
       "      <td>3901.0</td>\n",
       "      <td>665.0</td>\n",
       "      <td>511.0</td>\n",
       "      <td>1643.0</td>\n",
       "    </tr>\n",
       "    <tr>\n",
       "      <th>2</th>\n",
       "      <td>Field Joint</td>\n",
       "      <td>0.384034</td>\n",
       "      <td>0.826935</td>\n",
       "      <td>0.460934</td>\n",
       "      <td>0.934263</td>\n",
       "      <td>0.617308</td>\n",
       "      <td>4619.0</td>\n",
       "      <td>1097.0</td>\n",
       "      <td>66.0</td>\n",
       "      <td>938.0</td>\n",
       "    </tr>\n",
       "    <tr>\n",
       "      <th>3</th>\n",
       "      <td>Anode</td>\n",
       "      <td>0.983794</td>\n",
       "      <td>0.927530</td>\n",
       "      <td>0.715134</td>\n",
       "      <td>0.381329</td>\n",
       "      <td>0.497420</td>\n",
       "      <td>5992.0</td>\n",
       "      <td>96.0</td>\n",
       "      <td>391.0</td>\n",
       "      <td>241.0</td>\n",
       "    </tr>\n",
       "    <tr>\n",
       "      <th>4</th>\n",
       "      <td>Free Span</td>\n",
       "      <td>0.972463</td>\n",
       "      <td>0.993750</td>\n",
       "      <td>1.000000</td>\n",
       "      <td>0.978958</td>\n",
       "      <td>0.989367</td>\n",
       "      <td>4724.0</td>\n",
       "      <td>0.0</td>\n",
       "      <td>42.0</td>\n",
       "      <td>1954.0</td>\n",
       "    </tr>\n",
       "    <tr>\n",
       "      <th>5</th>\n",
       "      <td>Aggregate</td>\n",
       "      <td>NaN</td>\n",
       "      <td>0.674554</td>\n",
       "      <td>0.772297</td>\n",
       "      <td>0.805357</td>\n",
       "      <td>0.778105</td>\n",
       "      <td>NaN</td>\n",
       "      <td>NaN</td>\n",
       "      <td>NaN</td>\n",
       "      <td>NaN</td>\n",
       "    </tr>\n",
       "  </tbody>\n",
       "</table>\n",
       "</div>"
      ],
      "text/plain": [
       "         Event  Threshold  Exact Matching Score  Precision    Recall  \\\n",
       "0     Exposure   0.554962              0.817560   0.863043  0.869470   \n",
       "1       Burial   0.789595              0.825000   0.711872  0.762767   \n",
       "2  Field Joint   0.384034              0.826935   0.460934  0.934263   \n",
       "3        Anode   0.983794              0.927530   0.715134  0.381329   \n",
       "4    Free Span   0.972463              0.993750   1.000000  0.978958   \n",
       "5    Aggregate        NaN              0.674554   0.772297  0.805357   \n",
       "\n",
       "   F1-Score      tn      fp     fn      tp  \n",
       "0  0.866245  1524.0   630.0  596.0  3970.0  \n",
       "1  0.736441  3901.0   665.0  511.0  1643.0  \n",
       "2  0.617308  4619.0  1097.0   66.0   938.0  \n",
       "3  0.497420  5992.0    96.0  391.0   241.0  \n",
       "4  0.989367  4724.0     0.0   42.0  1954.0  \n",
       "5  0.778105     NaN     NaN    NaN     NaN  "
      ]
     },
     "execution_count": 23,
     "metadata": {},
     "output_type": "execute_result"
    }
   ],
   "source": [
    "new_compute_metrics(y_tr, y_pr, thresholds, classes)"
   ]
  },
  {
   "cell_type": "code",
   "execution_count": null,
   "metadata": {},
   "outputs": [],
   "source": []
  }
 ],
 "metadata": {
  "kernelspec": {
   "display_name": "Python 3",
   "language": "python",
   "name": "python3"
  },
  "language_info": {
   "codemirror_mode": {
    "name": "ipython",
    "version": 3
   },
   "file_extension": ".py",
   "mimetype": "text/x-python",
   "name": "python",
   "nbconvert_exporter": "python",
   "pygments_lexer": "ipython3",
   "version": "3.7.7"
  }
 },
 "nbformat": 4,
 "nbformat_minor": 4
}
