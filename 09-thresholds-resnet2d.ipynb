{
 "cells": [
  {
   "cell_type": "code",
   "execution_count": 2,
   "metadata": {},
   "outputs": [
    {
     "name": "stdout",
     "output_type": "stream",
     "text": [
      "conv1 False\n",
      "bn1 False\n",
      "relu True\n",
      "maxpool True\n",
      "layer1 False\n",
      "layer2 False\n",
      "layer3 False\n",
      "layer4 False\n",
      "avgpool True\n",
      "fc True\n"
     ]
    }
   ],
   "source": [
    "import sys\n",
    "\n",
    "sys.path.append('./helpers_models/')\n",
    "sys.path.append('./data_visualization_and_augmentations/')\n",
    "sys.path.append('../torch_videovision/')\n",
    "sys.path.append('./important_csvs/')\n",
    "\n",
    "from helpers_resnet import *\n",
    "\n",
    "resnet = torchvision.models.resnet50(pretrained=True)\n",
    "adaptive_pooling = AdaptiveConcatPool2d()\n",
    "head = Head()\n",
    "resnet.avgpool = adaptive_pooling\n",
    "resnet.fc = head\n",
    "\n",
    "os.environ['CUDA_VISIBLE_DEVICES']='0,1,2'\n",
    "\n",
    "resnet = resnet.cuda()\n",
    "\n",
    "for param in resnet.parameters():\n",
    "    param.requires_grad = False\n",
    "    \n",
    "for param in resnet.avgpool.parameters():\n",
    "    param.requires_grad = True\n",
    "    \n",
    "for param in resnet.fc.parameters():\n",
    "    param.requires_grad = True\n",
    "\n",
    "resnet = nn.DataParallel(resnet)\n",
    "check_freeze(resnet.module)"
   ]
  },
  {
   "cell_type": "code",
   "execution_count": 3,
   "metadata": {},
   "outputs": [],
   "source": [
    "tensor_transform = get_tensor_transform('ImageNet', True)\n",
    "train_spat_transform = get_spatial_transform(2)\n",
    "train_temp_transform = get_temporal_transform()\n",
    "valid_spat_transform = get_spatial_transform(0)\n",
    "valid_temp_transform = va.TemporalFit(size=16)\n",
    "\n",
    "root_dir = '/media/scratch/astamoulakatos/nsea_video_jpegs/'\n",
    "df = pd.read_csv('./small_dataset_csvs/events_with_number_of_frames_stratified.csv')\n",
    "df_train = get_df(df, 20, True, False, False)\n",
    "class_image_paths, end_idx = get_indices(df_train, root_dir)\n",
    "train_loader = get_loader(1, 128, end_idx, class_image_paths, train_temp_transform, train_spat_transform, tensor_transform, False, True)\n",
    "df_valid = get_df(df, 20, False, True, False)\n",
    "class_image_paths, end_idx = get_indices(df_valid, root_dir)\n",
    "valid_loader = get_loader(1, 128, end_idx, class_image_paths, valid_temp_transform, valid_spat_transform, tensor_transform, False, True)\n",
    "df_test = get_df(df, 20, False, False, True)\n",
    "class_image_paths, end_idx = get_indices(df_test, root_dir)\n",
    "test_loader = get_loader(1, 64, end_idx, class_image_paths, valid_temp_transform, valid_spat_transform, tensor_transform, False, True)\n",
    "\n",
    "torch.cuda.empty_cache()"
   ]
  },
  {
   "cell_type": "code",
   "execution_count": 5,
   "metadata": {},
   "outputs": [
    {
     "name": "stdout",
     "output_type": "stream",
     "text": [
      "loading pretrained freezed model!\n"
     ]
    }
   ],
   "source": [
    "load = True\n",
    "if load:\n",
    "    checkpoint = torch.load('/media/scratch/astamoulakatos/saved-resnet-models/best-checkpoint-003epoch.pth')\n",
    "    resnet.load_state_dict(checkpoint['model_state_dict'])\n",
    "    print('loading pretrained freezed model!')"
   ]
  },
  {
   "cell_type": "code",
   "execution_count": 7,
   "metadata": {},
   "outputs": [],
   "source": [
    "device = torch.device('cuda')"
   ]
  },
  {
   "cell_type": "code",
   "execution_count": 9,
   "metadata": {},
   "outputs": [],
   "source": [
    "resnet.eval()\n",
    "y_true = []\n",
    "y_pred = []\n",
    "with torch.no_grad():\n",
    "    for X, y in valid_loader:\n",
    "        X = X.to(device)\n",
    "        y = Variable(y.float()).to(device) \n",
    "        #X = X.permute(0,2,1,3,4)\n",
    "        y = y.squeeze(dim=1)\n",
    "        y = y.float()\n",
    "        output = resnet(X)\n",
    "        y = y.detach().cpu()\n",
    "        #loss = criterion(output, y)\n",
    "        preds = torch.sigmoid(output)\n",
    "        preds = preds.to(torch.float32) \n",
    "        preds = preds.detach().cpu()\n",
    "        y_pred.append(preds)\n",
    "        y_true.append(y)"
   ]
  },
  {
   "cell_type": "code",
   "execution_count": null,
   "metadata": {},
   "outputs": [],
   "source": [
    "from helpers_thresholds import *"
   ]
  },
  {
   "cell_type": "code",
   "execution_count": null,
   "metadata": {},
   "outputs": [],
   "source": [
    "y_tr = np.vstack([t.__array__() for tensor in y_true for t in tensor])"
   ]
  },
  {
   "cell_type": "code",
   "execution_count": null,
   "metadata": {},
   "outputs": [],
   "source": [
    "y_pr = np.vstack([t.__array__() for tensor in y_pred for t in tensor])"
   ]
  },
  {
   "cell_type": "code",
   "execution_count": null,
   "metadata": {},
   "outputs": [],
   "source": [
    "thresholds = nsea_compute_thresholds(y_tr, y_pr)"
   ]
  },
  {
   "cell_type": "code",
   "execution_count": null,
   "metadata": {},
   "outputs": [],
   "source": [
    "thresholds"
   ]
  },
  {
   "cell_type": "code",
   "execution_count": null,
   "metadata": {},
   "outputs": [],
   "source": [
    "acc = accuracy_score(y_tr, y_pr)\n",
    "f1 = f1_score(y_tr, y_pr, average=\"samples\")"
   ]
  },
  {
   "cell_type": "markdown",
   "metadata": {},
   "source": [
    "## validation set"
   ]
  },
  {
   "cell_type": "code",
   "execution_count": null,
   "metadata": {},
   "outputs": [],
   "source": [
    "new_compute_metrics(y_tr, y_pr, thresholds)"
   ]
  },
  {
   "cell_type": "markdown",
   "metadata": {},
   "source": [
    "## test set"
   ]
  },
  {
   "cell_type": "code",
   "execution_count": null,
   "metadata": {},
   "outputs": [],
   "source": [
    "resnet.eval()\n",
    "y_true = []\n",
    "y_pred = []\n",
    "with torch.no_grad():\n",
    "    for X, y in test_loader:\n",
    "        X = X.to(device)\n",
    "        y = Variable(y.float()).to(device) \n",
    "        #X = X.permute(0,2,1,3,4)\n",
    "        y = y.squeeze(dim=1)\n",
    "        y = y.float()\n",
    "        output = resnet(X)\n",
    "        y = y.detach().cpu()\n",
    "        #loss = criterion(output, y)\n",
    "        preds = torch.sigmoid(output)\n",
    "        preds = preds.to(torch.float32) \n",
    "        preds = preds.detach().cpu()\n",
    "        y_pred.append(preds)\n",
    "        y_true.append(y)"
   ]
  },
  {
   "cell_type": "code",
   "execution_count": null,
   "metadata": {},
   "outputs": [],
   "source": [
    "y_tr = np.vstack([t.__array__() for tensor in y_true for t in tensor])"
   ]
  },
  {
   "cell_type": "code",
   "execution_count": null,
   "metadata": {},
   "outputs": [],
   "source": [
    "y_pr = np.vstack([t.__array__() for tensor in y_pred for t in tensor])"
   ]
  },
  {
   "cell_type": "code",
   "execution_count": null,
   "metadata": {},
   "outputs": [],
   "source": [
    "acc = accuracy_score(y_tr, y_pr)\n",
    "f1 = f1_score(y_tr, y_pr, average=\"samples\")"
   ]
  },
  {
   "cell_type": "code",
   "execution_count": null,
   "metadata": {},
   "outputs": [],
   "source": [
    "new_compute_metrics(y_tr, y_pr, thresholds)"
   ]
  }
 ],
 "metadata": {
  "kernelspec": {
   "display_name": "Python 3",
   "language": "python",
   "name": "python3"
  },
  "language_info": {
   "codemirror_mode": {
    "name": "ipython",
    "version": 3
   },
   "file_extension": ".py",
   "mimetype": "text/x-python",
   "name": "python",
   "nbconvert_exporter": "python",
   "pygments_lexer": "ipython3",
   "version": "3.7.7"
  }
 },
 "nbformat": 4,
 "nbformat_minor": 4
}
