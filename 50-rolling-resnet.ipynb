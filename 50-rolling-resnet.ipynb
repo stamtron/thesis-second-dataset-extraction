{
 "cells": [
  {
   "cell_type": "code",
   "execution_count": null,
   "metadata": {},
   "outputs": [],
   "source": [
    "from helpers_resnet import *\n",
    "from torchsummary1 import summary\n",
    "from torch.autograd import Variable\n",
    "from sklearn.metrics import precision_score,f1_score, accuracy_score, jaccard_score"
   ]
  },
  {
   "cell_type": "code",
   "execution_count": null,
   "metadata": {},
   "outputs": [],
   "source": [
    "%reload_ext autoreload\n",
    "%autoreload 2\n",
    "%matplotlib inline"
   ]
  },
  {
   "cell_type": "code",
   "execution_count": null,
   "metadata": {},
   "outputs": [],
   "source": [
    "plt.rcParams['figure.figsize'] = (18,8)\n",
    "font = {'family' : 'DejaVu Sans',  'weight' : 'normal',  'size'  : 20}\n",
    "plt.rc('font', **font)"
   ]
  },
  {
   "cell_type": "code",
   "execution_count": null,
   "metadata": {},
   "outputs": [],
   "source": [
    "resnet = torchvision.models.resnet50(pretrained=True)\n",
    "adaptive_pooling = AdaptiveConcatPool2d()\n",
    "head = Head()\n",
    "resnet.avgpool = adaptive_pooling\n",
    "resnet.fc = head"
   ]
  },
  {
   "cell_type": "code",
   "execution_count": null,
   "metadata": {},
   "outputs": [],
   "source": [
    "resnet = resnet.cuda()"
   ]
  },
  {
   "cell_type": "code",
   "execution_count": null,
   "metadata": {},
   "outputs": [],
   "source": [
    "df_train = pd.read_csv('./train-valid-splits-video/train.csv')\n",
    "df_valid = pd.read_csv('./train-valid-splits-video/valid.csv')"
   ]
  },
  {
   "cell_type": "code",
   "execution_count": null,
   "metadata": {},
   "outputs": [],
   "source": [
    "valid_loader = load_data(df_valid, 1, 16)"
   ]
  },
  {
   "cell_type": "code",
   "execution_count": null,
   "metadata": {},
   "outputs": [],
   "source": [
    "show_batch(valid_loader, 1)"
   ]
  },
  {
   "cell_type": "code",
   "execution_count": null,
   "metadata": {},
   "outputs": [],
   "source": [
    "#train_loader = load_data(df_train, 10, 1)"
   ]
  },
  {
   "cell_type": "code",
   "execution_count": null,
   "metadata": {},
   "outputs": [],
   "source": [
    "#show_batch(train_loader, 10)"
   ]
  },
  {
   "cell_type": "code",
   "execution_count": null,
   "metadata": {},
   "outputs": [],
   "source": [
    "for param in resnet.parameters():\n",
    "    param.requires_grad = False"
   ]
  },
  {
   "cell_type": "code",
   "execution_count": null,
   "metadata": {},
   "outputs": [],
   "source": [
    "resnet.eval()\n",
    "running_loss = 0.0\n",
    "running_acc = 0.0  \n",
    "running_f1 = 0.0\n",
    "valid_result = []\n",
    "with torch.no_grad():\n",
    "    for X, y in valid_loader:\n",
    "        X = X.cuda()\n",
    "        y = Variable(y.float()).cuda()\n",
    "        X = X.squeeze(dim=0)\n",
    "        y = y.squeeze(dim=1)\n",
    "        y = y.float()\n",
    "        output = resnet(X)\n",
    "        preds = torch.sigmoid(output) #.data > 0.5  \n",
    "        preds = preds.to(torch.float32)  \n",
    "        preds = preds.detach().cpu().numpy()\n",
    "        cl1 = []\n",
    "        cl2 = []\n",
    "        cl3 = []\n",
    "        cl4 = []\n",
    "        cl5 = []\n",
    "        for p in preds:\n",
    "            cl1.append(p[0])\n",
    "            cl2.append(p[1])\n",
    "            cl3.append(p[2])\n",
    "            cl4.append(p[3])\n",
    "            cl5.append(p[4])\n",
    "\n",
    "        if (np.mean(cl1) > 0.5):\n",
    "            rolling_preds[0] = 1\n",
    "        else:\n",
    "            rolling_preds[0] = 0\n",
    "\n",
    "        if (np.mean(cl2) > 0.7):\n",
    "            rolling_preds[1] = 1\n",
    "        else:\n",
    "            rolling_preds[1] = 0   \n",
    "\n",
    "        if (np.mean(cl3) > 0.3):\n",
    "            rolling_preds[2] = 1\n",
    "        else:\n",
    "            rolling_preds[2] = 0\n",
    "\n",
    "        if (np.mean(cl4) > 0.8):\n",
    "            rolling_preds[3] = 1\n",
    "        else:\n",
    "            rolling_preds[3] = 0 \n",
    "\n",
    "        if (np.mean(cl5) > 0.8):\n",
    "            rolling_preds[4] = 1\n",
    "        else:\n",
    "            rolling_preds[4] = 0        \n",
    "\n",
    "        running_acc += accuracy_score(y.detach().cpu().numpy(), rolling_preds) *  X.size(0)\n",
    "        running_f1 += f1_score(y.detach().cpu().numpy(), rolling_preds), average=\"samples\")  *  X.size(0)\n",
    "\n",
    "\n",
    "epoch_acc = running_acc / len(valid_loader.dataset)\n",
    "epoch_f1 = running_f1 / len(valid_loader.dataset)\n",
    "\n",
    "valid_result.append('Validation Acc: {:.4f} F1: {:.4f}'.format(epoch_acc, epoch_f1))\n",
    "print(valid_result)"
   ]
  },
  {
   "cell_type": "code",
   "execution_count": null,
   "metadata": {},
   "outputs": [],
   "source": [
    "X.shape"
   ]
  },
  {
   "cell_type": "code",
   "execution_count": null,
   "metadata": {},
   "outputs": [],
   "source": [
    "t = y.detach().cpu().numpy(); t.shape"
   ]
  },
  {
   "cell_type": "code",
   "execution_count": null,
   "metadata": {},
   "outputs": [],
   "source": [
    "output.shape"
   ]
  },
  {
   "cell_type": "code",
   "execution_count": null,
   "metadata": {},
   "outputs": [],
   "source": [
    "preds = output.sigmoid()"
   ]
  },
  {
   "cell_type": "code",
   "execution_count": null,
   "metadata": {},
   "outputs": [],
   "source": [
    "preds = preds.to(torch.float32)  "
   ]
  },
  {
   "cell_type": "code",
   "execution_count": null,
   "metadata": {},
   "outputs": [],
   "source": [
    "preds = preds.detach().cpu().numpy()"
   ]
  },
  {
   "cell_type": "code",
   "execution_count": null,
   "metadata": {},
   "outputs": [],
   "source": [
    "preds"
   ]
  },
  {
   "cell_type": "code",
   "execution_count": null,
   "metadata": {},
   "outputs": [],
   "source": [
    "preds[0][1]"
   ]
  },
  {
   "cell_type": "code",
   "execution_count": null,
   "metadata": {},
   "outputs": [],
   "source": [
    "cl1 = []\n",
    "cl2 = []\n",
    "cl3 = []\n",
    "cl4 = []\n",
    "cl5 = []\n",
    "for p in preds:\n",
    "    cl1.append(p[0])\n",
    "    cl2.append(p[1])\n",
    "    cl3.append(p[2])\n",
    "    cl4.append(p[3])\n",
    "    cl5.append(p[4])\n",
    "    \n",
    "if (np.mean(cl1) > 0.5):\n",
    "    rolling_preds[0] = 1\n",
    "else:\n",
    "    rolling_preds[0] = 0\n",
    "    \n",
    "if (np.mean(cl2) > 0.5):\n",
    "    rolling_preds[1] = 1\n",
    "else:\n",
    "    rolling_preds[1] = 0   \n",
    "    \n",
    "if (np.mean(cl3) > 0.5):\n",
    "    rolling_preds[2] = 1\n",
    "else:\n",
    "    rolling_preds[2] = 0\n",
    "    \n",
    "if (np.mean(cl4) > 0.5):\n",
    "    rolling_preds[3] = 1\n",
    "else:\n",
    "    rolling_preds[3] = 0 \n",
    "    \n",
    "if (np.mean(cl5) > 0.5):\n",
    "    rolling_preds[4] = 1\n",
    "else:\n",
    "    rolling_preds[4] = 0\n",
    "\n"
   ]
  },
  {
   "cell_type": "code",
   "execution_count": null,
   "metadata": {},
   "outputs": [],
   "source": []
  }
 ],
 "metadata": {
  "language_info": {
   "name": "python",
   "pygments_lexer": "ipython3"
  }
 },
 "nbformat": 4,
 "nbformat_minor": 4
}
