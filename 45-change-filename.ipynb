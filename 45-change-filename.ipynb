{
 "cells": [
  {
   "cell_type": "code",
   "execution_count": null,
   "metadata": {},
   "outputs": [],
   "source": [
    "import os \n",
    "import glob\n",
    "import pandas as pd\n",
    "from pathlib import Path\n",
    "import re"
   ]
  },
  {
   "cell_type": "code",
   "execution_count": null,
   "metadata": {},
   "outputs": [],
   "source": [
    "def list_dir(path, pattern='*/*'):\n",
    "    return [Path(x) for x in glob.glob(path + pattern)]"
   ]
  },
  {
   "cell_type": "code",
   "execution_count": null,
   "metadata": {},
   "outputs": [],
   "source": [
    "def parse_img_num(file):\n",
    "    path, ext = os.path.splitext(file)\n",
    "    print(path)\n",
    "    p_new = path.split('fr')\n",
    "    m = re.search(r\"frame(\\d+).png\", file)\n",
    "    if m:\n",
    "        return p_new[0] + 'frame'+ f\"{int(m.groups()[0]):06d}\" + ext\n",
    "    else: \n",
    "        pass#print(img)\n",
    "#     raise Exception(\"Couldn't parse number\")"
   ]
  },
  {
   "cell_type": "code",
   "execution_count": null,
   "metadata": {},
   "outputs": [],
   "source": [
    "l = list_dir('/media/scratch/astamoulakatos/nsea_video_jpegs/')"
   ]
  },
  {
   "cell_type": "code",
   "execution_count": null,
   "metadata": {},
   "outputs": [],
   "source": [
    "counter = 0\n",
    "for folder in l:\n",
    "    for el in os.scandir(folder): \n",
    "        if (os.path.isfile(el)) & ('png' in el.path):\n",
    "            file = el.path\n",
    "            counter = counter + 1\n",
    "            new_file = parse_img_num(file)\n",
    "            os.rename(file, new_file)"
   ]
  },
  {
   "cell_type": "code",
   "execution_count": null,
   "metadata": {},
   "outputs": [],
   "source": [
    "counter"
   ]
  },
  {
   "cell_type": "code",
   "execution_count": null,
   "metadata": {},
   "outputs": [],
   "source": []
  }
 ],
 "metadata": {
  "language_info": {
   "name": "python",
   "pygments_lexer": "ipython3"
  }
 },
 "nbformat": 4,
 "nbformat_minor": 4
}
