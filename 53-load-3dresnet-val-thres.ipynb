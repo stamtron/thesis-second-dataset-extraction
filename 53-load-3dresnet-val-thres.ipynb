{
 "cells": [
  {
   "cell_type": "code",
   "execution_count": null,
   "metadata": {},
   "outputs": [],
   "source": [
    "from helpers_3d import *\n",
    "#import seaborn as sns\n",
    "from tqdm import trange\n",
    "\n",
    "df_train = pd.read_csv('./train-valid-splits-video/train.csv')\n",
    "df_valid = pd.read_csv('./train-valid-splits-video/valid.csv')\n",
    "\n",
    "train_loader = load_data(df_train, 18, 16)\n",
    "valid_loader = load_data(df_valid, 18, 16)\n",
    "\n",
    "options = {\n",
    "    \"model_depth\": 50,\n",
    "    \"model\": 'resnet',\n",
    "    \"n_classes\": 400,\n",
    "    \"n_finetune_classes\": 5,\n",
    "    \"resnet_shortcut\": 'B',\n",
    "    \"sample_size\": (576,704),\n",
    "    \"sample_duration\": 16,\n",
    "    \"pretrain_path\": '../3D-ResNets-PyTorch/resnet-50-kinetics.pth',\n",
    "    \"no_cuda\": False,\n",
    "    \"arch\": 'resnet-50',\n",
    "    \"ft_begin_index\": 0\n",
    "}\n",
    "\n",
    "opts = namedtuple(\"opts\", sorted(options.keys()))\n",
    "myopts2 = opts(**options)\n",
    "model, parameters = generate_model(myopts2)"
   ]
  },
  {
   "cell_type": "code",
   "execution_count": null,
   "metadata": {},
   "outputs": [],
   "source": [
    "adaptive_pooling = AdaptiveConcatPool3d()\n",
    "head = Head()\n",
    "\n",
    "os.environ['CUDA_VISIBLE_DEVICES']='0,2,3'\n",
    "device = torch.device('cuda') \n",
    "\n",
    "adaptive_pooling = adaptive_pooling.to(device)\n",
    "head = head.to(device)\n",
    "model.module.avgpool = adaptive_pooling\n",
    "model.module.fc = head\n",
    "\n",
    "checkpoint = torch.load('/media/hdd/astamoulakatos/save-model-3d/save_freezed_1.pth')\n",
    "model.load_state_dict(checkpoint['state_dict'])\n",
    "print('loading pretrained freezed model!')\n",
    "\n",
    "for param in model.parameters():\n",
    "    param.requires_grad = False"
   ]
  },
  {
   "cell_type": "code",
   "execution_count": null,
   "metadata": {},
   "outputs": [],
   "source": [
    "model.eval()\n",
    "y_true = []\n",
    "y_pred = []\n",
    "with torch.no_grad():\n",
    "    for X, y in valid_loader:\n",
    "        X = X.to(device)\n",
    "        y = Variable(y.float()).to(device) \n",
    "        X = X.permute(0,2,1,3,4)\n",
    "        y = y.squeeze(dim=1)\n",
    "        y = y.float()\n",
    "        output = model(X)\n",
    "        y = y.detach().cpu()\n",
    "        #loss = criterion(output, y)\n",
    "        preds = torch.sigmoid(output)\n",
    "        preds = preds.to(torch.float32) \n",
    "        preds = preds.detach().cpu()\n",
    "        y_pred.append(preds)\n",
    "        y_true.append(y)"
   ]
  },
  {
   "cell_type": "code",
   "execution_count": null,
   "metadata": {},
   "outputs": [],
   "source": [
    "len(y_pred)"
   ]
  },
  {
   "cell_type": "code",
   "execution_count": null,
   "metadata": {},
   "outputs": [],
   "source": [
    "y_tr = np.vstack([t.__array__() for tensor in y_true for t in tensor])"
   ]
  },
  {
   "cell_type": "code",
   "execution_count": null,
   "metadata": {},
   "outputs": [],
   "source": [
    "len(y_tr)"
   ]
  },
  {
   "cell_type": "code",
   "execution_count": null,
   "metadata": {},
   "outputs": [],
   "source": [
    "y_tr"
   ]
  },
  {
   "cell_type": "code",
   "execution_count": null,
   "metadata": {},
   "outputs": [],
   "source": [
    "y_pr = np.vstack([t.__array__() for tensor in y_pred for t in tensor])"
   ]
  },
  {
   "cell_type": "code",
   "execution_count": null,
   "metadata": {},
   "outputs": [],
   "source": [
    "import os\n",
    "#import fastai\n",
    "import torch\n",
    "from sklearn.model_selection import train_test_split\n",
    "from sklearn.metrics import average_precision_score, precision_recall_curve, accuracy_score, recall_score, precision_score, f1_score\n",
    "from sklearn.metrics import multilabel_confusion_matrix, precision_recall_fscore_support\n",
    "import numpy as np"
   ]
  },
  {
   "cell_type": "code",
   "execution_count": null,
   "metadata": {},
   "outputs": [],
   "source": [
    "y_pr"
   ]
  },
  {
   "cell_type": "code",
   "execution_count": null,
   "metadata": {},
   "outputs": [],
   "source": [
    "# we assume that y contains a tuple of y_pred and targets\n",
    "def nsea_compute_thresholds(y_true, y_pred):\n",
    "#     y_pred = numpy.asarray(y[0])\n",
    "#     y_true = numpy.asarray(y[1])\n",
    "    precisions = dict()\n",
    "    recalls = dict()\n",
    "    Thresholds = dict()\n",
    "    for i in range(5):\n",
    "        precisions[i], recalls[i], Thresholds[i] = precision_recall_curve(y_true[:, i], y_pred[:, i])\n",
    "    \n",
    "    result = {}\n",
    "    ###############\n",
    "    ###############  FIX THE UGLY STAFF BELOW\n",
    "    ###############\n",
    "    classes = ['exp', 'bur', 'and', 'fj', 'fs']\n",
    "    opt_id = []\n",
    "    for i,event_type in enumerate(classes): \n",
    "        re = recalls[i]\n",
    "        pre = precisions[i]\n",
    "        dist = [ np.sqrt((1-re)**2 + (1-pre)**2) for re, pre in zip(re, pre) ]\n",
    "        opt_id.append(dist.index(min(dist)))\n",
    "        t = Thresholds[i]\n",
    "        opt_thres = t[opt_id[i]]\n",
    "        result[event_type] = opt_thres\n",
    "    return result"
   ]
  },
  {
   "cell_type": "code",
   "execution_count": null,
   "metadata": {},
   "outputs": [],
   "source": [
    "def new_compute_metrics(y_true, y_pred, thresholds):\n",
    "    th = np.array([thresholds[key] for key in thresholds])\n",
    "    classes = ['exp', 'bur', 'and', 'fj', 'fs']\n",
    "    ## Apply digitisation on the outputs\n",
    "    for idx, event_type in enumerate(classes):\n",
    "        y_pred[:,idx] = np.where(y_pred[:,idx] >= thresholds[event_type], 1, 0)\n",
    "    acc = []\n",
    "    for idx, event in enumerate(classes):\n",
    "        acc.append(accuracy_score(y_true[:,idx], y_pred[:, idx]))\n",
    "    acc = np.array(acc)\n",
    "    agg_acc = accuracy_score(y_true, y_pred)\n",
    "    \n",
    "    precision, recall, f1, _ = precision_recall_fscore_support(y_true, y_pred)\n",
    "    \n",
    "    cm=multilabel_confusion_matrix(y_true, y_pred)\n",
    "    cmm=cm.reshape(-1,4)\n",
    "    \n",
    "    res_labels=pd.DataFrame({'Event': classes, 'Threshold': th, 'Exact Matching Score': acc, 'Precision': precision, 'Recall': recall, 'F1-Score': f1})\n",
    "    \n",
    "    res_labels = pd.concat([res_labels, pd.DataFrame(cmm, columns=['tn', 'fp', 'fn', 'tp'])], axis=1)\n",
    "    \n",
    "    agg_precision, agg_recall, agg_f1, agg_support = precision_recall_fscore_support(y_true, y_pred, average='micro')\n",
    "    agg=pd.DataFrame({'Event': ['Aggregate'], 'Threshold': [np.nan], 'Exact Matching Score': agg_acc, 'Precision': agg_precision, 'Recall': agg_recall, 'F1-Score': agg_f1})\n",
    "    \n",
    "    \n",
    "    agg = pd.concat([agg, pd.DataFrame(data=[np.nan]*4, index=['tn', 'fp', 'fn', 'tp']).T], axis=1)\n",
    "\n",
    "    res=pd.concat([res_labels, agg]).reset_index(drop=True)\n",
    "    \n",
    "    return res"
   ]
  },
  {
   "cell_type": "code",
   "execution_count": null,
   "metadata": {},
   "outputs": [],
   "source": [
    "thresholds = nsea_compute_thresholds(y_tr, y_pr)"
   ]
  },
  {
   "cell_type": "code",
   "execution_count": null,
   "metadata": {},
   "outputs": [],
   "source": [
    "thresholds"
   ]
  },
  {
   "cell_type": "code",
   "execution_count": null,
   "metadata": {},
   "outputs": [],
   "source": [
    "acc = accuracy_score(y_tr, y_pr)\n",
    "f1 = f1_score(y_tr, y_pr, average=\"samples\")\n"
   ]
  },
  {
   "cell_type": "code",
   "execution_count": null,
   "metadata": {},
   "outputs": [],
   "source": [
    "acc, f1"
   ]
  },
  {
   "cell_type": "code",
   "execution_count": null,
   "metadata": {},
   "outputs": [],
   "source": [
    "new_compute_metrics(y_tr, y_pr, thresholds)"
   ]
  },
  {
   "cell_type": "code",
   "execution_count": null,
   "metadata": {},
   "outputs": [],
   "source": []
  }
 ],
 "metadata": {
  "language_info": {
   "name": "python",
   "pygments_lexer": "ipython3"
  }
 },
 "nbformat": 4,
 "nbformat_minor": 4
}
