{
 "cells": [
  {
   "cell_type": "code",
   "execution_count": null,
   "metadata": {},
   "outputs": [],
   "source": [
    "from focal_loss_1 import *"
   ]
  },
  {
   "cell_type": "code",
   "execution_count": null,
   "metadata": {},
   "outputs": [],
   "source": [
    "inp = torch.tensor([[1., 0.95, 0.3, 0.4, 0.7], \n",
    "                        [.9, 0.3, 0.3, 0.4, 0.7], \n",
    "                        [0.6, 0.4, 0.3, 0.4, 0.7]], requires_grad = True)\n",
    "target = torch.tensor([[1., 1, 0 ,1, 0], \n",
    "                    [1, 0, 0 ,1, 0], \n",
    "                    [0, 0, 0 ,1, 0]])\n",
    "\n",
    "print('inp\\n',inp, '\\n')\n",
    "print('target\\n',target, '\\n')\n",
    "\n",
    "print('inp.requires_grad:', inp.requires_grad, inp.shape)\n",
    "print('target.requires_grad:', target.requires_grad, target.shape)\n",
    "\n",
    "\n",
    "loss = FocalLoss(device = 'cpu', gamma = 2)"
   ]
  },
  {
   "cell_type": "code",
   "execution_count": null,
   "metadata": {},
   "outputs": [],
   "source": [
    "inp.shape"
   ]
  },
  {
   "cell_type": "code",
   "execution_count": null,
   "metadata": {},
   "outputs": [],
   "source": [
    "target.shape"
   ]
  },
  {
   "cell_type": "code",
   "execution_count": null,
   "metadata": {},
   "outputs": [],
   "source": [
    "loss(inp, target)"
   ]
  },
  {
   "cell_type": "code",
   "execution_count": null,
   "metadata": {},
   "outputs": [],
   "source": [
    "focal_loss, bce_loss = loss(inp ,target)\n",
    "print('\\nbce_loss',bce_loss, '\\n')\n",
    "print('\\nfocal_loss',focal_loss, '\\n')"
   ]
  },
  {
   "cell_type": "code",
   "execution_count": null,
   "metadata": {},
   "outputs": [],
   "source": [
    "from focal_loss_2 import *"
   ]
  },
  {
   "cell_type": "code",
   "execution_count": null,
   "metadata": {},
   "outputs": [],
   "source": [
    "loss2 = FocalLoss2d(weight=torch.zeros(5),reduction='mean',balance_param=1)"
   ]
  },
  {
   "cell_type": "code",
   "execution_count": null,
   "metadata": {},
   "outputs": [],
   "source": [
    "inp.shape"
   ]
  },
  {
   "cell_type": "code",
   "execution_count": null,
   "metadata": {},
   "outputs": [],
   "source": [
    "target.shape"
   ]
  },
  {
   "cell_type": "code",
   "execution_count": null,
   "metadata": {},
   "outputs": [],
   "source": [
    "loss2(inp, target)"
   ]
  },
  {
   "cell_type": "code",
   "execution_count": null,
   "metadata": {},
   "outputs": [],
   "source": []
  },
  {
   "cell_type": "code",
   "execution_count": null,
   "metadata": {},
   "outputs": [],
   "source": []
  }
 ],
 "metadata": {
  "language_info": {
   "name": "python",
   "pygments_lexer": "ipython3"
  }
 },
 "nbformat": 4,
 "nbformat_minor": 4
}
