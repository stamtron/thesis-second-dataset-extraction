{
 "cells": [
  {
   "cell_type": "code",
   "execution_count": 1,
   "metadata": {},
   "outputs": [],
   "source": [
    "import pickle\n",
    "import matplotlib.pyplot as plt"
   ]
  },
  {
   "cell_type": "code",
   "execution_count": 2,
   "metadata": {},
   "outputs": [],
   "source": [
    "plt.rcParams['figure.figsize'] = (12,4)\n",
    "font = {'family' : 'DejaVu Sans',  'weight' : 'normal',  'size'  : 14}\n",
    "plt.rc('font', **font)"
   ]
  },
  {
   "cell_type": "code",
   "execution_count": 3,
   "metadata": {},
   "outputs": [
    {
     "data": {
      "text/plain": [
       "[0.6715469081101907,\n",
       " 0.3240223463687151,\n",
       " 0.13870159892120978,\n",
       " 0.13870159892120978,\n",
       " 0.138508957811597,\n",
       " 0.13831631670198422,\n",
       " 0.138508957811597]"
      ]
     },
     "execution_count": 3,
     "metadata": {},
     "output_type": "execute_result"
    }
   ],
   "source": [
    "file = open('resnet_lstm_train_acc.txt', 'rb')\n",
    "\n",
    "# dump information to that file\n",
    "train_acc = pickle.load(file)\n",
    "\n",
    "# close the file\n",
    "file.close()\n",
    "train_acc"
   ]
  },
  {
   "cell_type": "code",
   "execution_count": 4,
   "metadata": {},
   "outputs": [
    {
     "data": {
      "text/plain": [
       "[0.7717844988120467,\n",
       " 0.6083477814165544,\n",
       " 0.5081872471585437,\n",
       " 0.5085725293777692,\n",
       " 0.5078661786425224,\n",
       " 0.5080588197521352,\n",
       " 0.5079946060489308]"
      ]
     },
     "execution_count": 4,
     "metadata": {},
     "output_type": "execute_result"
    }
   ],
   "source": [
    "file = open('resnet_lstm_train_f1.txt', 'rb')\n",
    "\n",
    "# dump information to that file\n",
    "train_f1 = pickle.load(file)\n",
    "\n",
    "# close the file\n",
    "file.close()\n",
    "train_f1"
   ]
  },
  {
   "cell_type": "code",
   "execution_count": 5,
   "metadata": {},
   "outputs": [
    {
     "data": {
      "text/plain": [
       "[0.6031916924603204,\n",
       " 0.6696051573895737,\n",
       " 0.6668680323683626,\n",
       " 0.6499923510579929,\n",
       " 0.635623616626602,\n",
       " 0.6246328388788043,\n",
       " 0.617023097644351]"
      ]
     },
     "execution_count": 5,
     "metadata": {},
     "output_type": "execute_result"
    }
   ],
   "source": [
    "file = open('resnet_lstm_train_losses.txt', 'rb')\n",
    "\n",
    "# dump information to that file\n",
    "train_loss = pickle.load(file)\n",
    "\n",
    "# close the file\n",
    "file.close()\n",
    "train_loss"
   ]
  },
  {
   "cell_type": "code",
   "execution_count": 6,
   "metadata": {},
   "outputs": [
    {
     "data": {
      "text/plain": [
       "[0.6331652635968598,\n",
       " 0.6746109242476932,\n",
       " 0.6581567842545617,\n",
       " 0.6421568394166568,\n",
       " 0.6294642687073518,\n",
       " 0.620226947311904,\n",
       " 0.6142009043597091]"
      ]
     },
     "execution_count": 6,
     "metadata": {},
     "output_type": "execute_result"
    }
   ],
   "source": [
    "file = open('resnet_lstm_val_losses.txt', 'rb')\n",
    "\n",
    "# dump information to that file\n",
    "val_loss = pickle.load(file)\n",
    "\n",
    "# close the file\n",
    "file.close()\n",
    "val_loss"
   ]
  },
  {
   "cell_type": "code",
   "execution_count": 7,
   "metadata": {},
   "outputs": [
    {
     "data": {
      "text/plain": [
       "[0.6357156617222115,\n",
       " 0.13831631670198422,\n",
       " 0.138508957811597,\n",
       " 0.13831631670198422,\n",
       " 0.13870159892120978,\n",
       " 0.138508957811597,\n",
       " 0.138508957811597]"
      ]
     },
     "execution_count": 7,
     "metadata": {},
     "output_type": "execute_result"
    }
   ],
   "source": [
    "file = open('resnet_lstm_val_acc.txt', 'rb')\n",
    "\n",
    "# dump information to that file\n",
    "val_acc = pickle.load(file)\n",
    "\n",
    "# close the file\n",
    "file.close()\n",
    "val_acc"
   ]
  },
  {
   "cell_type": "code",
   "execution_count": 8,
   "metadata": {},
   "outputs": [
    {
     "data": {
      "text/plain": [
       "[0.7588390162460669,\n",
       " 0.5081872471585437,\n",
       " 0.5083798882681564,\n",
       " 0.5080588197521352,\n",
       " 0.5083156745649521,\n",
       " 0.5082514608617479,\n",
       " 0.5081230334553393]"
      ]
     },
     "execution_count": 8,
     "metadata": {},
     "output_type": "execute_result"
    }
   ],
   "source": [
    "file = open('resnet_lstm_val_f1.txt', 'rb')\n",
    "\n",
    "# dump information to that file\n",
    "val_f1 = pickle.load(file)\n",
    "\n",
    "# close the file\n",
    "file.close()\n",
    "val_f1"
   ]
  },
  {
   "cell_type": "code",
   "execution_count": 9,
   "metadata": {},
   "outputs": [
    {
     "data": {
      "text/plain": [
       "<Figure size 864x288 with 0 Axes>"
      ]
     },
     "metadata": {},
     "output_type": "display_data"
    },
    {
     "data": {
      "image/png": "[encoded data removed]",
      "text/plain": [
       "<Figure size 864x288 with 2 Axes>"
      ]
     },
     "metadata": {
      "needs_background": "light"
     },
     "output_type": "display_data"
    }
   ],
   "source": [
    "plt.figure(1)\n",
    "fig, (ax0, ax1) = plt.subplots(1,2)\n",
    "#ax1 = a.subplot(121)\n",
    "l1 = ax0.plot(train_loss)\n",
    "l2 = ax0.plot(val_loss)\n",
    "ax0.set_ylim([0.1, 0.9])\n",
    "ax0.legend(('train_loss', 'val_loss'), loc='upper right')\n",
    "#ax2 = plt.subplot(122)\n",
    "l3 = ax1.plot(train_acc)\n",
    "l4 = ax1.plot(val_acc)\n",
    "l5 = ax1.plot(train_f1)\n",
    "l6 = ax1.plot(val_f1)\n",
    "ax1.set_ylim([0.1, 1])\n",
    "ax1.legend(('train_acc', 'val_acc', 'train_f1', 'val_f1'), loc='lower right')\n",
    "plt.show()"
   ]
  },
  {
   "cell_type": "code",
   "execution_count": null,
   "metadata": {},
   "outputs": [],
   "source": []
  },
  {
   "cell_type": "code",
   "execution_count": null,
   "metadata": {},
   "outputs": [],
   "source": []
  }
 ],
 "metadata": {
  "kernelspec": {
   "display_name": "Python 3",
   "language": "python",
   "name": "python3"
  },
  "language_info": {
   "codemirror_mode": {
    "name": "ipython",
    "version": 3
   },
   "file_extension": ".py",
   "mimetype": "text/x-python",
   "name": "python",
   "nbconvert_exporter": "python",
   "pygments_lexer": "ipython3",
   "version": "3.7.7"
  }
 },
 "nbformat": 4,
 "nbformat_minor": 4
}
