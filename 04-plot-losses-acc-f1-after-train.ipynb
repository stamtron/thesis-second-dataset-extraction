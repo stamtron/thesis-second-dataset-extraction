{
 "cells": [
  {
   "cell_type": "code",
   "execution_count": null,
   "metadata": {},
   "outputs": [],
   "source": [
    "import pickle\n",
    "import matplotlib.pyplot as plt"
   ]
  },
  {
   "cell_type": "code",
   "execution_count": null,
   "metadata": {},
   "outputs": [],
   "source": [
    "plt.rcParams['figure.figsize'] = (12,4)\n",
    "font = {'family' : 'DejaVu Sans',  'weight' : 'normal',  'size'  : 14}\n",
    "plt.rc('font', **font)"
   ]
  },
  {
   "cell_type": "code",
   "execution_count": null,
   "metadata": {},
   "outputs": [],
   "source": [
    "file = open('resnet_3d_train_acc.txt', 'rb')\n",
    "\n",
    "# dump information to that file\n",
    "train_acc = pickle.load(file)\n",
    "\n",
    "# close the file\n",
    "file.close()\n",
    "train_acc"
   ]
  },
  {
   "cell_type": "code",
   "execution_count": null,
   "metadata": {},
   "outputs": [],
   "source": [
    "file = open('resnet_3d_train_f1.txt', 'rb')\n",
    "\n",
    "# dump information to that file\n",
    "train_f1 = pickle.load(file)\n",
    "\n",
    "# close the file\n",
    "file.close()\n",
    "train_f1"
   ]
  },
  {
   "cell_type": "code",
   "execution_count": null,
   "metadata": {},
   "outputs": [],
   "source": [
    "file = open('resnet_3d_train_losses.txt', 'rb')\n",
    "\n",
    "# dump information to that file\n",
    "train_loss = pickle.load(file)\n",
    "\n",
    "# close the file\n",
    "file.close()\n",
    "train_loss"
   ]
  },
  {
   "cell_type": "code",
   "execution_count": null,
   "metadata": {},
   "outputs": [],
   "source": [
    "file = open('resnet_3d_val_losses.txt', 'rb')\n",
    "\n",
    "# dump information to that file\n",
    "val_loss = pickle.load(file)\n",
    "\n",
    "# close the file\n",
    "file.close()\n",
    "val_loss"
   ]
  },
  {
   "cell_type": "code",
   "execution_count": null,
   "metadata": {},
   "outputs": [],
   "source": [
    "file = open('resnet_3d_val_acc.txt', 'rb')\n",
    "\n",
    "# dump information to that file\n",
    "val_acc = pickle.load(file)\n",
    "\n",
    "# close the file\n",
    "file.close()\n",
    "val_acc"
   ]
  },
  {
   "cell_type": "code",
   "execution_count": null,
   "metadata": {},
   "outputs": [],
   "source": [
    "file = open('resnet_3d_val_f1.txt', 'rb')\n",
    "\n",
    "# dump information to that file\n",
    "val_f1 = pickle.load(file)\n",
    "\n",
    "# close the file\n",
    "file.close()\n",
    "val_f1"
   ]
  },
  {
   "cell_type": "code",
   "execution_count": null,
   "metadata": {},
   "outputs": [],
   "source": [
    "plt.figure(1)\n",
    "fig, (ax0, ax1) = plt.subplots(1,2)\n",
    "#ax1 = a.subplot(121)\n",
    "l1 = ax0.plot(train_loss)\n",
    "l2 = ax0.plot(val_loss)\n",
    "ax0.set_ylim([0.1, 0.9])\n",
    "ax0.legend(('train_loss', 'val_loss'), loc='upper right')\n",
    "#ax2 = plt.subplot(122)\n",
    "l3 = ax1.plot(train_acc)\n",
    "l4 = ax1.plot(val_acc)\n",
    "l5 = ax1.plot(train_f1)\n",
    "l6 = ax1.plot(val_f1)\n",
    "ax1.set_ylim([0.1, 1])\n",
    "ax1.legend(('train_acc', 'val_acc', 'train_f1', 'val_f1'), loc='lower right')\n",
    "plt.show()"
   ]
  },
  {
   "cell_type": "code",
   "execution_count": null,
   "metadata": {},
   "outputs": [],
   "source": []
  },
  {
   "cell_type": "code",
   "execution_count": null,
   "metadata": {},
   "outputs": [],
   "source": []
  }
 ],
 "metadata": {
  "language_info": {
   "name": "python",
   "pygments_lexer": "ipython3"
  }
 },
 "nbformat": 4,
 "nbformat_minor": 4
}
