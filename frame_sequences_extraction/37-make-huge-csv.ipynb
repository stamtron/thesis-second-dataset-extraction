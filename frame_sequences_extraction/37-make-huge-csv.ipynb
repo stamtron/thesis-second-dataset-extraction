{
 "cells": [
  {
   "cell_type": "code",
   "execution_count": 4,
   "metadata": {},
   "outputs": [],
   "source": [
    "import os\n",
    "import pandas as pd\n",
    "import datetime as dt\n",
    "import csv\n",
    "from pathlib import Path"
   ]
  },
  {
   "cell_type": "code",
   "execution_count": 5,
   "metadata": {},
   "outputs": [],
   "source": [
    "p = Path('/media/data/astamoulakatos/Survey-2-2012/Project 1/IC2/')"
   ]
  },
  {
   "cell_type": "code",
   "execution_count": 6,
   "metadata": {},
   "outputs": [
    {
     "data": {
      "text/plain": [
       "[]"
      ]
     },
     "execution_count": 6,
     "metadata": {},
     "output_type": "execute_result"
    }
   ],
   "source": [
    "folder_list = list(p.glob('*')); folder_list"
   ]
  },
  {
   "cell_type": "code",
   "execution_count": null,
   "metadata": {},
   "outputs": [],
   "source": [
    "for f in folder_list:\n",
    "    video_list = list(f.glob('*'))\n",
    "    dflist = pd.DataFrame()\n",
    "    output = pd.DataFrame()\n",
    "    failures = []\n",
    "    for v in video_list:\n",
    "        try:\n",
    "            video_files = list(v.glob('*.mpg' or '*.asf'))\n",
    "            events_file = list(v.glob('*.csv'))\n",
    "            if events_file == []:\n",
    "                continue\n",
    "            else:\n",
    "                event = events_file[0]\n",
    "            df = pd.read_csv(event, encoding = 'ISO-8859-1')\n",
    "            dflist = dflist.append(df)\n",
    "            num_events = df.index.size\n",
    "            video1 = [vi.parts[-1] for vi in video_files if 'Ch1' in vi.parts[-1]][0]\n",
    "            video2 = [vi.parts[-1] for vi in video_files if 'Ch2' in vi.parts[-1]][0]\n",
    "            video3 = [vi.parts[-1] for vi in video_files if 'Ch3' in vi.parts[-1]][0]\n",
    "            for i in range(num_events):\n",
    "                output = output.append({\n",
    "                    'folder': v.parts[-1],\n",
    "                    'video1': video1,\n",
    "                    'video2': video2,\n",
    "                    'video3': video3\n",
    "                }, ignore_index=True)\n",
    "            final_df = pd.concat([output.reset_index(drop=True),dflist.reset_index(drop=True)], axis=1)\n",
    "        except Exception as E:\n",
    "            failures.append(f)\n",
    "            print(\"failure in {f}: {E}\".format(f=f, E=E))\n"
   ]
  },
  {
   "cell_type": "code",
   "execution_count": null,
   "metadata": {},
   "outputs": [],
   "source": [
    "final_df"
   ]
  },
  {
   "cell_type": "code",
   "execution_count": null,
   "metadata": {},
   "outputs": [],
   "source": [
    "path = '/media/data/astamoulakatos/Survey-2-2012/Project 1/IC2/'\n",
    "folder_list = os.listdir(path)\n",
    "folder_list"
   ]
  },
  {
   "cell_type": "code",
   "execution_count": null,
   "metadata": {},
   "outputs": [],
   "source": [
    "for f in folder_list:\n",
    "    new_path = os.path.join(path,f)\n",
    "    #print(new_path)\n",
    "    new_folder_list = os.listdir(new_path)\n",
    "    #print(new_folder_list[0:2])\n",
    "    output = pd.DataFrame()\n",
    "    df = pd.DataFrame()\n",
    "    failures = []\n",
    "    dflist = pd.DataFrame()\n",
    "    for n in new_folder_list:\n",
    "        try:\n",
    "            new_new_path = os.path.join(new_path, n)\n",
    "            file_list = os.listdir(new_new_path)\n",
    "            video_list = [] \n",
    "\n",
    "            if 'Events.csv' not in file_list:\n",
    "                continue\n",
    "            df = pd.read_csv(os.path.join(new_path, n, 'Events.csv'), encoding = 'ISO-8859-1')\n",
    "            dflist = dflist.append(df)\n",
    "            num_events = df.index.size\n",
    "            #print(num_events)\n",
    "    #         print([v for v in file_list if 'Ch1' in v])\n",
    "            video1 = [v for v in file_list if 'Ch1' in v][0]\n",
    "            video2 = [v for v in file_list if 'Ch2' in v][0]\n",
    "            video3 = [v for v in file_list if 'Ch3' in v][0]\n",
    "            for i in range(num_events):\n",
    "                output = output.append({\n",
    "                    'folder': n,\n",
    "                    'video1': video1,\n",
    "                    'video2': video2,\n",
    "                    'video3': video3\n",
    "                }, ignore_index=True)\n",
    "            final_df = pd.concat([output.reset_index(drop=True),dflist.reset_index(drop=True)], axis=1)\n",
    "        except Exception as E:\n",
    "            failures.append(f)\n",
    "            print(\"failure in {f}: {E}\".format(f=f, E=E))\n",
    "\n",
    "    output = output[['folder', 'video1', 'video2', 'video3']]"
   ]
  },
  {
   "cell_type": "code",
   "execution_count": null,
   "metadata": {},
   "outputs": [],
   "source": [
    "final_df"
   ]
  },
  {
   "cell_type": "code",
   "execution_count": null,
   "metadata": {},
   "outputs": [],
   "source": [
    "output.head()"
   ]
  },
  {
   "cell_type": "code",
   "execution_count": null,
   "metadata": {},
   "outputs": [],
   "source": [
    "video1 = final_df['video1'].tolist()\n",
    "video2 = final_df['video2'].tolist()\n",
    "video3 = final_df['video3'].tolist()\n",
    "timestamps = final_df['VWTimestamp'].tolist()\n"
   ]
  },
  {
   "cell_type": "code",
   "execution_count": null,
   "metadata": {},
   "outputs": [],
   "source": [
    "path ='/media/scratch/astamoulakatos/new_nsea_data/BGE2012_-_IC2/Videos/IC2/'\n",
    "folder_list = os.listdir(path)\n",
    "folder_list"
   ]
  },
  {
   "cell_type": "code",
   "execution_count": null,
   "metadata": {},
   "outputs": [],
   "source": [
    "for f in folder_list:\n",
    "    new_path = os.path.join(path,f)\n",
    "    #print(new_path)\n",
    "    new_folder_list = os.listdir(new_path)\n",
    "    #print(new_folder_list[0:2])\n",
    "    #output = pd.DataFrame()\n",
    "    df = pd.DataFrame()\n",
    "    failures = []\n",
    "    dflist = pd.DataFrame()\n",
    "    output = pd.DataFrame()\n",
    "    for n in new_folder_list:\n",
    "        try:\n",
    "            new_new_path = os.path.join(new_path, n)\n",
    "            file_list = os.listdir(new_new_path)\n",
    "            video_list = [] \n",
    "\n",
    "            if 'Events.csv' not in file_list:\n",
    "                continue\n",
    "            df = pd.read_csv(os.path.join(new_path, n, 'Events.csv'), encoding = 'ISO-8859-1')\n",
    "            dflist = dflist.append(df)\n",
    "            num_events = df.index.size\n",
    "            for i in range(num_events):\n",
    "                output = output.append({\n",
    "                    'folder': n\n",
    "                }, ignore_index=True)\n",
    "            \n",
    "            final_df_new = pd.concat([output.reset_index(drop=True),dflist.reset_index(drop=True)], axis=1)\n",
    "        except Exception as E:\n",
    "            failures.append(f)\n",
    "            print(\"failure in {f}: {E}\".format(f=f, E=E))\n",
    "            \n",
    "    folder = final_df_new['folder'].tolist()\n",
    "    timestamps = final_df_new['VWTimestamp'].tolist()\n",
    "\n",
    "    start = []\n",
    "    for i in range(len(folder)):\n",
    "        v = folder[i][5:25]\n",
    "        start.append(v)\n",
    "\n",
    "    offset = []\n",
    "    for i in range(len(start)):\n",
    "        a = dt.datetime(int(start[i][0:4]),int(start[i][4:6]),int(start[i][6:8]),\n",
    "                        int(start[i][8:10]),int(start[i][10:12]),int(start[i][12:14]),int(start[i][14:17])*1000)\n",
    "        b = dflist.iat[i,0]\n",
    "        b = str(b)\n",
    "        b = dt.datetime(int(b[0:4]),int(b[4:6]),int(b[6:8]), int(b[8:10]),int(b[10:12]),int(b[12:14]),int(b[14:17])*1000)\n",
    "\n",
    "        offset.append((b-a).total_seconds())\n",
    "\n",
    "\n",
    "    complete_csv = pd.DataFrame()\n",
    "    complete_csv = final_df_new\n",
    "\n",
    "    complete_csv.insert(loc = 2, column = 'offset', value = offset)\n",
    "    complete_csv.to_csv('./csv_for_frame_extraction/csv_for_folder_'+f+'.csv', index=False)\n",
    "    #complete_csv.head()"
   ]
  },
  {
   "cell_type": "code",
   "execution_count": null,
   "metadata": {},
   "outputs": [],
   "source": []
  }
 ],
 "metadata": {
  "kernelspec": {
   "display_name": "Python 3",
   "language": "python",
   "name": "python3"
  },
  "language_info": {
   "codemirror_mode": {
    "name": "ipython",
    "version": 3
   },
   "file_extension": ".py",
   "mimetype": "text/x-python",
   "name": "python",
   "nbconvert_exporter": "python",
   "pygments_lexer": "ipython3",
   "version": "3.7.7"
  }
 },
 "nbformat": 4,
 "nbformat_minor": 4
}
