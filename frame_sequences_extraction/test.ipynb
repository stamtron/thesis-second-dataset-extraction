{
 "cells": [
  {
   "cell_type": "code",
   "execution_count": null,
   "metadata": {},
   "outputs": [],
   "source": [
    "import sys\n",
    "sys.path.append('./helpers_dataset_extraction/')"
   ]
  },
  {
   "cell_type": "code",
   "execution_count": null,
   "metadata": {},
   "outputs": [],
   "source": [
    "%matplotlib inline\n",
    "%reload_ext autoreload\n",
    "%autoreload 2"
   ]
  },
  {
   "cell_type": "code",
   "execution_count": null,
   "metadata": {},
   "outputs": [],
   "source": [
    "from new_extraction_function import *\n",
    "from helpers_frame_extraction import *"
   ]
  },
  {
   "cell_type": "code",
   "execution_count": null,
   "metadata": {},
   "outputs": [],
   "source": [
    "from dataframe_helper import *"
   ]
  },
  {
   "cell_type": "code",
   "execution_count": null,
   "metadata": {},
   "outputs": [],
   "source": [
    "df = pd.read_csv('../test_csv_for_bur.csv')"
   ]
  },
  {
   "cell_type": "code",
   "execution_count": null,
   "metadata": {},
   "outputs": [],
   "source": [
    "videos = Path('/media/data/astamoulakatos/Survey-2-2012/Project 1/IC2/KP130.417-145.077_A/')"
   ]
  },
  {
   "cell_type": "code",
   "execution_count": null,
   "metadata": {},
   "outputs": [],
   "source": [
    "videos = videos / df['folder'][0]; videos"
   ]
  },
  {
   "cell_type": "code",
   "execution_count": null,
   "metadata": {},
   "outputs": [],
   "source": [
    "video_paths = list(videos.glob('*')); video_paths"
   ]
  },
  {
   "cell_type": "code",
   "execution_count": null,
   "metadata": {},
   "outputs": [],
   "source": [
    "df = convert_to_ms(df)\n",
    "df"
   ]
  },
  {
   "cell_type": "code",
   "execution_count": null,
   "metadata": {},
   "outputs": [],
   "source": [
    "codes = ['EXE','EXS','SUS','SUE','FJ','AN']\n",
    "df_new = df[df['Observation Code'].isin(codes)]\n",
    "df_new = df_new.reset_index(drop=True); df_new"
   ]
  },
  {
   "cell_type": "code",
   "execution_count": null,
   "metadata": {},
   "outputs": [],
   "source": [
    "path = '/media/scratch/astamoulakatos/nsea_frame_test/'\n",
    "for k in tqdm(range(0,len(df_new)-1)): \n",
    "    for i in range(len(video_paths)):\n",
    "        if 'Ch2' in video_paths[i].parts[-1]:\n",
    "            ch2_video = video_paths[i]\n",
    "        if 'Ch1' in video_paths[i].parts[-1]:\n",
    "            ch1_video = video_paths[i]\n",
    "        if 'Ch3' in video_paths[i].parts[-1]:\n",
    "            ch3_video = video_paths[i]\n",
    "                \n",
    "    if (df_new['KP'][k] < df_new['KP'][k+1]):\n",
    "        if (df_new['Observation Code'][k] == 'EXE') and (df_new['Observation Code'][k+1] == 'EXS'):\n",
    "            path_to_save = path + 'centre_Ch2/bur/'\n",
    "            start = df_new['offset_Ch2'][k]\n",
    "            stop = df_new['offset_Ch2'][k+1]\n",
    "            extract_frames(str(ch2_video), path_to_save, 2, start, stop, nframes=None)      \n",
    "            path_to_save = path + 'left_port_Ch1/bur/'\n",
    "            start = df_new['offset_Ch1'][k]\n",
    "            stop = df_new['offset_Ch1'][k+1]\n",
    "            extract_frames(str(ch1_video), path_to_save, 1, start, stop, nframes=None)\n",
    "            path_to_save = path + 'right_starboard_Ch3/bur/'\n",
    "            start = df_new['offset_Ch3'][k]\n",
    "            stop = df_new['offset_Ch3'][k+1]\n",
    "            extract_frames(str(ch3_video), path_to_save, 3, start, stop, nframes=None)     \n",
    "    else:\n",
    "        if (df_new['Observation Code'][k] == 'EXS') and (df_new['Observation Code'][k+1] == 'EXE'):\n",
    "            path_to_save = path + 'centre_Ch2/bur/'\n",
    "            start = df_new['offset_Ch2'][k+1]\n",
    "            stop = df_new['offset_Ch2'][k]\n",
    "            extract_frames(str(ch2_video), path_to_save, 2, start, stop, nframes=None)      \n",
    "            path_to_save = path + 'left_port_Ch1/bur/'\n",
    "            start = df_new['offset_Ch1'][k+1]\n",
    "            stop = df_new['offset_Ch1'][k]\n",
    "            extract_frames(str(ch1_video), path_to_save, 1, start, stop, nframes=None)      \n",
    "            path_to_save = path + 'right_starboard_Ch3/bur/'\n",
    "            start = df_new['offset_Ch3'][k+1]\n",
    "            stop = df_new['offset_Ch3'][k]\n",
    "            extract_frames(str(ch3_video), path_to_save, 3, start, stop, nframes=None)   "
   ]
  },
  {
   "cell_type": "code",
   "execution_count": null,
   "metadata": {},
   "outputs": [],
   "source": [
    "ch2_video"
   ]
  },
  {
   "cell_type": "code",
   "execution_count": null,
   "metadata": {},
   "outputs": [],
   "source": [
    "video = str(video_paths[0])"
   ]
  },
  {
   "cell_type": "code",
   "execution_count": null,
   "metadata": {},
   "outputs": [],
   "source": [
    "video"
   ]
  },
  {
   "cell_type": "code",
   "execution_count": null,
   "metadata": {},
   "outputs": [],
   "source": [
    "cap = cv2.VideoCapture(video)\n",
    "if not cap.isOpened():\n",
    "    print(\"Error opening video\")"
   ]
  },
  {
   "cell_type": "code",
   "execution_count": null,
   "metadata": {},
   "outputs": [],
   "source": [
    "cap"
   ]
  },
  {
   "cell_type": "code",
   "execution_count": null,
   "metadata": {},
   "outputs": [],
   "source": [
    "start = 402565"
   ]
  },
  {
   "cell_type": "code",
   "execution_count": null,
   "metadata": {},
   "outputs": [],
   "source": [
    "cap.set(cv2.CAP_PROP_POS_MSEC, start)"
   ]
  },
  {
   "cell_type": "code",
   "execution_count": null,
   "metadata": {},
   "outputs": [],
   "source": [
    "cap.get(cv2.CAP_PROP_POS_FRAMES)"
   ]
  },
  {
   "cell_type": "code",
   "execution_count": null,
   "metadata": {},
   "outputs": [],
   "source": [
    "start_frame = start*25/1000; start_frame"
   ]
  },
  {
   "cell_type": "code",
   "execution_count": null,
   "metadata": {},
   "outputs": [],
   "source": []
  },
  {
   "cell_type": "code",
   "execution_count": null,
   "metadata": {},
   "outputs": [],
   "source": [
    "cap.set(cv2.CAP_PROP_POS_FRAMES, start_frame)"
   ]
  },
  {
   "cell_type": "code",
   "execution_count": null,
   "metadata": {},
   "outputs": [],
   "source": [
    "cap.get(cv2.CAP_PROP_POS_FRAMES)"
   ]
  },
  {
   "cell_type": "code",
   "execution_count": null,
   "metadata": {},
   "outputs": [],
   "source": [
    "cap.get(cv2.CAP_PROP_FPS)"
   ]
  },
  {
   "cell_type": "code",
   "execution_count": null,
   "metadata": {},
   "outputs": [],
   "source": [
    "start_frames = start * 25.0 / 1000.0"
   ]
  },
  {
   "cell_type": "code",
   "execution_count": null,
   "metadata": {},
   "outputs": [],
   "source": [
    "start_frames"
   ]
  },
  {
   "cell_type": "code",
   "execution_count": null,
   "metadata": {},
   "outputs": [],
   "source": [
    "cap.set(cv2.CAP_PROP_POS_MSEC, start)\n",
    "cap.get(cv2.CAP_PROP_POS_FRAMES)"
   ]
  },
  {
   "cell_type": "code",
   "execution_count": null,
   "metadata": {},
   "outputs": [],
   "source": [
    "stop"
   ]
  },
  {
   "cell_type": "code",
   "execution_count": null,
   "metadata": {},
   "outputs": [],
   "source": [
    "cap.set(cv2.CAP_PROP_POS_FRAMES, start_frame+1)\n",
    "cap.get(cv2.CAP_PROP_POS_FRAMES)"
   ]
  },
  {
   "cell_type": "code",
   "execution_count": null,
   "metadata": {},
   "outputs": [],
   "source": [
    "cap.set(cv2.CAP_PROP_POS_FRAMES, 10064+1)"
   ]
  },
  {
   "cell_type": "code",
   "execution_count": null,
   "metadata": {},
   "outputs": [],
   "source": [
    "cap.get(cv2.CAP_PROP_POS_FRAMES)"
   ]
  },
  {
   "cell_type": "code",
   "execution_count": null,
   "metadata": {},
   "outputs": [],
   "source": [
    "suc,im = cap.read()"
   ]
  },
  {
   "cell_type": "code",
   "execution_count": null,
   "metadata": {},
   "outputs": [],
   "source": [
    "plt.imshow(im)"
   ]
  },
  {
   "cell_type": "code",
   "execution_count": null,
   "metadata": {},
   "outputs": [],
   "source": [
    "counter = 10"
   ]
  },
  {
   "cell_type": "code",
   "execution_count": null,
   "metadata": {},
   "outputs": [],
   "source": [
    "stop_frame = 10167"
   ]
  },
  {
   "cell_type": "code",
   "execution_count": null,
   "metadata": {},
   "outputs": [],
   "source": [
    "start_frame = 10064"
   ]
  },
  {
   "cell_type": "code",
   "execution_count": null,
   "metadata": {},
   "outputs": [],
   "source": [
    "cap.set(cv2.CAP_PROP_POS_FRAMES, start_frame+1)"
   ]
  },
  {
   "cell_type": "code",
   "execution_count": null,
   "metadata": {},
   "outputs": [],
   "source": [
    "cap.get(cv2.CAP_PROP_POS_FRAMES) "
   ]
  },
  {
   "cell_type": "code",
   "execution_count": null,
   "metadata": {},
   "outputs": [],
   "source": [
    "counter"
   ]
  },
  {
   "cell_type": "code",
   "execution_count": null,
   "metadata": {},
   "outputs": [],
   "source": [
    "while( (cap.get(cv2.CAP_PROP_POS_FRAMES) + counter) < stop_frame ):\n",
    "    cap.set(cv2.CAP_PROP_POS_FRAMES, start+counter)\n",
    "    suc,im = cap.read()\n",
    "    assert (suc==False),\"failed to read the video file\"\n",
    "    print(im)\n",
    "    print(path_to_save)\n",
    "    #cv2.imwrite('/media/scratch/astamoulakatos/nsea_frame_test/frame.png', im)\n",
    "    cv2.imwrite(path_to_save + 'frame' + '{:06d}'.format(counter) + '.png', im)  \n",
    "    counter = counter + 1"
   ]
  },
  {
   "cell_type": "code",
   "execution_count": null,
   "metadata": {},
   "outputs": [],
   "source": [
    "cv2.imwrite(path_to_save + 'frame' + '{:06d}'.format(counter) + '.png', im)  "
   ]
  },
  {
   "cell_type": "code",
   "execution_count": null,
   "metadata": {},
   "outputs": [],
   "source": [
    "frames = np.arange(start_frame, stop_frame)"
   ]
  },
  {
   "cell_type": "code",
   "execution_count": null,
   "metadata": {},
   "outputs": [],
   "source": [
    "frames"
   ]
  },
  {
   "cell_type": "code",
   "execution_count": null,
   "metadata": {},
   "outputs": [],
   "source": [
    "for j in range(len(frames)):\n",
    "    cap.set(cv2.CAP_PROP_POS_FRAMES, frames[j])\n",
    "    suc,im = cap.read()\n",
    "    cv2.imwrite(path_to_save + 'frame' + '{:06d}'.format(j) + '.png', im)"
   ]
  },
  {
   "cell_type": "code",
   "execution_count": null,
   "metadata": {},
   "outputs": [],
   "source": [
    "x = None"
   ]
  },
  {
   "cell_type": "code",
   "execution_count": null,
   "metadata": {},
   "outputs": [],
   "source": [
    "x != None"
   ]
  },
  {
   "cell_type": "code",
   "execution_count": null,
   "metadata": {},
   "outputs": [],
   "source": [
    "cap.set(cv2.CAP_PROP_POS_FRAMES, start_frame)"
   ]
  },
  {
   "cell_type": "code",
   "execution_count": null,
   "metadata": {},
   "outputs": [],
   "source": [
    "cap.get(cv2.CAP_PROP_POS_FRAMES)<stop_frame"
   ]
  },
  {
   "cell_type": "code",
   "execution_count": null,
   "metadata": {},
   "outputs": [],
   "source": []
  }
 ],
 "metadata": {
  "language_info": {
   "name": "python",
   "pygments_lexer": "ipython3"
  }
 },
 "nbformat": 4,
 "nbformat_minor": 4
}
