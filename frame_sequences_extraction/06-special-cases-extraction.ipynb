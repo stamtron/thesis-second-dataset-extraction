{
 "cells": [
  {
   "cell_type": "code",
   "execution_count": null,
   "metadata": {},
   "outputs": [],
   "source": [
    "import sys"
   ]
  },
  {
   "cell_type": "code",
   "execution_count": null,
   "metadata": {},
   "outputs": [],
   "source": [
    "sys.path.append('../helpers/')"
   ]
  },
  {
   "cell_type": "code",
   "execution_count": null,
   "metadata": {},
   "outputs": [],
   "source": [
    "from helpers_frame_extraction import *"
   ]
  },
  {
   "cell_type": "code",
   "execution_count": null,
   "metadata": {},
   "outputs": [],
   "source": [
    "%matplotlib inline\n",
    "%reload_ext autoreload\n",
    "%autoreload 2"
   ]
  },
  {
   "cell_type": "code",
   "execution_count": null,
   "metadata": {},
   "outputs": [],
   "source": [
    "df = pd.read_csv('../test_csv_fj_and_startend.csv')"
   ]
  },
  {
   "cell_type": "code",
   "execution_count": null,
   "metadata": {},
   "outputs": [],
   "source": [
    "df = fill_in_KP(df)"
   ]
  },
  {
   "cell_type": "code",
   "execution_count": null,
   "metadata": {},
   "outputs": [],
   "source": [
    "df.head()"
   ]
  },
  {
   "cell_type": "code",
   "execution_count": null,
   "metadata": {},
   "outputs": [],
   "source": [
    "codes = ['EXE','EXS','FJE','FJS','ANE', 'ANS','SUS','SUE']\n",
    "df_new = df[df['Observation Code'].isin(codes)]\n",
    "df_new = df_new.reset_index(drop=True); df_new"
   ]
  },
  {
   "cell_type": "markdown",
   "metadata": {},
   "source": [
    "# For Special Cases (anodes and fjs during free_spans)"
   ]
  },
  {
   "cell_type": "code",
   "execution_count": null,
   "metadata": {},
   "outputs": [],
   "source": [
    "folder_path = Path('/media/data/astamoulakatos/Survey-2-2012/Project 1/IC2/KP145.020-155.882_A')"
   ]
  },
  {
   "cell_type": "code",
   "execution_count": null,
   "metadata": {},
   "outputs": [],
   "source": [
    "videos = folder_path/ 'DATA_20121007084607641'#folders[10]"
   ]
  },
  {
   "cell_type": "code",
   "execution_count": null,
   "metadata": {},
   "outputs": [],
   "source": [
    "video_paths = list(videos.glob('*')); video_paths"
   ]
  },
  {
   "cell_type": "code",
   "execution_count": null,
   "metadata": {},
   "outputs": [],
   "source": [
    "df_new = df"
   ]
  },
  {
   "cell_type": "code",
   "execution_count": null,
   "metadata": {},
   "outputs": [],
   "source": [
    "for k in tqdm(range(0,len(df_new)-3)): \n",
    "    for i in range(len(video_paths)):\n",
    "        if 'Ch2' in video_paths[i].parts[-1]:\n",
    "            ch2_video = video_paths[i]\n",
    "        if 'Ch1' in video_paths[i].parts[-1]:\n",
    "            ch1_video = video_paths[i]\n",
    "        if 'Ch3' in video_paths[i].parts[-1]:\n",
    "            ch3_video = video_paths[i]\n",
    "    if (df_new['offset_Ch1'][k] < df_new['offset_Ch1'][k+1]):\n",
    "        if k >= 2:\n",
    "            if (df_new['Observation Code'][k] == 'ANS'): \n",
    "                if ((df_new['Observation Code'][k+1] == 'SUE' or df_new['Observation Code'][k+2] == 'SUE') and (df_new['Observation Code'][k-1] == 'SUS' or df_new['Observation Code'][k-2] == 'SUS')):\n",
    "                    path_to_save = '/media/scratch/astamoulakatos/nsea_frame_test/centre_Ch2/exp_fs_and/'\n",
    "                    frame_extraction_with_sns(str(ch2_video), path_to_save, k, df_new, 2, 'up')\n",
    "                    path_to_save = '/media/scratch/astamoulakatos/nsea_frame_test/left_port_Ch1/exp_fs_and/'\n",
    "                    frame_extraction_with_sns(str(ch1_video), path_to_save, k, df_new, 1, 'up')\n",
    "                    path_to_save = '/media/scratch/astamoulakatos/nsea_frame_test/right_starboard_Ch3/exp_fs_and/'\n",
    "                    frame_extraction_with_sns(str(ch3_video), path_to_save, k, df_new, 3, 'up')\n",
    "                else:\n",
    "                    path_to_save = '/media/scratch/astamoulakatos/nsea_frame_test/centre_Ch2/exp_and/'\n",
    "                    frame_extraction_with_sns(str(ch2_video), path_to_save, k, df_new, 2, 'up')\n",
    "                    path_to_save = '/media/scratch/astamoulakatos/nsea_frame_test/left_port_Ch1/exp_and/'\n",
    "                    frame_extraction_with_sns(str(ch1_video), path_to_save, k, df_new, 1, 'up')\n",
    "                    path_to_save = '/media/scratch/astamoulakatos/nsea_frame_test/right_starboard_Ch3/exp_and/'\n",
    "                    frame_extraction_with_sns(str(ch3_video), path_to_save, k, df_new, 3, 'up')\n",
    "                    \n",
    "            if (df_new['Observation Code'][k] == 'FJS'):\n",
    "                if ((df_new['Observation Code'][k+1] == 'SUE' or df_new['Observation Code'][k+2] == 'SUE') and (df_new['Observation Code'][k-1] == 'SUS' or df_new['Observation Code'][k-2] == 'SUS')):\n",
    "                    path_to_save = '/media/scratch/astamoulakatos/nsea_frame_test/centre_Ch2/exp_fs_fj/'\n",
    "                    frame_extraction_with_sns(str(ch2_video), path_to_save, k, df_new, 2, 'up')\n",
    "                    path_to_save = '/media/scratch/astamoulakatos/nsea_frame_test/left_port_Ch1/exp_fs_fj/'\n",
    "                    frame_extraction_with_sns(str(ch1_video), path_to_save, k, df_new, 1, 'up')\n",
    "                    path_to_save = '/media/scratch/astamoulakatos/nsea_frame_test/right_starboard_Ch3/exp_fs_fj/'\n",
    "                    frame_extraction_with_sns(str(ch3_video), path_to_save, k, df_new, 3, 'up')\n",
    "                else:\n",
    "                    path_to_save = '/media/scratch/astamoulakatos/nsea_frame_test/centre_Ch2/exp_fj/'\n",
    "                    frame_extraction_with_sns(str(ch2_video), path_to_save, k, df_new, 2, 'up')\n",
    "                    path_to_save = '/media/scratch/astamoulakatos/nsea_frame_test/left_port_Ch1/exp_fj/'\n",
    "                    frame_extraction_with_sns(str(ch1_video), path_to_save, k, df_new, 1, 'up')\n",
    "                    path_to_save = '/media/scratch/astamoulakatos/nsea_frame_test/right_starboard_Ch3/exp_fj/'\n",
    "                    frame_extraction_with_sns(str(ch3_video), path_to_save, k, df_new, 3, 'up')\n",
    "    else:\n",
    "        if k >= 2:\n",
    "            if (df_new['Observation Code'][k] == 'ANE'): \n",
    "                if ((df_new['Observation Code'][k+1] == 'SUS' or df_new['Observation Code'][k+2] == 'SUS') and (df_new['Observation Code'][k-1] == 'SUE' or df_new['Observation Code'][k-2] == 'SUE')):\n",
    "                    path_to_save = '/media/scratch/astamoulakatos/nsea_frame_test/centre_Ch2/exp_fs_and/'\n",
    "                    frame_extraction_with_sns(str(ch2_video), path_to_save, k, df_new, 2, 'down')\n",
    "                    path_to_save = '/media/scratch/astamoulakatos/nsea_frame_test/left_port_Ch1/exp_fs_and/'\n",
    "                    frame_extraction_with_sns(str(ch1_video), path_to_save, k, df_new, 1, 'down')\n",
    "                    path_to_save = '/media/scratch/astamoulakatos/nsea_frame_test/right_starboard_Ch3/exp_fs_and/'\n",
    "                    frame_extraction_with_sns(str(ch3_video), path_to_save, k, df_new, 3, 'down')\n",
    "                else:\n",
    "                    path_to_save = '/media/scratch/astamoulakatos/nsea_frame_test/centre_Ch2/exp_and/'\n",
    "                    frame_extraction_with_sns(str(ch2_video), path_to_save, k, df_new, 2, 'down')\n",
    "                    path_to_save = '/media/scratch/astamoulakatos/nsea_frame_test/left_port_Ch1/exp_and/'\n",
    "                    frame_extraction_with_sns(str(ch1_video), path_to_save, k, df_new, 1, 'down')\n",
    "                    path_to_save = '/media/scratch/astamoulakatos/nsea_frame_test/right_starboard_Ch3/exp_and/'\n",
    "                    frame_extraction_with_sns(str(ch3_video), path_to_save, k, df_new, 3, 'down')\n",
    "                    \n",
    "            if (df_new['Observation Code'][k] == 'FJE'):\n",
    "                if ((df_new['Observation Code'][k+1] == 'SUS' or df_new['Observation Code'][k+2] == 'SUS') and (df_new['Observation Code'][k-1] == 'SUE' or df_new['Observation Code'][k-2] == 'SUE')):                \n",
    "                    path_to_save = '/media/scratch/astamoulakatos/nsea_frame_test/centre_Ch2/exp_fs_fj/'\n",
    "                    frame_extraction_with_sns(str(ch2_video), path_to_save, k, df_new, 2, 'down')\n",
    "                    path_to_save = '/media/scratch/astamoulakatos/nsea_frame_test/left_port_Ch1/exp_fs_fj/'\n",
    "                    frame_extraction_with_sns(str(ch1_video), path_to_save, k, df_new, 1, 'down')\n",
    "                    path_to_save = '/media/scratch/astamoulakatos/nsea_frame_test/right_starboard_Ch3/exp_fs_fj/'\n",
    "                    frame_extraction_with_sns(str(ch3_video), path_to_save, k, df_new, 3, 'down')\n",
    "                else:\n",
    "                    path_to_save = '/media/scratch/astamoulakatos/nsea_frame_test/centre_Ch2/exp_fj/'\n",
    "                    frame_extraction_with_sns(str(ch2_video), path_to_save, k, df_new, 2, 'down')\n",
    "                    path_to_save = '/media/scratch/astamoulakatos/nsea_frame_test/left_port_Ch1/exp_fj/'\n",
    "                    frame_extraction_with_sns(str(ch1_video), path_to_save, k, df_new, 1, 'down')\n",
    "                    path_to_save = '/media/scratch/astamoulakatos/nsea_frame_test/right_starboard_Ch3/exp_fj/'\n",
    "                    frame_extraction_with_sns(str(ch3_video), path_to_save, k, df_new, 3, 'down')"
   ]
  },
  {
   "cell_type": "code",
   "execution_count": null,
   "metadata": {},
   "outputs": [],
   "source": []
  }
 ],
 "metadata": {
  "language_info": {
   "name": "python",
   "pygments_lexer": "ipython3"
  }
 },
 "nbformat": 4,
 "nbformat_minor": 4
}
