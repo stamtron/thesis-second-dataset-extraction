{
 "cells": [
  {
   "cell_type": "code",
   "execution_count": null,
   "metadata": {},
   "outputs": [],
   "source": [
    "from helpers_frame_extraction import *"
   ]
  },
  {
   "cell_type": "code",
   "execution_count": null,
   "metadata": {},
   "outputs": [],
   "source": [
    "%matplotlib inline\n",
    "%reload_ext autoreload\n",
    "%autoreload 2"
   ]
  },
  {
   "cell_type": "code",
   "execution_count": null,
   "metadata": {},
   "outputs": [],
   "source": [
    "df = pd.read_csv('test_csv_for_one_folder_fs.csv')"
   ]
  },
  {
   "cell_type": "code",
   "execution_count": null,
   "metadata": {},
   "outputs": [],
   "source": [
    "df = fill_in_KP(df)"
   ]
  },
  {
   "cell_type": "code",
   "execution_count": null,
   "metadata": {},
   "outputs": [],
   "source": [
    "df.head()"
   ]
  },
  {
   "cell_type": "markdown",
   "metadata": {},
   "source": [
    "# For Suspensions (Free Spans)"
   ]
  },
  {
   "cell_type": "code",
   "execution_count": null,
   "metadata": {},
   "outputs": [],
   "source": [
    "folder_path = Path('/media/data/astamoulakatos/Survey-2-2012/Project 1/IC2/KP078.553-119.732_A/')"
   ]
  },
  {
   "cell_type": "code",
   "execution_count": null,
   "metadata": {},
   "outputs": [],
   "source": [
    "videos = folder_path/ 'DATA_20121004184831937'#folders[10]"
   ]
  },
  {
   "cell_type": "code",
   "execution_count": null,
   "metadata": {},
   "outputs": [],
   "source": [
    "video_paths = list(videos.glob('*')); video_paths"
   ]
  },
  {
   "cell_type": "code",
   "execution_count": null,
   "metadata": {},
   "outputs": [],
   "source": [
    "df_new = df"
   ]
  },
  {
   "cell_type": "code",
   "execution_count": null,
   "metadata": {},
   "outputs": [],
   "source": [
    "for k in tqdm(range(0,len(df_new)-1)): \n",
    "    for i in range(len(video_paths)):\n",
    "        if 'Ch2' in video_paths[i].parts[-1]:\n",
    "            ch2_video = video_paths[i]\n",
    "        if 'Ch1' in video_paths[i].parts[-1]:\n",
    "            ch1_video = video_paths[i]\n",
    "        if 'Ch3' in video_paths[i].parts[-1]:\n",
    "            ch3_video = video_paths[i]\n",
    "    if (df_new['offset_Ch1'][k] < df_new['offset_Ch1'][k+1]):\n",
    "        if (df_new['Observation Code'][k] == 'SUS') & (df_new['Observation Code'][k+1] == 'SUE'):\n",
    "            path_to_save = '/media/scratch/astamoulakatos/nsea_frame_test/centre_Ch2/exp_fs/'\n",
    "            frame_extraction_with_sns(str(ch2_video), path_to_save, k, df_new, 2, 'up')\n",
    "            path_to_save = '/media/scratch/astamoulakatos/nsea_frame_test/left_port_Ch1/exp_fs/'\n",
    "            frame_extraction_with_sns(str(ch1_video), path_to_save, k, df_new, 1, 'up')\n",
    "            path_to_save = '/media/scratch/astamoulakatos/nsea_frame_test/right_starboard_Ch3/exp_fs/'\n",
    "            frame_extraction_with_sns(str(ch3_video), path_to_save, k, df_new, 3, 'up')\n",
    "        if (df_new['Observation Code'][k] == 'SUS') & (df_new['Observation Code'][k+1] == 'FJ' or df_new['Observation Code'][k+1] == 'AN'):\n",
    "            path_to_save = '/media/scratch/astamoulakatos/nsea_frame_test/centre_Ch2/exp_fs/'\n",
    "            frame_extraction_special_cases_after_startend(str(ch2_video), path_to_save, k, df_new, 2, 'up')\n",
    "            path_to_save = '/media/scratch/astamoulakatos/nsea_frame_test/left_port_Ch1/exp_fs/'\n",
    "            frame_extraction_special_cases_after_startend(str(ch2_video), path_to_save, k, df_new, 2, 'up')\n",
    "            path_to_save = '/media/scratch/astamoulakatos/nsea_frame_test/right_starboard_Ch3/exp_fs/'\n",
    "            frame_extraction_special_cases_after_startend(str(ch2_video), path_to_save, k, df_new, 2, 'up')\n",
    "        if (df_new['Observation Code'][k] == 'FJ' or df_new['Observation Code'][k] == 'AN') & (df_new['Observation Code'][k+1] == 'SUE'):\n",
    "            path_to_save = '/media/scratch/astamoulakatos/nsea_frame_test/centre_Ch2/exp_fs/'\n",
    "            frame_extraction_special_cases_after_fjan(str(ch2_video), path_to_save, k, df_new, 2, 'up')\n",
    "            path_to_save = '/media/scratch/astamoulakatos/nsea_frame_test/left_port_Ch1/exp_fs/'\n",
    "            frame_extraction_special_cases_after_fjan(str(ch2_video), path_to_save, k, df_new, 2, 'up')\n",
    "            path_to_save = '/media/scratch/astamoulakatos/nsea_frame_test/right_starboard_Ch3/exp_fs/'\n",
    "            frame_extraction_special_cases_after_fjan(str(ch2_video), path_to_save, k, df_new, 2, 'up')\n",
    "        \n",
    "    else:\n",
    "        if (df_new['Observation Code'][k] == 'SUE') & (df_new['Observation Code'][k+1] == 'SUS'):\n",
    "            path_to_save = '/media/scratch/astamoulakatos/nsea_frame_test/centre_Ch2/exp_fs/'\n",
    "            frame_extraction_with_sns(str(ch2_video), path_to_save, k, df_new, 2, 'down')\n",
    "            path_to_save = '/media/scratch/astamoulakatos/nsea_frame_test/left_port_Ch1/exp_fs/'\n",
    "            frame_extraction_with_sns(str(ch1_video), path_to_save, k, df_new, 1, 'down')\n",
    "            path_to_save = '/media/scratch/astamoulakatos/nsea_frame_test/right_starboard_Ch3/exp_fs/'\n",
    "            frame_extraction_with_sns(str(ch3_video), path_to_save, k, df_new, 3, 'down')\n",
    "        if (df_new['Observation Code'][k] == 'SUE') & (df_new['Observation Code'][k+1] == 'FJ' or df_new['Observation Code'][k+1] == 'AN'):\n",
    "            frame_extraction_special_cases_after_startend(str(ch2_video), path_to_save, k, df_new, 2, 'down')\n",
    "            path_to_save = '/media/scratch/astamoulakatos/nsea_frame_test/left_port_Ch1/exp_fs/'\n",
    "            frame_extraction_special_cases_after_startend(str(ch2_video), path_to_save, k, df_new, 2, 'down')\n",
    "            path_to_save = '/media/scratch/astamoulakatos/nsea_frame_test/right_starboard_Ch3/exp_fs/'\n",
    "            frame_extraction_special_cases_after_startend(str(ch2_video), path_to_save, k, df_new, 2, 'down')\n",
    "        if (df_new['Observation Code'][k+1] == 'FJ' or df_new['Observation Code'][k+1] == 'AN') & (df_new['Observation Code'][k] == 'SUE'):\n",
    "            path_to_save = '/media/scratch/astamoulakatos/nsea_frame_test/centre_Ch2/exp_fs/'\n",
    "            frame_extraction_special_cases_after_fjan(str(ch2_video), path_to_save, k, df_new, 2, 'down')\n",
    "            path_to_save = '/media/scratch/astamoulakatos/nsea_frame_test/left_port_Ch1/exp_fs/'\n",
    "            frame_extraction_special_cases_after_fjan(str(ch2_video), path_to_save, k, df_new, 2, 'down')\n",
    "            path_to_save = '/media/scratch/astamoulakatos/nsea_frame_test/right_starboard_Ch3/exp_fs/'\n",
    "            frame_extraction_special_cases_after_fjan(str(ch2_video), path_to_save, k, df_new, 2, 'down')\n",
    "        "
   ]
  },
  {
   "cell_type": "code",
   "execution_count": null,
   "metadata": {},
   "outputs": [],
   "source": []
  }
 ],
 "metadata": {
  "kernelspec": {
   "display_name": "Python 3",
   "language": "python",
   "name": "python3"
  },
  "language_info": {
   "codemirror_mode": {
    "name": "ipython",
    "version": 3
   },
   "file_extension": ".py",
   "mimetype": "text/x-python",
   "name": "python",
   "nbconvert_exporter": "python",
   "pygments_lexer": "ipython3",
   "version": "3.7.7"
  }
 },
 "nbformat": 4,
 "nbformat_minor": 4
}
