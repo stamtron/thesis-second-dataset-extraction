{
 "cells": [
  {
   "cell_type": "code",
   "execution_count": null,
   "metadata": {},
   "outputs": [],
   "source": [
    "import sys\n",
    "sys.path.append('../helpers/')"
   ]
  },
  {
   "cell_type": "code",
   "execution_count": null,
   "metadata": {},
   "outputs": [],
   "source": [
    "from helpers_frame_extraction import *\n",
    "from fs_extraction import *\n",
    "from fj_and_extraction import *\n",
    "from bur_extraction import *\n",
    "from exp_extraction import *"
   ]
  },
  {
   "cell_type": "code",
   "execution_count": null,
   "metadata": {},
   "outputs": [],
   "source": [
    "%matplotlib inline\n",
    "%reload_ext autoreload\n",
    "%autoreload 2"
   ]
  },
  {
   "cell_type": "code",
   "execution_count": null,
   "metadata": {},
   "outputs": [],
   "source": [
    "csv_path = Path('../csv_for_frame_extraction/')"
   ]
  },
  {
   "cell_type": "code",
   "execution_count": null,
   "metadata": {},
   "outputs": [],
   "source": [
    "csv_paths = list(csv_path.glob('*')); csv_paths"
   ]
  },
  {
   "cell_type": "code",
   "execution_count": null,
   "metadata": {},
   "outputs": [],
   "source": [
    "folder_path = Path('/media/data/astamoulakatos/Survey-2-2012/Project 1/IC2')"
   ]
  },
  {
   "cell_type": "code",
   "execution_count": null,
   "metadata": {},
   "outputs": [],
   "source": [
    "folders_path = list(folder_path.glob('*')); folders_path"
   ]
  },
  {
   "cell_type": "code",
   "execution_count": null,
   "metadata": {},
   "outputs": [],
   "source": [
    "folders_path = [folders_path[9], folders_path[0], folders_path[5], folders_path[1], folders_path[10], folders_path[4], folders_path[7], folders_path[3], folders_path[8], folders_path[2]]; folders_path"
   ]
  },
  {
   "cell_type": "code",
   "execution_count": null,
   "metadata": {},
   "outputs": [],
   "source": [
    "for c, vf in zip(csv_paths, folders_path):\n",
    "    print(c , vf)"
   ]
  },
  {
   "cell_type": "code",
   "execution_count": null,
   "metadata": {},
   "outputs": [],
   "source": [
    "counter = 0\n",
    "for c, vf in zip(csv_paths, folders_path):\n",
    "    events_csv = pd.read_csv(str(c))\n",
    "    folders = events_csv['folder'].unique()\n",
    "    for f in folders:\n",
    "        df_vid = events_csv[events_csv['folder'] == f] \n",
    "        df_vid = columns_of_interest(df_vid)\n",
    "        df_vid = df_vid.reset_index(drop = True)\n",
    "        df_vid = fill_in_KP(df_vid)\n",
    "        df_vid = df_vid.reset_index(drop = True)\n",
    "        if df_vid.empty:\n",
    "            print('DataFrame is empty!')\n",
    "        else:\n",
    "            df_vid = add_event_for_start(df_vid)\n",
    "            df_vid = add_event_for_end(df_vid)\n",
    "            vid_path = vf/f\n",
    "            videos = list(vid_path.glob('*'))\n",
    "            #print(videos)\n",
    "            counter += 1\n",
    "            print(counter)\n",
    "            suspension_extraction(df, videos)\n",
    "            fieldjoint_anode_extraction(df, videos)\n",
    "            burial_extraction(df, videos)\n",
    "            exposure_extraction(df, videos)\n",
    "            "
   ]
  },
  {
   "cell_type": "code",
   "execution_count": null,
   "metadata": {},
   "outputs": [],
   "source": [
    "counter"
   ]
  },
  {
   "cell_type": "code",
   "execution_count": null,
   "metadata": {},
   "outputs": [],
   "source": [
    "videos"
   ]
  },
  {
   "cell_type": "code",
   "execution_count": null,
   "metadata": {},
   "outputs": [],
   "source": [
    "df_vid\n"
   ]
  },
  {
   "cell_type": "code",
   "execution_count": null,
   "metadata": {},
   "outputs": [],
   "source": []
  }
 ],
 "metadata": {
  "language_info": {
   "name": "python",
   "pygments_lexer": "ipython3"
  }
 },
 "nbformat": 4,
 "nbformat_minor": 4
}
