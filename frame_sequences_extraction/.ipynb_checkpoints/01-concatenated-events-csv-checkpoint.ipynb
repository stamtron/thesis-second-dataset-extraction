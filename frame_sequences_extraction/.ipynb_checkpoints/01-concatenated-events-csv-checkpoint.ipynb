{
 "cells": [
  {
   "cell_type": "code",
   "execution_count": null,
   "metadata": {},
   "outputs": [],
   "source": [
    "import os\n",
    "import pandas as pd\n",
    "import datetime as dt\n",
    "import csv\n",
    "from pathlib import Path"
   ]
  },
  {
   "cell_type": "code",
   "execution_count": null,
   "metadata": {},
   "outputs": [],
   "source": [
    "p = Path('/media/data/astamoulakatos/Survey-2-2012/Project 1/IC2/')"
   ]
  },
  {
   "cell_type": "code",
   "execution_count": null,
   "metadata": {},
   "outputs": [],
   "source": [
    "folder_list = list(p.glob('*')); folder_list"
   ]
  },
  {
   "cell_type": "code",
   "execution_count": null,
   "metadata": {},
   "outputs": [],
   "source": [
    "for f in folder_list:\n",
    "    video_list = list(f.glob('*'))\n",
    "    dflist = pd.DataFrame()\n",
    "    output = pd.DataFrame()\n",
    "    failures = []\n",
    "    for v in video_list:\n",
    "        try:\n",
    "            video_files = list(v.glob('*.mpg' or '*.asf'))\n",
    "            events_file = list(v.glob('*.csv'))\n",
    "            if events_file == []:\n",
    "                continue\n",
    "            else:\n",
    "                event = events_file[0]\n",
    "            df = pd.read_csv(event, encoding = 'ISO-8859-1')\n",
    "            dflist = dflist.append(df)\n",
    "            num_events = df.index.size\n",
    "            video1 = [vi.parts[-1] for vi in video_files if 'Ch1' in vi.parts[-1]][0]\n",
    "            video2 = [vi.parts[-1] for vi in video_files if 'Ch2' in vi.parts[-1]][0]\n",
    "            video3 = [vi.parts[-1] for vi in video_files if 'Ch3' in vi.parts[-1]][0]\n",
    "            for i in range(num_events):\n",
    "                output = output.append({\n",
    "                    'folder': v.parts[-1],\n",
    "                    'video1': video1,\n",
    "                    'video2': video2,\n",
    "                    'video3': video3\n",
    "                }, ignore_index=True)\n",
    "            final_df = pd.concat([output.reset_index(drop=True),dflist.reset_index(drop=True)], axis=1)\n",
    "        except Exception as E:\n",
    "            failures.append(f)\n",
    "            print(\"failure in {f}: {E}\".format(f=f, E=E))"
   ]
  },
  {
   "cell_type": "code",
   "execution_count": null,
   "metadata": {},
   "outputs": [],
   "source": [
    "final_df.head()"
   ]
  },
  {
   "cell_type": "code",
   "execution_count": null,
   "metadata": {},
   "outputs": [],
   "source": [
    "p = Path('/media/scratch/astamoulakatos/new_nsea_data/BGE2012_-_IC2/Videos/IC2/')\n",
    "folder_list = list(p.glob('*')); folder_list"
   ]
  },
  {
   "cell_type": "code",
   "execution_count": null,
   "metadata": {},
   "outputs": [],
   "source": [
    "p_with_vid = Path('/media/data/astamoulakatos/Survey-2-2012/Project 1/IC2/')\n",
    "folder_list_vid = list(p_with_vid.glob('*')); folder_list_vid"
   ]
  },
  {
   "cell_type": "code",
   "execution_count": null,
   "metadata": {},
   "outputs": [],
   "source": [
    "folder_list_vid[0].parts[-1]"
   ]
  },
  {
   "cell_type": "code",
   "execution_count": null,
   "metadata": {},
   "outputs": [],
   "source": [
    "for f in folder_list:\n",
    "    for fv in folder_list_vid:\n",
    "        if fv.parts[-1] == f.parts[-1]:\n",
    "            videos_folder = fv\n",
    "#     print(videos_folder)\n",
    "    video_list_with_vids = list(videos_folder.glob('*'))\n",
    "    video_list_without_vids = list(f.glob('*'))\n",
    "    dflist = pd.DataFrame()\n",
    "    output = pd.DataFrame()\n",
    "    failures = []\n",
    "    for v in video_list_without_vids:\n",
    "        try:\n",
    "#             video_files = list(v.glob('*.mpg' or '*.asf'))\n",
    "            events_file = list(v.glob('*.csv'))\n",
    "            if events_file == []:\n",
    "                continue\n",
    "            else:\n",
    "                event = events_file[0]\n",
    "            df = pd.read_csv(event, encoding = 'ISO-8859-1')\n",
    "            dflist = dflist.append(df)\n",
    "            num_events = df.index.size\n",
    "            for vw in video_list_with_vids:\n",
    "                if vw.parts[-1] == v.parts[-1]:\n",
    "                    videos_path = vw\n",
    "            video1 = [vi.parts[-1] for vi in video_files if 'Ch1' in vi.parts[-1]][0]\n",
    "            video2 = [vi.parts[-1] for vi in video_files if 'Ch2' in vi.parts[-1]][0]\n",
    "            video3 = [vi.parts[-1] for vi in video_files if 'Ch3' in vi.parts[-1]][0]"
   ]
  },
  {
   "cell_type": "code",
   "execution_count": null,
   "metadata": {},
   "outputs": [],
   "source": [
    "for v in video_list_without_vids:\n",
    "    for vw in video_list_with_vids:\n",
    "        if vw.parts[-1] == v.parts[-1]:\n",
    "            videos_path = vw\n",
    "          "
   ]
  },
  {
   "cell_type": "code",
   "execution_count": null,
   "metadata": {},
   "outputs": [],
   "source": [
    "video_list_with_vids"
   ]
  },
  {
   "cell_type": "code",
   "execution_count": null,
   "metadata": {},
   "outputs": [],
   "source": [
    "video_list_without_vids"
   ]
  },
  {
   "cell_type": "code",
   "execution_count": null,
   "metadata": {},
   "outputs": [],
   "source": [
    "for f in folder_list:\n",
    "    video_list = list(f.glob('*'))\n",
    "    dflist = pd.DataFrame()\n",
    "    output = pd.DataFrame()\n",
    "    failures = []\n",
    "    for v in video_list:\n",
    "        try:\n",
    "#             video_files = list(v.glob('*.mpg' or '*.asf'))\n",
    "            events_file = list(v.glob('*.csv'))\n",
    "            if events_file == []:\n",
    "                continue\n",
    "            else:\n",
    "                event = events_file[0]\n",
    "            df = pd.read_csv(event, encoding = 'ISO-8859-1')\n",
    "            dflist = dflist.append(df)\n",
    "            num_events = df.index.size\n",
    "#             video1 = [vi.parts[-1] for vi in video_files if 'Ch1' in vi.parts[-1]][0]\n",
    "#             video2 = [vi.parts[-1] for vi in video_files if 'Ch2' in vi.parts[-1]][0]\n",
    "#             video3 = [vi.parts[-1] for vi in video_files if 'Ch3' in vi.parts[-1]][0]\n",
    "            for i in range(num_events):\n",
    "                output = output.append({\n",
    "                    'folder': v.parts[-1],\n",
    "#                     'video1': video1,\n",
    "#                     'video2': video2,\n",
    "#                     'video3': video3\n",
    "                }, ignore_index=True)\n",
    "            final_df = pd.concat([output.reset_index(drop=True),dflist.reset_index(drop=True)], axis=1)\n",
    "        except Exception as E:\n",
    "            failures.append(f)\n",
    "            print(\"failure in {f}: {E}\".format(f=f, E=E))"
   ]
  },
  {
   "cell_type": "code",
   "execution_count": null,
   "metadata": {},
   "outputs": [],
   "source": [
    "len(final_df)"
   ]
  },
  {
   "cell_type": "code",
   "execution_count": null,
   "metadata": {},
   "outputs": [],
   "source": [
    "final_df.head()"
   ]
  },
  {
   "cell_type": "code",
   "execution_count": null,
   "metadata": {},
   "outputs": [],
   "source": [
    "for f in folder_list:\n",
    "    video_list = list(f.glob('*'))"
   ]
  },
  {
   "cell_type": "code",
   "execution_count": null,
   "metadata": {},
   "outputs": [],
   "source": [
    "video_list[0].parts[-1]"
   ]
  },
  {
   "cell_type": "code",
   "execution_count": null,
   "metadata": {},
   "outputs": [],
   "source": [
    "p_with_vid = Path('/media/data/astamoulakatos/Survey-2-2012/Project 1/IC2/')"
   ]
  },
  {
   "cell_type": "code",
   "execution_count": null,
   "metadata": {},
   "outputs": [],
   "source": [
    "folder_list_vid = list(p_with_vid.glob('*')); folder_list_vid"
   ]
  },
  {
   "cell_type": "code",
   "execution_count": null,
   "metadata": {},
   "outputs": [],
   "source": [
    "f = folder_list_vid[0]"
   ]
  },
  {
   "cell_type": "code",
   "execution_count": null,
   "metadata": {},
   "outputs": [],
   "source": [
    "f"
   ]
  },
  {
   "cell_type": "code",
   "execution_count": null,
   "metadata": {},
   "outputs": [],
   "source": [
    "f / 'DATA_20120928102651593'"
   ]
  },
  {
   "cell_type": "code",
   "execution_count": null,
   "metadata": {},
   "outputs": [],
   "source": []
  }
 ],
 "metadata": {
  "language_info": {
   "name": "python",
   "pygments_lexer": "ipython3"
  }
 },
 "nbformat": 4,
 "nbformat_minor": 4
}
