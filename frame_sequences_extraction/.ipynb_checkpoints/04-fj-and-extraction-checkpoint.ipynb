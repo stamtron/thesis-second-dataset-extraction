{
 "cells": [
  {
   "cell_type": "code",
   "execution_count": null,
   "metadata": {},
   "outputs": [],
   "source": [
    "import cv2     # for capturing videos\n",
    "import math   # for mathematical operations\n",
    "import matplotlib.pyplot as plt    # for plotting the images\n",
    "import pandas as pd\n",
    "import numpy as np\n",
    "import os\n",
    "import matplotlib.gridspec as gridspec\n",
    "from tqdm import tqdm\n",
    "import re\n",
    "import glob\n",
    "from pathlib import Path\n",
    "from helpers_frame_extraction import *"
   ]
  },
  {
   "cell_type": "code",
   "execution_count": null,
   "metadata": {},
   "outputs": [],
   "source": [
    "%matplotlib inline\n",
    "%reload_ext autoreload\n",
    "%autoreload 2"
   ]
  },
  {
   "cell_type": "code",
   "execution_count": null,
   "metadata": {},
   "outputs": [],
   "source": [
    "df = pd.read_csv('test_csv_for_one_folder_fj_an.csv')"
   ]
  },
  {
   "cell_type": "code",
   "execution_count": null,
   "metadata": {},
   "outputs": [],
   "source": [
    "df = fill_in_KP(df)"
   ]
  },
  {
   "cell_type": "code",
   "execution_count": null,
   "metadata": {},
   "outputs": [],
   "source": [
    "df.head()"
   ]
  },
  {
   "cell_type": "markdown",
   "metadata": {},
   "source": [
    "# For Anode and FJ (without Start and Stops)"
   ]
  },
  {
   "cell_type": "code",
   "execution_count": null,
   "metadata": {},
   "outputs": [],
   "source": [
    "codes = ['EXE','EXS','FJ','AN','SUS','SUE']\n",
    "df_new = df[df['Observation Code'].isin(codes)]\n",
    "df_new = df_new.reset_index(drop=True); df_new"
   ]
  },
  {
   "cell_type": "code",
   "execution_count": null,
   "metadata": {},
   "outputs": [],
   "source": [
    "videos = Path('/media/data/astamoulakatos/Survey-2-2012/Project 1/IC2/KP155.800-186.495_D/')"
   ]
  },
  {
   "cell_type": "code",
   "execution_count": null,
   "metadata": {},
   "outputs": [],
   "source": [
    "videos = videos / df_new['folder'][0]; videos"
   ]
  },
  {
   "cell_type": "code",
   "execution_count": null,
   "metadata": {},
   "outputs": [],
   "source": [
    "video_paths = list(videos.glob('*')); video_paths"
   ]
  },
  {
   "cell_type": "code",
   "execution_count": null,
   "metadata": {},
   "outputs": [],
   "source": [
    "for k in tqdm(range(0,len(df_new)-1)): \n",
    "    for i in range(len(video_paths)):\n",
    "        if 'Ch2' in video_paths[i].parts[-1]:\n",
    "            ch2_video = video_paths[i]\n",
    "        if 'Ch1' in video_paths[i].parts[-1]:\n",
    "            ch1_video = video_paths[i]\n",
    "        if 'Ch3' in video_paths[i].parts[-1]:\n",
    "            ch3_video = video_paths[i]\n",
    "    if (df_new['offset_Ch1'][k] < df_new['offset_Ch1'][k+1]):\n",
    "        if (df_new['Observation Code'][k] == 'AN'):\n",
    "            path_to_save = '/media/scratch/astamoulakatos/nsea_frame_test/centre_Ch2/exp_and/'\n",
    "            frame_extraction_without_sns(str(ch2_video), path_to_save, k, df_new, 2, 'up')\n",
    "            path_to_save = '/media/scratch/astamoulakatos/nsea_frame_test/left_port_Ch1/exp_and/'\n",
    "            frame_extraction_without_sns(str(ch1_video), path_to_save, k, df_new, 1, 'up')\n",
    "            path_to_save = '/media/scratch/astamoulakatos/nsea_frame_test/right_starboard_Ch3/exp_and/'\n",
    "            frame_extraction_without_sns(str(ch3_video), path_to_save, k, df_new, 3, 'up')\n",
    "        if (df_new['Observation Code'][k] == 'FJ'):\n",
    "            path_to_save = '/media/scratch/astamoulakatos/nsea_frame_test/centre_Ch2/exp_fj/'\n",
    "            frame_extraction_without_sns(str(ch2_video), path_to_save, k, df_new, 2, 'up')\n",
    "            path_to_save = '/media/scratch/astamoulakatos/nsea_frame_test/left_port_Ch1/exp_fj/'\n",
    "            frame_extraction_without_sns(str(ch1_video), path_to_save, k, df_new, 1, 'up')\n",
    "            path_to_save = '/media/scratch/astamoulakatos/nsea_frame_test/right_starboard_Ch3/exp_fj/'\n",
    "            frame_extraction_without_sns(str(ch3_video), path_to_save, k, df_new, 3, 'up')\n",
    "    else:\n",
    "        if (df_new['Observation Code'][k] == 'AN'):\n",
    "            path_to_save = '/media/scratch/astamoulakatos/nsea_frame_test/centre_Ch2/exp_and/'\n",
    "            frame_extraction_without_sns(str(ch2_video), path_to_save, k, df_new, 2, 'down')\n",
    "            path_to_save = '/media/scratch/astamoulakatos/nsea_frame_test/left_port_Ch1/exp_and/'\n",
    "            frame_extraction_without_sns(str(ch1_video), path_to_save, k, df_new, 1, 'down')\n",
    "            path_to_save = '/media/scratch/astamoulakatos/nsea_frame_test/right_starboard_Ch3/exp_and/'\n",
    "            frame_extraction_without_sns(str(ch3_video), path_to_save, k, df_new, 3, 'down')\n",
    "        if (df_new['Observation Code'][k] == 'FJ'):\n",
    "            path_to_save = '/media/scratch/astamoulakatos/nsea_frame_test/centre_Ch2/exp_fj/'\n",
    "            frame_extraction_without_sns(str(ch2_video), path_to_save, k, df_new, 2, 'down')\n",
    "            path_to_save = '/media/scratch/astamoulakatos/nsea_frame_test/left_port_Ch1/exp_fj/'\n",
    "            frame_extraction_without_sns(str(ch1_video), path_to_save, k, df_new, 1, 'down')\n",
    "            path_to_save = '/media/scratch/astamoulakatos/nsea_frame_test/right_starboard_Ch3/exp_fj/'\n",
    "            frame_extraction_without_sns(str(ch3_video), path_to_save, k, df_new, 3, 'down')"
   ]
  },
  {
   "cell_type": "code",
   "execution_count": null,
   "metadata": {},
   "outputs": [],
   "source": []
  }
 ],
 "metadata": {
  "language_info": {
   "name": "python",
   "pygments_lexer": "ipython3"
  }
 },
 "nbformat": 4,
 "nbformat_minor": 4
}
