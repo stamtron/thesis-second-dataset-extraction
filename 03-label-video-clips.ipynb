{
 "cells": [
  {
   "cell_type": "code",
   "execution_count": null,
   "metadata": {},
   "outputs": [],
   "source": [
    "import os \n",
    "import glob\n",
    "import pandas as pd\n",
    "from pathlib import Path\n",
    "import re\n",
    "import numpy as np"
   ]
  },
  {
   "cell_type": "code",
   "execution_count": null,
   "metadata": {},
   "outputs": [],
   "source": [
    "def list_dir(path, pattern='*/*'):\n",
    "    return [Path(x) for x in glob.glob(path + pattern)]\n"
   ]
  },
  {
   "cell_type": "code",
   "execution_count": null,
   "metadata": {},
   "outputs": [],
   "source": [
    "l = list_dir('/media/hdd/astamoulakatos/nsea_video_jpegs/')"
   ]
  },
  {
   "cell_type": "code",
   "execution_count": null,
   "metadata": {},
   "outputs": [],
   "source": [
    "len(l)"
   ]
  },
  {
   "cell_type": "code",
   "execution_count": null,
   "metadata": {},
   "outputs": [],
   "source": [
    "l[0]"
   ]
  },
  {
   "cell_type": "code",
   "execution_count": null,
   "metadata": {},
   "outputs": [],
   "source": [
    "df = pd.DataFrame(l, columns =['videos'])"
   ]
  },
  {
   "cell_type": "code",
   "execution_count": null,
   "metadata": {},
   "outputs": [],
   "source": [
    "df['exposure'] = 0\n",
    "df['burial'] = 0\n",
    "df['field_joint'] = 0\n",
    "df['anode'] = 0\n",
    "df['free_span'] = 0"
   ]
  },
  {
   "cell_type": "code",
   "execution_count": null,
   "metadata": {},
   "outputs": [],
   "source": [
    "df"
   ]
  },
  {
   "cell_type": "code",
   "execution_count": null,
   "metadata": {},
   "outputs": [],
   "source": [
    "for i in range(len(df)):\n",
    "    m = re.search('pegs/(.+?)/S', str(df.videos[i]))\n",
    "    boom = m.group(1)\n",
    "    if boom == 'exp_and':\n",
    "        df.exposure[i] = 1\n",
    "        df.anode[i] = 1\n",
    "    if boom == 'exp':\n",
    "        df.exposure[i] = 1\n",
    "    if boom == 'bur':\n",
    "        df.burial[i] = 1\n",
    "    if boom == 'exp_fs':\n",
    "        df.exposure[i] = 1\n",
    "        df.free_span[i] = 1\n",
    "    if boom == 'exp_fj':\n",
    "        df.exposure[i] = 1\n",
    "        df.field_joint[i] = 1\n",
    "        \n",
    "    #print(m.group(1))\n",
    "\n",
    "# m = re.search('tos/(.+?).mpg', center_video_path)\n",
    "#     if m:\n",
    "#         name = m.group(1)"
   ]
  },
  {
   "cell_type": "code",
   "execution_count": null,
   "metadata": {},
   "outputs": [],
   "source": [
    "def random_split(df, percentage_split=0.8, seed=None):\n",
    "    if seed: np.random.seed(seed)\n",
    "    perm = np.random.permutation(df.index)\n",
    "    m = len(df.index)\n",
    "    split_end = int(percentage_split*m)\n",
    "    df_bottom = df.iloc[perm[:split_end]]\n",
    "    df_rest = df.iloc[perm[split_end:]]\n",
    "    return df_bottom, df_rest"
   ]
  },
  {
   "cell_type": "code",
   "execution_count": null,
   "metadata": {},
   "outputs": [],
   "source": [
    "df_train, df_valid = random_split(df, percentage_split=0.8, seed=42)"
   ]
  },
  {
   "cell_type": "code",
   "execution_count": null,
   "metadata": {},
   "outputs": [],
   "source": [
    "df_train"
   ]
  },
  {
   "cell_type": "code",
   "execution_count": null,
   "metadata": {},
   "outputs": [],
   "source": [
    "df_valid"
   ]
  },
  {
   "cell_type": "code",
   "execution_count": null,
   "metadata": {},
   "outputs": [],
   "source": [
    "df_train.to_csv('./train-valid-splits-video/train.csv', index=False)"
   ]
  },
  {
   "cell_type": "code",
   "execution_count": null,
   "metadata": {},
   "outputs": [],
   "source": [
    "df_valid.to_csv('./train-valid-splits-video/valid.csv', index=False)"
   ]
  },
  {
   "cell_type": "code",
   "execution_count": null,
   "metadata": {},
   "outputs": [],
   "source": [
    "len(df_train)"
   ]
  },
  {
   "cell_type": "code",
   "execution_count": null,
   "metadata": {},
   "outputs": [],
   "source": [
    "len(df_valid)"
   ]
  },
  {
   "cell_type": "code",
   "execution_count": null,
   "metadata": {},
   "outputs": [],
   "source": []
  },
  {
   "cell_type": "code",
   "execution_count": null,
   "metadata": {},
   "outputs": [],
   "source": []
  }
 ],
 "metadata": {
  "language_info": {
   "name": "python",
   "pygments_lexer": "ipython3"
  }
 },
 "nbformat": 4,
 "nbformat_minor": 4
}
