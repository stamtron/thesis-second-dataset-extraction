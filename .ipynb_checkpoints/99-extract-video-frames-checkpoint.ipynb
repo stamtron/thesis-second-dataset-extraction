{
 "cells": [
  {
   "cell_type": "markdown",
   "metadata": {},
   "source": [
    "**Notebook to extract frames from video**"
   ]
  },
  {
   "cell_type": "markdown",
   "metadata": {},
   "source": [
    "**Import libraries**"
   ]
  },
  {
   "cell_type": "code",
   "execution_count": null,
   "metadata": {},
   "outputs": [],
   "source": [
    "import os\n",
    "import cv2 \n",
    "import numpy as np\n",
    "import pandas as pd\n",
    "from datetime import datetime, timedelta\n",
    "import glob\n",
    "from pathlib import Path\n",
    "from shutil import copyfile\n",
    "from shutil import rmtree"
   ]
  },
  {
   "cell_type": "markdown",
   "metadata": {},
   "source": [
    "**Define paths to find video and save files**"
   ]
  },
  {
   "cell_type": "code",
   "execution_count": null,
   "metadata": {},
   "outputs": [],
   "source": [
    "# Because this was on an external drive and the top directories \n",
    "# are different on different platforms (linux vs windows) I put\n",
    "# the top level of the path to the videos in a separate variable\n",
    "PLATFORM_HEAD = '/mnt/N-SeaVids/'\n",
    "\n",
    "# This is the main part of the path to where the videos are\n",
    "DEST_PLATFORM_HEAD = '/media/hdd/cmccaig/images/N-Sea'\n",
    "\n",
    "# this is the section to the actual videos\n",
    "PATH_HEAD = 'DATA201902/Project 1/IC2'\n",
    "\n",
    "\n",
    "extractedParentFolder = '/media/hdd/cmccaig/images/N-Sea/combinedAnnotation/'"
   ]
  },
  {
   "cell_type": "markdown",
   "metadata": {},
   "source": [
    "**Define which observation codes are of interest**"
   ]
  },
  {
   "cell_type": "code",
   "execution_count": null,
   "metadata": {},
   "outputs": [],
   "source": [
    "relEvs = ('FJ','FJD','AN','SUS','SUE','EXS','EXE')"
   ]
  },
  {
   "cell_type": "markdown",
   "metadata": {},
   "source": [
    "**Template to create file/event label**"
   ]
  },
  {
   "cell_type": "code",
   "execution_count": null,
   "metadata": {},
   "outputs": [],
   "source": [
    "filename_format='Location-{}-EventID-{}-Type-{}-Timestamp-{}.png'"
   ]
  },
  {
   "cell_type": "markdown",
   "metadata": {},
   "source": [
    "**Extract frames for each event, numS secs either side of recorded time**"
   ]
  },
  {
   "cell_type": "code",
   "execution_count": null,
   "metadata": {},
   "outputs": [],
   "source": [
    "numS = 3"
   ]
  },
  {
   "cell_type": "markdown",
   "metadata": {},
   "source": [
    "**Functions**"
   ]
  },
  {
   "cell_type": "code",
   "execution_count": null,
   "metadata": {},
   "outputs": [],
   "source": [
    "######################################\n",
    "# fn to parse timestamp\n",
    "######################################\n",
    "def parseTimestamp(ts):\n",
    "    return datetime.strptime(ts,'%Y%m%d%H%M%S%f')\n",
    "\n",
    "######################################\n",
    "# fn to create timestamp\n",
    "######################################\n",
    "def createTimestamp(dt):\n",
    "    ts = str(dt.year)\n",
    "    ts = ts+\"{0:0=2d}\".format(dt.month)\n",
    "    ts = ts+\"{0:0=2d}\".format(dt.day)\n",
    "    ts = ts+\"{0:0=2d}\".format(dt.hour)\n",
    "    ts = ts+\"{0:0=2d}\".format(dt.minute)\n",
    "    ts = ts+\"{0:0=2d}\".format(dt.second)\n",
    "    ts = ts+\"{0:0=3d}\".format(int(dt.microsecond/1000))\n",
    "\n",
    "    return ts\n",
    "    \n",
    "######################################\n",
    "# fn to mkdir and handle exceptions\n",
    "######################################\n",
    "def mkdirExcept(dirName):\n",
    "    try:\n",
    "        # Create target Directory\n",
    "        os.mkdir(dirName)\n",
    "        print('Folder ',dirName,' created')\n",
    "    except FileExistsError:\n",
    "        print('Folder ',dirName,' already exists')\n",
    "        return\n",
    "    \n",
    "######################################\n",
    "# Function to extract centre frames \n",
    "######################################\n",
    "\n",
    "def FrameCaptureCentre(path,foldTS): \n",
    "    \n",
    "    #step = 1\n",
    "\n",
    "    centreFrameTimestamps = []\n",
    "    \n",
    "    centreVidPath = glob.glob(str(path) + '/**/*Ch2.mpg', recursive=True)[0]\n",
    "    #centreVidPath = Path(centreVidPath)\n",
    "    centreVidTimestamp = centreVidPath[-31:-14]\n",
    "\n",
    "    escapedPath = str(path.relative_to(PLATFORM_HEAD)).replace('/', ':')\n",
    "    \n",
    "    folderName = Path(extractedParentFolder+'extractedFiles_'+foldTS)\n",
    "    \n",
    "    mkdirExcept(str(folderName))\n",
    "    mkdirExcept(str(folderName)+'/centreFrames/')\n",
    "    \n",
    "    #######################################################\n",
    "    # Centre video\n",
    "    #######################################################\n",
    "    \n",
    "    # Path to video file \n",
    "    vidObj = cv2.VideoCapture(centreVidPath)\n",
    "    \n",
    "    # Used as counter variable \n",
    "    count = 0\n",
    "  \n",
    "    # checks whether frames were extracted \n",
    "    success = 1\n",
    "    \n",
    "    time = parseTimestamp(centreVidTimestamp)\n",
    "  \n",
    "    #while success and (count < 10001): \n",
    "    while success: # REINSTATE THIS TO GET ALL FRAMES\n",
    "        \n",
    "        if((np.floor(count/10000))==(count/10000)):\n",
    "            print('CENTRE:\\tcount = ',count,'\\tTS = ',createTimestamp(time))\n",
    "        \n",
    "        # vidObj object calls read \n",
    "        # function extract frames \n",
    "        success, image = vidObj.read() \n",
    "        \n",
    "\n",
    "        # Saves the frames with frame-count \n",
    "        printTS = int(createTimestamp(time))    \n",
    "    \n",
    "        cv2.imwrite(str(folderName)+'/centreFrames/'+escapedPath+'-'+str(printTS)+'.png',image)\n",
    "        centreFrameTimestamps.append(printTS)\n",
    "                \n",
    "        time = time+timedelta(seconds = 1/25)\n",
    "  \n",
    "        count += 1\n",
    "        \n",
    "    return(centreFrameTimestamps)\n",
    "\n",
    "######################################\n",
    "# Not sure what this fuction is for! \n",
    "# Not sure it's needed but I don't \n",
    "# have the data so I can't test it\n",
    "######################################\n",
    "\n",
    "def list_dir(self, pattern=\"*\"):\n",
    "    return [Path(x) for x in glob.glob(str(self/pattern))]\n",
    "Path.ls = list_dir\n"
   ]
  },
  {
   "cell_type": "markdown",
   "metadata": {},
   "source": [
    "**Main body of code**"
   ]
  },
  {
   "cell_type": "markdown",
   "metadata": {},
   "source": [
    "**Use glob to identify Events.csv files**"
   ]
  },
  {
   "cell_type": "code",
   "execution_count": null,
   "metadata": {},
   "outputs": [],
   "source": [
    "PATH = Path(PLATFORM_HEAD) / PATH_HEAD\n",
    "print('PATH: ',PATH)\n",
    "evFiles = glob.glob(str(PATH) + '/**/Events.csv', recursive=True)\n",
    "print('evFiles: ',evFiles[:5])"
   ]
  },
  {
   "cell_type": "markdown",
   "metadata": {},
   "source": [
    "**If any of evFiles are empty remove from list & sort remainder & create list of event file lengths**"
   ]
  },
  {
   "cell_type": "code",
   "execution_count": null,
   "metadata": {},
   "outputs": [],
   "source": [
    "rem = []\n",
    "evFileLengths = []\n",
    "evFiles = np.sort(evFiles).tolist()\n",
    "print('evFiles1: ',evFiles)\n",
    "for i in range(len(evFiles)):\n",
    "    events = pd.read_csv(evFiles[i])\n",
    "    \n",
    "    events = events[events['Observation Code'].isin(relEvs)]\n",
    "\n",
    "    if(events.shape[0]==0):\n",
    "        rem.append(i)\n",
    "    else:\n",
    "        evFileLengths.append(events.shape[0])\n",
    "\n",
    "print('len(evFiles): ',len(evFiles))\n",
    "\n",
    "for index in sorted(rem, reverse=True):\n",
    "    del evFiles[index]"
   ]
  },
  {
   "cell_type": "code",
   "execution_count": null,
   "metadata": {},
   "outputs": [],
   "source": [
    "if __name__ == '__main__': \n",
    "    \n",
    "    # for each events file\n",
    "    for i in range(len(evFiles)):\n",
    "        print('evFiles: ',i,' / ',len(evFiles))\n",
    "        parentPath = Path(evFiles[i]).parent\n",
    "        foldTS = str(parentPath)[-17:]\n",
    "        \n",
    "        # get array of events\n",
    "        events = pd.read_csv(evFiles[i])\n",
    "        events = events[events['Observation Code'].isin(relEvs)]\n",
    "        events = events.reset_index()\n",
    "        events = events.drop('index',axis=1)\n",
    "        times = events.VWTimestamp\n",
    "        \n",
    "        ### CENTRE FILE\n",
    "        # Calling the function to extract the centre images\n",
    "        centreTimestamps = FrameCaptureCentre(parentPath,foldTS)\n",
    "                \n",
    "        # for each event in the file\n",
    "        for r in range(events.shape[0]):\n",
    "            print('Event: ',r,' / ',events.shape[0])\n",
    "            curTS = times[r]\n",
    "            timeBefore = curTS-(2*numS*1000)\n",
    "            timeAfter = curTS+(numS*1000)\n",
    "\n",
    "            frameIndices = [i for i, x in enumerate(centreTimestamps) if ((x > timeBefore) and (x < timeAfter))]\n",
    "            \n",
    "            ###################################################\n",
    "            folderName = Path(extractedParentFolder+'extractedFiles_'+foldTS)\n",
    "            \n",
    "            centreFolder = Path(str(folderName)+'/centreFrames/')\n",
    "                        \n",
    "            escapedPath = str(parentPath.relative_to(PLATFORM_HEAD)).replace('/', ':')\n",
    "\n",
    "            destFold = Path(extractedParentFolder) / ('extractedFiles_'+foldTS) / ('extractedFiles_'+str(curTS)+'-ObsCode_'+events['Observation Code'][r])\n",
    "            mkdirExcept(destFold)\n",
    "\n",
    "            for t in range(len(frameIndices)):\n",
    "                srcFile = centreFolder / (escapedPath+'-'+str(centreTimestamps[frameIndices[t]])+'.png')\n",
    "\n",
    "                fname = filename_format.format(parentPath.relative_to(PLATFORM_HEAD),curTS,events['Observation Code'][r],str(centreTimestamps[frameIndices[t]])).replace('/', ':')\n",
    "\n",
    "                destFile = destFold / fname\n",
    "                           \n",
    "                copyfile(srcFile, destFile)\n",
    "                            \n",
    "        \n",
    "        rmtree(centreFolder)\n",
    "                "
   ]
  },
  {
   "cell_type": "code",
   "execution_count": null,
   "metadata": {},
   "outputs": [],
   "source": []
  }
 ],
 "metadata": {
  "language_info": {
   "name": "python",
   "pygments_lexer": "ipython3"
  }
 },
 "nbformat": 4,
 "nbformat_minor": 4
}
