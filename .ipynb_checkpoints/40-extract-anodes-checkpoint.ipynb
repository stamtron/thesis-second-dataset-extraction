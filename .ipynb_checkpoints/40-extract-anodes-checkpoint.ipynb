{
 "cells": [
  {
   "cell_type": "code",
   "execution_count": null,
   "metadata": {},
   "outputs": [],
   "source": [
    "import cv2     # for capturing videos\n",
    "import math   # for mathematical operations\n",
    "import matplotlib.pyplot as plt    # for plotting the images\n",
    "import pandas as pd\n",
    "import numpy as np\n",
    "import os\n",
    "import matplotlib.gridspec as gridspec\n",
    "from tqdm import tqdm\n",
    "import re\n",
    "import glob"
   ]
  },
  {
   "cell_type": "code",
   "execution_count": null,
   "metadata": {},
   "outputs": [],
   "source": [
    "%matplotlib inline"
   ]
  },
  {
   "cell_type": "code",
   "execution_count": null,
   "metadata": {},
   "outputs": [],
   "source": [
    "event_path = './csv_for_frame_extraction/csv_for_folder_KP155.800-186.495_D.csv'"
   ]
  },
  {
   "cell_type": "code",
   "execution_count": null,
   "metadata": {},
   "outputs": [],
   "source": [
    "videos_path = '/media/data/astamoulakatos/Survey-2-2012/Project 1/IC2/'"
   ]
  },
  {
   "cell_type": "code",
   "execution_count": null,
   "metadata": {},
   "outputs": [],
   "source": [
    "ending = '*95_D'"
   ]
  },
  {
   "cell_type": "code",
   "execution_count": null,
   "metadata": {},
   "outputs": [],
   "source": [
    "def read_and_prepare_csv(event_path, videos_path, ending):\n",
    "    df = pd.read_csv(event_path)\n",
    "    for name in glob.glob(videos_path + ending):\n",
    "        print(name)\n",
    "    for n in glob.glob(name + '/**/*Ch2.mpg'):\n",
    "        print(n)\n",
    "    codes = ['ANS','ANE']#,'AN']\n",
    "    df_new = df[df['Observation Code'].isin(codes)]\n",
    "    df_new.to_csv('test.csv', index=False)\n",
    "    df_new = df_new.reset_index(drop=True)\n",
    "    return df_new, name"
   ]
  },
  {
   "cell_type": "code",
   "execution_count": null,
   "metadata": {},
   "outputs": [],
   "source": [
    "def frame_extraction(center_video_path, path_to_save, i, df):\n",
    "    m = re.search('tos/(.+?).mpg', center_video_path)\n",
    "    if m:\n",
    "        name = m.group(1)\n",
    "    name = name.replace('/','__')    \n",
    "    path_to_save = path_to_save + name + '__' + str(int(i/2))\n",
    "    if not os.path.exists(path_to_save):\n",
    "        os.mkdir(path_to_save)\n",
    "\n",
    "        path_to_save = path_to_save + '/'\n",
    "\n",
    "        start = float(df_new['offset'][i])*1000 + 20 \n",
    "        end = float(df_new['offset'][i+1])*1000 - 100\n",
    "        cap = cv2.VideoCapture(center_video_path)\n",
    "        cap.set(cv2.CAP_PROP_POS_MSEC, start)\n",
    "        #success,image = cap.read()\n",
    "        s = cap.get(cv2.CAP_PROP_POS_FRAMES)\n",
    "        cap.set(cv2.CAP_PROP_POS_MSEC, end)\n",
    "        #success,image = cap.read()\n",
    "        e = cap.get(cv2.CAP_PROP_POS_FRAMES)\n",
    "        frames = np.arange(s, e, 4)\n",
    "        #if not os.path.exists(path_to_save):\n",
    "        for j in range(len(frames)):\n",
    "            cap.set(cv2.CAP_PROP_POS_FRAMES, frames[j])\n",
    "            suc,im = cap.read()\n",
    "            cv2.imwrite(path_to_save + 'frame' + str(j) + '.png', im)\n"
   ]
  },
  {
   "cell_type": "code",
   "execution_count": null,
   "metadata": {},
   "outputs": [],
   "source": [
    "df_new,video = read_and_prepare_csv(event_path, videos_path, ending)"
   ]
  },
  {
   "cell_type": "code",
   "execution_count": null,
   "metadata": {},
   "outputs": [],
   "source": [
    "df_new.head()"
   ]
  },
  {
   "cell_type": "code",
   "execution_count": null,
   "metadata": {},
   "outputs": [],
   "source": [
    "video"
   ]
  },
  {
   "cell_type": "code",
   "execution_count": null,
   "metadata": {},
   "outputs": [],
   "source": [
    "for i in tqdm(range(0,len(df_new)-1,1)): \n",
    "    \n",
    "    if (df['folder'][i] == df['folder'][i+1]):\n",
    "\n",
    "        center_video = os.path.join(video,df['folder'][i])\n",
    "        for name in glob.glob(center_video + '/*Ch2.mpg'):\n",
    "            center_video_path = name\n",
    "\n",
    "        #print(center_video_path)\n",
    "        if (df_new['Observation Code'][i] == 'ANS') & (df_new['Observation Code'][i+1] == 'ANE'):\n",
    "            #if (df_new['KP'][i] < df_new['KP'][i+1]):\n",
    "            print('Hi!')\n",
    "            path_to_save = '/media/scratch/astamoulakatos/nsea_video_jpegs/exp_and/'\n",
    "\n",
    "            frame_extraction(center_video_path, path_to_save, i, df_new)\n",
    "\n",
    "#         if (df_new['Observation Code'][i] == 'SUE') & (df_new['Observation Code'][i+1] == 'SUS'):\n",
    "#             if (df_new['KP'][i] > df_new['KP'][i+1]):\n",
    "#                 print('yo!')\n",
    "#                 path_to_save = '/media/scratch/astamoulakatos/nsea_video_jpegs/exp_fs/'\n",
    "\n",
    "#                 frame_extraction(center_video_path, path_to_save, i, df_new)"
   ]
  },
  {
   "cell_type": "code",
   "execution_count": null,
   "metadata": {},
   "outputs": [],
   "source": []
  }
 ],
 "metadata": {
  "language_info": {
   "name": "python",
   "pygments_lexer": "ipython3"
  }
 },
 "nbformat": 4,
 "nbformat_minor": 4
}
