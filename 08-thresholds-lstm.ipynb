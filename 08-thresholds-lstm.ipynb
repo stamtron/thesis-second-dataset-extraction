{
 "cells": [
  {
   "cell_type": "code",
   "execution_count": 1,
   "metadata": {},
   "outputs": [],
   "source": [
    "import sys\n",
    "\n",
    "sys.path.append('./helpers_models/')\n",
    "sys.path.append('./data_visualization_and_augmentations/')\n",
    "sys.path.append('../torch_videovision/')\n",
    "sys.path.append('./important_csvs/')\n",
    "sys.path.append('../video-classification/ResNetCRNN/')\n",
    "\n",
    "from helpers_lstm import *\n",
    "from helpers_training import *"
   ]
  },
  {
   "cell_type": "code",
   "execution_count": 2,
   "metadata": {},
   "outputs": [],
   "source": [
    "tensor_transform = get_tensor_transform('ImageNet', True)\n",
    "train_spat_transform = get_spatial_transform(2)\n",
    "train_temp_transform = get_temporal_transform()\n",
    "valid_spat_transform = get_spatial_transform(0)\n",
    "valid_temp_transform = va.TemporalFit(size=16)\n",
    "\n",
    "root_dir = '/media/scratch/astamoulakatos/nsea_video_jpegs/'\n",
    "df = pd.read_csv('./small_dataset_csvs/events_with_number_of_frames_stratified.csv')\n",
    "df_train = get_df(df, 20, True, False, False)\n",
    "class_image_paths, end_idx = get_indices(df_train, root_dir)\n",
    "train_loader = get_loader(16, 128, end_idx, class_image_paths, train_temp_transform, train_spat_transform, tensor_transform, True, False)\n",
    "df_valid = get_df(df, 20, False, True, False)\n",
    "class_image_paths, end_idx = get_indices(df_valid, root_dir)\n",
    "valid_loader = get_loader(16, 128, end_idx, class_image_paths, valid_temp_transform, valid_spat_transform, tensor_transform, True, False)\n",
    "df_test = get_df(df, 20, False, False, True)\n",
    "class_image_paths, end_idx = get_indices(df_test, root_dir)\n",
    "test_loader = get_loader(16, 128, end_idx, class_image_paths, valid_temp_transform, valid_spat_transform, tensor_transform, True, False)\n"
   ]
  },
  {
   "cell_type": "code",
   "execution_count": 3,
   "metadata": {},
   "outputs": [],
   "source": [
    "device = torch.device('cuda')\n",
    "cnn_encoder = ResCNNEncoder().to(device)\n",
    "adaptive_pool = AdaptiveConcatPool2d()\n",
    "cnn_encoder.resnet[8] = adaptive_pool\n",
    "for param in cnn_encoder.parameters():\n",
    "    param.requires_grad = False\n",
    "for param in cnn_encoder.resnet[8].parameters():\n",
    "    param.requires_grad = True\n",
    "for param in cnn_encoder.headbn1.parameters():\n",
    "    param.requires_grad = True\n",
    "for param in cnn_encoder.fc1.parameters():\n",
    "    param.requires_grad = True\n",
    "    \n",
    "rnn_decoder = DecoderRNNattention(batch_size=128).to(device)\n",
    "for param in rnn_decoder.parameters():\n",
    "    param.requires_grad = True"
   ]
  },
  {
   "cell_type": "code",
   "execution_count": 4,
   "metadata": {},
   "outputs": [
    {
     "name": "stdout",
     "output_type": "stream",
     "text": [
      "Using 4 GPUs!\n"
     ]
    }
   ],
   "source": [
    "crnn_params, cnn_encoder, rnn_decoder = parallelize_model(cnn_encoder, rnn_decoder)\n",
    "\n",
    "model = nn.Sequential(cnn_encoder,rnn_decoder)\n",
    "torch.cuda.empty_cache()"
   ]
  },
  {
   "cell_type": "code",
   "execution_count": 5,
   "metadata": {},
   "outputs": [
    {
     "name": "stdout",
     "output_type": "stream",
     "text": [
      "loading pretrained freezed model!\n"
     ]
    }
   ],
   "source": [
    "checkpoint = torch.load('/media/scratch/astamoulakatos/saved-lstm-models/first-round-same-dataset/best-checkpoint-000epoch.pth')\n",
    "model.load_state_dict(checkpoint['model_state_dict'])\n",
    "print('loading pretrained freezed model!')"
   ]
  },
  {
   "cell_type": "code",
   "execution_count": 6,
   "metadata": {},
   "outputs": [],
   "source": [
    "model.eval()\n",
    "y_true = []\n",
    "y_pred = []\n",
    "with torch.no_grad():\n",
    "    for X, y in valid_loader:\n",
    "        X = X.to(device)\n",
    "        y = Variable(y.float()).to(device) \n",
    "        y = y.squeeze(dim=1)\n",
    "        y = y.float()\n",
    "        output = model(X)\n",
    "        y = y.detach().cpu()\n",
    "        #loss = criterion(output, y)\n",
    "        preds = torch.sigmoid(output)\n",
    "        preds = preds.to(torch.float32) \n",
    "        preds = preds.detach().cpu()\n",
    "        y_pred.append(preds)\n",
    "        y_true.append(y)"
   ]
  },
  {
   "cell_type": "code",
   "execution_count": 7,
   "metadata": {},
   "outputs": [],
   "source": [
    "y_tr = np.vstack([t.__array__() for tensor in y_true for t in tensor])"
   ]
  },
  {
   "cell_type": "code",
   "execution_count": 8,
   "metadata": {},
   "outputs": [],
   "source": [
    "y_pr = np.vstack([t.__array__() for tensor in y_pred for t in tensor])"
   ]
  },
  {
   "cell_type": "code",
   "execution_count": 9,
   "metadata": {},
   "outputs": [],
   "source": [
    "from helpers_thresholds import *"
   ]
  },
  {
   "cell_type": "code",
   "execution_count": 10,
   "metadata": {},
   "outputs": [],
   "source": [
    "classes = ['Exposure', 'Burial', 'Field Joint', 'Anode', 'Free Span']"
   ]
  },
  {
   "cell_type": "code",
   "execution_count": 11,
   "metadata": {},
   "outputs": [],
   "source": [
    "thresholds = nsea_compute_thresholds(y_tr, y_pr, classes)"
   ]
  },
  {
   "cell_type": "code",
   "execution_count": 12,
   "metadata": {},
   "outputs": [
    {
     "data": {
      "text/plain": [
       "{'Exposure': 0.41521564,\n",
       " 'Burial': 0.5350713,\n",
       " 'Field Joint': 0.48112452,\n",
       " 'Anode': 0.47195727,\n",
       " 'Free Span': 0.54344684}"
      ]
     },
     "execution_count": 12,
     "metadata": {},
     "output_type": "execute_result"
    }
   ],
   "source": [
    "thresholds"
   ]
  },
  {
   "cell_type": "markdown",
   "metadata": {},
   "source": [
    "## validation set"
   ]
  },
  {
   "cell_type": "code",
   "execution_count": 13,
   "metadata": {},
   "outputs": [
    {
     "data": {
      "text/html": [
       "<div>\n",
       "<style scoped>\n",
       "    .dataframe tbody tr th:only-of-type {\n",
       "        vertical-align: middle;\n",
       "    }\n",
       "\n",
       "    .dataframe tbody tr th {\n",
       "        vertical-align: top;\n",
       "    }\n",
       "\n",
       "    .dataframe thead th {\n",
       "        text-align: right;\n",
       "    }\n",
       "</style>\n",
       "<table border=\"1\" class=\"dataframe\">\n",
       "  <thead>\n",
       "    <tr style=\"text-align: right;\">\n",
       "      <th></th>\n",
       "      <th>Event</th>\n",
       "      <th>Threshold</th>\n",
       "      <th>Exact Matching Score</th>\n",
       "      <th>Precision</th>\n",
       "      <th>Recall</th>\n",
       "      <th>F1-Score</th>\n",
       "      <th>tn</th>\n",
       "      <th>fp</th>\n",
       "      <th>fn</th>\n",
       "      <th>tp</th>\n",
       "    </tr>\n",
       "  </thead>\n",
       "  <tbody>\n",
       "    <tr>\n",
       "      <th>0</th>\n",
       "      <td>Exposure</td>\n",
       "      <td>0.415216</td>\n",
       "      <td>0.893945</td>\n",
       "      <td>0.922861</td>\n",
       "      <td>0.924677</td>\n",
       "      <td>0.923768</td>\n",
       "      <td>1287.0</td>\n",
       "      <td>275.0</td>\n",
       "      <td>268.0</td>\n",
       "      <td>3290.0</td>\n",
       "    </tr>\n",
       "    <tr>\n",
       "      <th>1</th>\n",
       "      <td>Burial</td>\n",
       "      <td>0.535071</td>\n",
       "      <td>0.901172</td>\n",
       "      <td>0.771885</td>\n",
       "      <td>0.959667</td>\n",
       "      <td>0.855594</td>\n",
       "      <td>3115.0</td>\n",
       "      <td>443.0</td>\n",
       "      <td>63.0</td>\n",
       "      <td>1499.0</td>\n",
       "    </tr>\n",
       "    <tr>\n",
       "      <th>2</th>\n",
       "      <td>Field Joint</td>\n",
       "      <td>0.481125</td>\n",
       "      <td>0.916602</td>\n",
       "      <td>0.686464</td>\n",
       "      <td>0.713056</td>\n",
       "      <td>0.699507</td>\n",
       "      <td>4196.0</td>\n",
       "      <td>227.0</td>\n",
       "      <td>200.0</td>\n",
       "      <td>497.0</td>\n",
       "    </tr>\n",
       "    <tr>\n",
       "      <th>3</th>\n",
       "      <td>Anode</td>\n",
       "      <td>0.471957</td>\n",
       "      <td>0.843555</td>\n",
       "      <td>0.233645</td>\n",
       "      <td>0.781250</td>\n",
       "      <td>0.359712</td>\n",
       "      <td>4094.0</td>\n",
       "      <td>738.0</td>\n",
       "      <td>63.0</td>\n",
       "      <td>225.0</td>\n",
       "    </tr>\n",
       "    <tr>\n",
       "      <th>4</th>\n",
       "      <td>Free Span</td>\n",
       "      <td>0.543447</td>\n",
       "      <td>0.973828</td>\n",
       "      <td>0.969549</td>\n",
       "      <td>0.958087</td>\n",
       "      <td>0.963784</td>\n",
       "      <td>3203.0</td>\n",
       "      <td>56.0</td>\n",
       "      <td>78.0</td>\n",
       "      <td>1783.0</td>\n",
       "    </tr>\n",
       "    <tr>\n",
       "      <th>5</th>\n",
       "      <td>Aggregate</td>\n",
       "      <td>NaN</td>\n",
       "      <td>0.646875</td>\n",
       "      <td>0.807484</td>\n",
       "      <td>0.915641</td>\n",
       "      <td>0.858168</td>\n",
       "      <td>NaN</td>\n",
       "      <td>NaN</td>\n",
       "      <td>NaN</td>\n",
       "      <td>NaN</td>\n",
       "    </tr>\n",
       "  </tbody>\n",
       "</table>\n",
       "</div>"
      ],
      "text/plain": [
       "         Event  Threshold  Exact Matching Score  Precision    Recall  \\\n",
       "0     Exposure   0.415216              0.893945   0.922861  0.924677   \n",
       "1       Burial   0.535071              0.901172   0.771885  0.959667   \n",
       "2  Field Joint   0.481125              0.916602   0.686464  0.713056   \n",
       "3        Anode   0.471957              0.843555   0.233645  0.781250   \n",
       "4    Free Span   0.543447              0.973828   0.969549  0.958087   \n",
       "5    Aggregate        NaN              0.646875   0.807484  0.915641   \n",
       "\n",
       "   F1-Score      tn     fp     fn      tp  \n",
       "0  0.923768  1287.0  275.0  268.0  3290.0  \n",
       "1  0.855594  3115.0  443.0   63.0  1499.0  \n",
       "2  0.699507  4196.0  227.0  200.0   497.0  \n",
       "3  0.359712  4094.0  738.0   63.0   225.0  \n",
       "4  0.963784  3203.0   56.0   78.0  1783.0  \n",
       "5  0.858168     NaN    NaN    NaN     NaN  "
      ]
     },
     "execution_count": 13,
     "metadata": {},
     "output_type": "execute_result"
    }
   ],
   "source": [
    "new_compute_metrics(y_tr, y_pr, thresholds, classes)"
   ]
  },
  {
   "cell_type": "markdown",
   "metadata": {},
   "source": [
    "# test set"
   ]
  },
  {
   "cell_type": "code",
   "execution_count": 14,
   "metadata": {},
   "outputs": [],
   "source": [
    "torch.cuda.empty_cache()"
   ]
  },
  {
   "cell_type": "code",
   "execution_count": 15,
   "metadata": {},
   "outputs": [],
   "source": [
    "model.eval()\n",
    "y_true = []\n",
    "y_pred = []\n",
    "with torch.no_grad():\n",
    "    for X, y in test_loader:\n",
    "        X = X.to(device)\n",
    "        y = Variable(y.float()).to(device) \n",
    "        y = y.squeeze(dim=1)\n",
    "        y = y.float()\n",
    "        output = model(X)\n",
    "        y = y.detach().cpu()\n",
    "        #loss = criterion(output, y)\n",
    "        preds = torch.sigmoid(output)\n",
    "        preds = preds.to(torch.float32) \n",
    "        preds = preds.detach().cpu()\n",
    "        y_pred.append(preds)\n",
    "        y_true.append(y)"
   ]
  },
  {
   "cell_type": "code",
   "execution_count": 16,
   "metadata": {},
   "outputs": [],
   "source": [
    "y_tr = np.vstack([t.__array__() for tensor in y_true for t in tensor])"
   ]
  },
  {
   "cell_type": "code",
   "execution_count": 17,
   "metadata": {},
   "outputs": [],
   "source": [
    "y_pr = np.vstack([t.__array__() for tensor in y_pred for t in tensor])"
   ]
  },
  {
   "cell_type": "code",
   "execution_count": 18,
   "metadata": {},
   "outputs": [
    {
     "data": {
      "text/html": [
       "<div>\n",
       "<style scoped>\n",
       "    .dataframe tbody tr th:only-of-type {\n",
       "        vertical-align: middle;\n",
       "    }\n",
       "\n",
       "    .dataframe tbody tr th {\n",
       "        vertical-align: top;\n",
       "    }\n",
       "\n",
       "    .dataframe thead th {\n",
       "        text-align: right;\n",
       "    }\n",
       "</style>\n",
       "<table border=\"1\" class=\"dataframe\">\n",
       "  <thead>\n",
       "    <tr style=\"text-align: right;\">\n",
       "      <th></th>\n",
       "      <th>Event</th>\n",
       "      <th>Threshold</th>\n",
       "      <th>Exact Matching Score</th>\n",
       "      <th>Precision</th>\n",
       "      <th>Recall</th>\n",
       "      <th>F1-Score</th>\n",
       "      <th>tn</th>\n",
       "      <th>fp</th>\n",
       "      <th>fn</th>\n",
       "      <th>tp</th>\n",
       "    </tr>\n",
       "  </thead>\n",
       "  <tbody>\n",
       "    <tr>\n",
       "      <th>0</th>\n",
       "      <td>Exposure</td>\n",
       "      <td>0.415216</td>\n",
       "      <td>0.722842</td>\n",
       "      <td>0.724013</td>\n",
       "      <td>0.920901</td>\n",
       "      <td>0.810673</td>\n",
       "      <td>696.0</td>\n",
       "      <td>1216.0</td>\n",
       "      <td>274.0</td>\n",
       "      <td>3190.0</td>\n",
       "    </tr>\n",
       "    <tr>\n",
       "      <th>1</th>\n",
       "      <td>Burial</td>\n",
       "      <td>0.535071</td>\n",
       "      <td>0.787202</td>\n",
       "      <td>0.690099</td>\n",
       "      <td>0.729079</td>\n",
       "      <td>0.709054</td>\n",
       "      <td>2838.0</td>\n",
       "      <td>626.0</td>\n",
       "      <td>518.0</td>\n",
       "      <td>1394.0</td>\n",
       "    </tr>\n",
       "    <tr>\n",
       "      <th>2</th>\n",
       "      <td>Field Joint</td>\n",
       "      <td>0.481125</td>\n",
       "      <td>0.865699</td>\n",
       "      <td>0.450450</td>\n",
       "      <td>0.722311</td>\n",
       "      <td>0.554871</td>\n",
       "      <td>4204.0</td>\n",
       "      <td>549.0</td>\n",
       "      <td>173.0</td>\n",
       "      <td>450.0</td>\n",
       "    </tr>\n",
       "    <tr>\n",
       "      <th>3</th>\n",
       "      <td>Anode</td>\n",
       "      <td>0.471957</td>\n",
       "      <td>0.725074</td>\n",
       "      <td>0.151707</td>\n",
       "      <td>0.638298</td>\n",
       "      <td>0.245148</td>\n",
       "      <td>3658.0</td>\n",
       "      <td>1342.0</td>\n",
       "      <td>136.0</td>\n",
       "      <td>240.0</td>\n",
       "    </tr>\n",
       "    <tr>\n",
       "      <th>4</th>\n",
       "      <td>Free Span</td>\n",
       "      <td>0.543447</td>\n",
       "      <td>0.974516</td>\n",
       "      <td>0.927415</td>\n",
       "      <td>0.995803</td>\n",
       "      <td>0.960393</td>\n",
       "      <td>3578.0</td>\n",
       "      <td>130.0</td>\n",
       "      <td>7.0</td>\n",
       "      <td>1661.0</td>\n",
       "    </tr>\n",
       "    <tr>\n",
       "      <th>5</th>\n",
       "      <td>Aggregate</td>\n",
       "      <td>NaN</td>\n",
       "      <td>0.462054</td>\n",
       "      <td>0.642249</td>\n",
       "      <td>0.862240</td>\n",
       "      <td>0.736161</td>\n",
       "      <td>NaN</td>\n",
       "      <td>NaN</td>\n",
       "      <td>NaN</td>\n",
       "      <td>NaN</td>\n",
       "    </tr>\n",
       "  </tbody>\n",
       "</table>\n",
       "</div>"
      ],
      "text/plain": [
       "         Event  Threshold  Exact Matching Score  Precision    Recall  \\\n",
       "0     Exposure   0.415216              0.722842   0.724013  0.920901   \n",
       "1       Burial   0.535071              0.787202   0.690099  0.729079   \n",
       "2  Field Joint   0.481125              0.865699   0.450450  0.722311   \n",
       "3        Anode   0.471957              0.725074   0.151707  0.638298   \n",
       "4    Free Span   0.543447              0.974516   0.927415  0.995803   \n",
       "5    Aggregate        NaN              0.462054   0.642249  0.862240   \n",
       "\n",
       "   F1-Score      tn      fp     fn      tp  \n",
       "0  0.810673   696.0  1216.0  274.0  3190.0  \n",
       "1  0.709054  2838.0   626.0  518.0  1394.0  \n",
       "2  0.554871  4204.0   549.0  173.0   450.0  \n",
       "3  0.245148  3658.0  1342.0  136.0   240.0  \n",
       "4  0.960393  3578.0   130.0    7.0  1661.0  \n",
       "5  0.736161     NaN     NaN    NaN     NaN  "
      ]
     },
     "execution_count": 18,
     "metadata": {},
     "output_type": "execute_result"
    }
   ],
   "source": [
    "new_compute_metrics(y_tr, y_pr, thresholds, classes)"
   ]
  },
  {
   "cell_type": "code",
   "execution_count": null,
   "metadata": {},
   "outputs": [],
   "source": []
  },
  {
   "cell_type": "code",
   "execution_count": null,
   "metadata": {},
   "outputs": [],
   "source": []
  },
  {
   "cell_type": "code",
   "execution_count": null,
   "metadata": {},
   "outputs": [],
   "source": []
  },
  {
   "cell_type": "code",
   "execution_count": null,
   "metadata": {},
   "outputs": [],
   "source": []
  },
  {
   "cell_type": "code",
   "execution_count": null,
   "metadata": {},
   "outputs": [],
   "source": []
  },
  {
   "cell_type": "code",
   "execution_count": null,
   "metadata": {},
   "outputs": [],
   "source": []
  },
  {
   "cell_type": "code",
   "execution_count": null,
   "metadata": {},
   "outputs": [],
   "source": []
  }
 ],
 "metadata": {
  "kernelspec": {
   "display_name": "Python 3",
   "language": "python",
   "name": "python3"
  },
  "language_info": {
   "codemirror_mode": {
    "name": "ipython",
    "version": 3
   },
   "file_extension": ".py",
   "mimetype": "text/x-python",
   "name": "python",
   "nbconvert_exporter": "python",
   "pygments_lexer": "ipython3",
   "version": "3.7.7"
  }
 },
 "nbformat": 4,
 "nbformat_minor": 4
}
