{
 "cells": [
  {
   "cell_type": "code",
   "execution_count": 1,
   "metadata": {
    "collapsed": false,
    "jupyter": {
     "outputs_hidden": false
    }
   },
   "outputs": [],
   "source": [
    "%matplotlib inline"
   ]
  },
  {
   "cell_type": "markdown",
   "metadata": {},
   "source": [
    "\n",
    "# Receiver Operating Characteristic (ROC)\n",
    "\n",
    "Example of Receiver Operating Characteristic (ROC) metric to evaluate\n",
    "classifier output quality.\n",
    "\n",
    "ROC curves typically feature true positive rate on the Y axis, and false\n",
    "positive rate on the X axis. This means that the top left corner of the plot is\n",
    "the \"ideal\" point - a false positive rate of zero, and a true positive rate of\n",
    "one. This is not very realistic, but it does mean that a larger area under the\n",
    "curve (AUC) is usually better.\n",
    "\n",
    "The \"steepness\" of ROC curves is also important, since it is ideal to maximize\n",
    "the true positive rate while minimizing the false positive rate.\n",
    "\n",
    "ROC curves are typically used in binary classification to study the output of\n",
    "a classifier. In order to extend ROC curve and ROC area to multi-label\n",
    "classification, it is necessary to binarize the output. One ROC\n",
    "curve can be drawn per label, but one can also draw a ROC curve by considering\n",
    "each element of the label indicator matrix as a binary prediction\n",
    "(micro-averaging).\n",
    "\n",
    "Another evaluation measure for multi-label classification is\n",
    "macro-averaging, which gives equal weight to the classification of each\n",
    "label.\n",
    "\n",
    "<div class=\"alert alert-info\"><h4>Note</h4><p>See also :func:`sklearn.metrics.roc_auc_score`,\n",
    "             `sphx_glr_auto_examples_model_selection_plot_roc_crossval.py`</p></div>\n"
   ]
  },
  {
   "cell_type": "code",
   "execution_count": 4,
   "metadata": {
    "collapsed": false,
    "jupyter": {
     "outputs_hidden": false
    }
   },
   "outputs": [
    {
     "name": "stdout",
     "output_type": "stream",
     "text": [
      "Automatically created module for IPython interactive environment\n"
     ]
    }
   ],
   "source": [
    "print(__doc__)\n",
    "\n",
    "import numpy as np\n",
    "import matplotlib.pyplot as plt\n",
    "from itertools import cycle\n",
    "\n",
    "from sklearn import svm, datasets\n",
    "from sklearn.metrics import roc_curve, auc\n",
    "from sklearn.model_selection import train_test_split\n",
    "from sklearn.preprocessing import label_binarize\n",
    "from sklearn.multiclass import OneVsRestClassifier\n",
    "from scipy import interp\n",
    "from sklearn.metrics import roc_auc_score\n",
    "\n",
    "# Import some data to play with\n",
    "iris = datasets.load_iris()\n",
    "X = iris.data\n",
    "y = iris.target"
   ]
  },
  {
   "cell_type": "code",
   "execution_count": 5,
   "metadata": {},
   "outputs": [
    {
     "data": {
      "text/plain": [
       "array([0, 0, 0, 0, 0, 0, 0, 0, 0, 0, 0, 0, 0, 0, 0, 0, 0, 0, 0, 0, 0, 0,\n",
       "       0, 0, 0, 0, 0, 0, 0, 0, 0, 0, 0, 0, 0, 0, 0, 0, 0, 0, 0, 0, 0, 0,\n",
       "       0, 0, 0, 0, 0, 0, 1, 1, 1, 1, 1, 1, 1, 1, 1, 1, 1, 1, 1, 1, 1, 1,\n",
       "       1, 1, 1, 1, 1, 1, 1, 1, 1, 1, 1, 1, 1, 1, 1, 1, 1, 1, 1, 1, 1, 1,\n",
       "       1, 1, 1, 1, 1, 1, 1, 1, 1, 1, 1, 1, 2, 2, 2, 2, 2, 2, 2, 2, 2, 2,\n",
       "       2, 2, 2, 2, 2, 2, 2, 2, 2, 2, 2, 2, 2, 2, 2, 2, 2, 2, 2, 2, 2, 2,\n",
       "       2, 2, 2, 2, 2, 2, 2, 2, 2, 2, 2, 2, 2, 2, 2, 2, 2, 2])"
      ]
     },
     "execution_count": 5,
     "metadata": {},
     "output_type": "execute_result"
    }
   ],
   "source": [
    "y"
   ]
  },
  {
   "cell_type": "code",
   "execution_count": 6,
   "metadata": {},
   "outputs": [],
   "source": [
    "# Binarize the output\n",
    "y = label_binarize(y, classes=[0, 1, 2])\n",
    "n_classes = y.shape[1]"
   ]
  },
  {
   "cell_type": "code",
   "execution_count": 8,
   "metadata": {},
   "outputs": [
    {
     "data": {
      "text/plain": [
       "3"
      ]
     },
     "execution_count": 8,
     "metadata": {},
     "output_type": "execute_result"
    }
   ],
   "source": [
    "n_classes"
   ]
  },
  {
   "cell_type": "code",
   "execution_count": 11,
   "metadata": {
    "scrolled": true
   },
   "outputs": [
    {
     "data": {
      "text/plain": [
       "(150, 4)"
      ]
     },
     "execution_count": 11,
     "metadata": {},
     "output_type": "execute_result"
    }
   ],
   "source": [
    "X.shape"
   ]
  },
  {
   "cell_type": "code",
   "execution_count": 12,
   "metadata": {},
   "outputs": [],
   "source": [
    "# Add noisy features to make the problem harder\n",
    "random_state = np.random.RandomState(0)\n",
    "n_samples, n_features = X.shape\n",
    "X = np.c_[X, random_state.randn(n_samples, 200 * n_features)]"
   ]
  },
  {
   "cell_type": "code",
   "execution_count": 14,
   "metadata": {},
   "outputs": [
    {
     "data": {
      "text/plain": [
       "(150, 804)"
      ]
     },
     "execution_count": 14,
     "metadata": {},
     "output_type": "execute_result"
    }
   ],
   "source": [
    "X.shape"
   ]
  },
  {
   "cell_type": "code",
   "execution_count": 15,
   "metadata": {},
   "outputs": [],
   "source": [
    "# shuffle and split training and test sets\n",
    "X_train, X_test, y_train, y_test = train_test_split(X, y, test_size=.5, random_state=0)\n",
    "\n",
    "# Learn to predict each class against the other\n",
    "classifier = OneVsRestClassifier(svm.SVC(kernel='linear', probability=True, random_state=random_state))\n",
    "y_score = classifier.fit(X_train, y_train).decision_function(X_test)"
   ]
  },
  {
   "cell_type": "code",
   "execution_count": 16,
   "metadata": {
    "scrolled": true
   },
   "outputs": [
    {
     "data": {
      "text/plain": [
       "array([[-0.76301132, -0.36482547,  0.12386354],\n",
       "       [-0.20224493, -0.63144366, -0.16612302],\n",
       "       [ 0.11801481, -0.80263073, -0.32055874],\n",
       "       [-0.90780855, -0.12395478,  0.02199789],\n",
       "       [-0.01116192, -0.27913475, -0.71889214],\n",
       "       [-0.6048727 , -0.34730509, -0.05859016],\n",
       "       [ 0.02283491, -0.24506467, -0.79111998],\n",
       "       [-0.61076876,  0.18264917, -0.57199363],\n",
       "       [-0.37572754, -0.24059516, -0.38933694],\n",
       "       [-0.47017411, -0.25745136, -0.27510839],\n",
       "       [-0.42224234, -0.30270719, -0.27995197],\n",
       "       [-0.3355867 , -0.7030665 ,  0.02530178],\n",
       "       [-0.22723929, -0.64062258, -0.13456902],\n",
       "       [-0.07856729, -0.46354017, -0.45918364],\n",
       "       [-0.53383361, -0.2653183 , -0.20023832],\n",
       "       [ 0.12163662, -0.56706353, -0.56980985],\n",
       "       [-0.71356947, -0.04226738, -0.24297128],\n",
       "       [-0.55111511, -0.13784913, -0.31370595],\n",
       "       [ 0.37991331, -0.99673302, -0.39090964],\n",
       "       [-0.11107635, -0.91349462,  0.03129167],\n",
       "       [-0.70713712, -0.06436533, -0.21423788],\n",
       "       [-0.02392675, -0.45906496, -0.51922684],\n",
       "       [-0.25045747, -0.80086123,  0.04121338],\n",
       "       [ 0.12675547, -0.70985659, -0.41072849],\n",
       "       [-0.68210402, -0.20735021, -0.12051204],\n",
       "       [-0.08001795, -0.36698232, -0.57704892],\n",
       "       [-0.03259341, -0.1159895 , -0.86493066],\n",
       "       [-0.04953425, -0.73611276, -0.21682409],\n",
       "       [-0.12974835, -0.37676258, -0.49997476],\n",
       "       [-0.19299299, -0.71078341, -0.11058011],\n",
       "       [-0.3619768 , -0.41408367, -0.22759345],\n",
       "       [-0.22818639, -0.78971942,  0.02046723],\n",
       "       [-0.06196433, -0.47617037, -0.45379557],\n",
       "       [-0.52455061, -0.46507392, -0.00375631],\n",
       "       [-0.40026409, -0.71470221,  0.10106561],\n",
       "       [-0.35056585, -0.31125083, -0.34020065],\n",
       "       [-0.05770139, -0.51388968, -0.41776502],\n",
       "       [-1.11907501, -0.0074193 ,  0.12967625],\n",
       "       [ 0.19599366, -0.65773489, -0.54610377],\n",
       "       [-0.04299172, -0.60049718, -0.35901924],\n",
       "       [-0.48108269, -0.21918849, -0.30065047],\n",
       "       [ 0.1741885 , -1.0107504 , -0.181261  ],\n",
       "       [-0.41416456, -0.60044961,  0.00856393],\n",
       "       [-0.01053513, -0.7579771 , -0.2292247 ],\n",
       "       [ 0.01645355, -0.81552421, -0.2039252 ],\n",
       "       [-0.11932181, -0.84787471, -0.05831557],\n",
       "       [-0.70817199, -0.2863326 , -0.01186087],\n",
       "       [-0.77303401, -0.43228203,  0.21326435],\n",
       "       [-0.61489613, -0.15060119, -0.23302033],\n",
       "       [-0.96334774, -0.62804881,  0.58423201],\n",
       "       [-0.31037723, -0.29572764, -0.39404258],\n",
       "       [-0.31952657, -0.34638653, -0.32086131],\n",
       "       [-0.35306417, -0.66917752,  0.00767521],\n",
       "       [ 0.12127427, -0.62483455, -0.50550427],\n",
       "       [-0.6643231 , -0.11456775, -0.21298739],\n",
       "       [-0.55149778, -0.34855346, -0.10551977],\n",
       "       [-0.55695146, -0.13384038, -0.30613086],\n",
       "       [-0.41111447, -0.52487765, -0.07455313],\n",
       "       [-0.49463336, -0.23331763, -0.27802284],\n",
       "       [ 0.06910059, -0.85448531, -0.21662877],\n",
       "       [-0.23036784, -0.48759987, -0.28317657],\n",
       "       [ 0.30342285, -0.83392076, -0.47754831],\n",
       "       [ 0.17642852, -0.81597935, -0.3755452 ],\n",
       "       [-0.1906155 , -0.70826295, -0.10238744],\n",
       "       [-0.42910413, -0.39894364, -0.1693745 ],\n",
       "       [-0.67759563,  0.09194626, -0.3995789 ],\n",
       "       [-0.32958811, -0.56572577, -0.12075396],\n",
       "       [-0.97119543, -0.46484965,  0.41477557],\n",
       "       [ 0.02088168, -0.56912947, -0.44616888],\n",
       "       [-0.08177305, -0.5611945 , -0.35229343],\n",
       "       [-0.41466962, -0.63705856,  0.04838688],\n",
       "       [-0.30436228, -0.08425378, -0.61864694],\n",
       "       [ 0.18869727, -0.8879586 , -0.29713077],\n",
       "       [ 0.24966175, -0.80507517, -0.44324457],\n",
       "       [-0.39980476, -0.29016769, -0.30413406]])"
      ]
     },
     "execution_count": 16,
     "metadata": {},
     "output_type": "execute_result"
    }
   ],
   "source": [
    "y_score"
   ]
  },
  {
   "cell_type": "code",
   "execution_count": 18,
   "metadata": {
    "scrolled": true
   },
   "outputs": [
    {
     "data": {
      "text/plain": [
       "array([[0, 0, 1],\n",
       "       [0, 1, 0],\n",
       "       [1, 0, 0],\n",
       "       [0, 0, 1],\n",
       "       [1, 0, 0],\n",
       "       [0, 0, 1],\n",
       "       [1, 0, 0],\n",
       "       [0, 1, 0],\n",
       "       [0, 1, 0],\n",
       "       [0, 1, 0],\n",
       "       [0, 0, 1],\n",
       "       [0, 1, 0],\n",
       "       [0, 1, 0],\n",
       "       [0, 1, 0],\n",
       "       [0, 1, 0],\n",
       "       [1, 0, 0],\n",
       "       [0, 1, 0],\n",
       "       [0, 1, 0],\n",
       "       [1, 0, 0],\n",
       "       [1, 0, 0],\n",
       "       [0, 0, 1],\n",
       "       [0, 1, 0],\n",
       "       [1, 0, 0],\n",
       "       [1, 0, 0],\n",
       "       [0, 0, 1],\n",
       "       [1, 0, 0],\n",
       "       [1, 0, 0],\n",
       "       [0, 1, 0],\n",
       "       [0, 1, 0],\n",
       "       [1, 0, 0],\n",
       "       [0, 0, 1],\n",
       "       [0, 1, 0],\n",
       "       [1, 0, 0],\n",
       "       [0, 0, 1],\n",
       "       [0, 0, 1],\n",
       "       [0, 1, 0],\n",
       "       [1, 0, 0],\n",
       "       [0, 1, 0],\n",
       "       [0, 1, 0],\n",
       "       [0, 1, 0],\n",
       "       [0, 0, 1],\n",
       "       [1, 0, 0],\n",
       "       [0, 0, 1],\n",
       "       [1, 0, 0],\n",
       "       [1, 0, 0],\n",
       "       [0, 1, 0],\n",
       "       [0, 0, 1],\n",
       "       [0, 0, 1],\n",
       "       [0, 0, 1],\n",
       "       [0, 0, 1],\n",
       "       [0, 1, 0],\n",
       "       [0, 0, 1],\n",
       "       [0, 1, 0],\n",
       "       [0, 1, 0],\n",
       "       [0, 0, 1],\n",
       "       [0, 0, 1],\n",
       "       [0, 0, 1],\n",
       "       [0, 0, 1],\n",
       "       [0, 1, 0],\n",
       "       [0, 0, 1],\n",
       "       [0, 1, 0],\n",
       "       [1, 0, 0],\n",
       "       [0, 0, 1],\n",
       "       [0, 1, 0],\n",
       "       [0, 1, 0],\n",
       "       [0, 1, 0],\n",
       "       [0, 1, 0],\n",
       "       [0, 0, 1],\n",
       "       [1, 0, 0],\n",
       "       [1, 0, 0],\n",
       "       [0, 0, 1],\n",
       "       [0, 1, 0],\n",
       "       [1, 0, 0],\n",
       "       [1, 0, 0],\n",
       "       [0, 1, 0]])"
      ]
     },
     "execution_count": 18,
     "metadata": {},
     "output_type": "execute_result"
    }
   ],
   "source": [
    "y_test"
   ]
  },
  {
   "cell_type": "code",
   "execution_count": 19,
   "metadata": {},
   "outputs": [],
   "source": [
    "# Compute ROC curve and ROC area for each class\n",
    "fpr = dict()\n",
    "tpr = dict()\n",
    "roc_auc = dict()\n",
    "for i in range(n_classes):\n",
    "    fpr[i], tpr[i], _ = roc_curve(y_test[:, i], y_score[:, i])\n",
    "    roc_auc[i] = auc(fpr[i], tpr[i])"
   ]
  },
  {
   "cell_type": "code",
   "execution_count": 22,
   "metadata": {},
   "outputs": [
    {
     "data": {
      "text/plain": [
       "array([0, 0, 1, 0, 1, 0, 1, 0, 0, 0, 0, 1, 1, 0, 0, 0, 0, 1, 1, 0, 0, 0,\n",
       "       1, 0, 0, 1, 0, 0, 1, 0, 0, 0, 1, 0, 1, 0, 0, 1, 0, 0, 1, 0, 0, 1,\n",
       "       0, 1, 0, 0, 0, 1, 0, 0, 1, 0, 1, 0, 0, 1, 0, 0, 0, 0, 1, 0, 1, 0,\n",
       "       1, 0, 0, 1, 0, 0, 0, 0, 1, 1, 0, 0, 1, 0, 0, 0, 1, 0, 0, 1, 0, 1,\n",
       "       0, 0, 0, 0, 1, 0, 1, 0, 1, 0, 0, 0, 0, 1, 0, 0, 1, 0, 1, 0, 1, 0,\n",
       "       0, 0, 1, 0, 0, 1, 0, 0, 1, 0, 0, 0, 1, 1, 0, 0, 0, 0, 1, 1, 0, 0,\n",
       "       1, 0, 0, 0, 1, 0, 0, 0, 1, 0, 0, 1, 0, 0, 1, 0, 0, 1, 0, 1, 0, 0,\n",
       "       0, 1, 0, 1, 0, 0, 1, 0, 0, 0, 1, 0, 0, 1, 0, 0, 1, 0, 0, 1, 0, 1,\n",
       "       0, 0, 0, 1, 0, 1, 0, 1, 0, 0, 0, 0, 1, 0, 1, 0, 0, 1, 0, 0, 1, 0,\n",
       "       0, 1, 0, 0, 0, 1, 1, 0, 0, 1, 0, 0, 0, 0, 1, 0, 1, 0, 1, 0, 0, 1,\n",
       "       0, 0, 0, 1, 0])"
      ]
     },
     "execution_count": 22,
     "metadata": {},
     "output_type": "execute_result"
    }
   ],
   "source": [
    "y_test.ravel()"
   ]
  },
  {
   "cell_type": "code",
   "execution_count": 20,
   "metadata": {},
   "outputs": [],
   "source": [
    "# Compute micro-average ROC curve and ROC area\n",
    "fpr[\"micro\"], tpr[\"micro\"], _ = roc_curve(y_test.ravel(), y_score.ravel())\n",
    "roc_auc[\"micro\"] = auc(fpr[\"micro\"], tpr[\"micro\"])"
   ]
  },
  {
   "cell_type": "code",
   "execution_count": 39,
   "metadata": {
    "scrolled": true
   },
   "outputs": [
    {
     "data": {
      "text/plain": [
       "{0: array([0.        , 0.        , 0.        , 0.01851852, 0.01851852,\n",
       "        0.03703704, 0.03703704, 0.05555556, 0.05555556, 0.07407407,\n",
       "        0.07407407, 0.09259259, 0.09259259, 0.12962963, 0.12962963,\n",
       "        0.14814815, 0.14814815, 0.2037037 , 0.2037037 , 0.27777778,\n",
       "        0.27777778, 1.        ]),\n",
       " 1: array([0.        , 0.        , 0.        , 0.02222222, 0.02222222,\n",
       "        0.11111111, 0.11111111, 0.17777778, 0.17777778, 0.2       ,\n",
       "        0.2       , 0.24444444, 0.24444444, 0.26666667, 0.26666667,\n",
       "        0.37777778, 0.37777778, 0.42222222, 0.42222222, 0.48888889,\n",
       "        0.48888889, 0.55555556, 0.55555556, 0.62222222, 0.62222222,\n",
       "        0.64444444, 0.64444444, 0.66666667, 0.66666667, 0.73333333,\n",
       "        0.73333333, 0.75555556, 0.75555556, 0.88888889, 0.88888889,\n",
       "        1.        ]),\n",
       " 2: array([0.        , 0.        , 0.        , 0.01960784, 0.01960784,\n",
       "        0.07843137, 0.07843137, 0.09803922, 0.09803922, 0.11764706,\n",
       "        0.11764706, 0.1372549 , 0.1372549 , 0.15686275, 0.15686275,\n",
       "        0.17647059, 0.17647059, 0.31372549, 0.31372549, 0.33333333,\n",
       "        0.33333333, 0.35294118, 0.35294118, 0.41176471, 0.41176471,\n",
       "        0.45098039, 0.45098039, 0.47058824, 0.47058824, 0.50980392,\n",
       "        0.50980392, 0.56862745, 0.56862745, 1.        ]),\n",
       " 'micro': array([0.        , 0.        , 0.        , 0.00666667, 0.00666667,\n",
       "        0.01333333, 0.01333333, 0.02      , 0.02      , 0.02666667,\n",
       "        0.02666667, 0.03333333, 0.03333333, 0.05333333, 0.05333333,\n",
       "        0.06      , 0.06      , 0.06666667, 0.06666667, 0.07333333,\n",
       "        0.07333333, 0.08666667, 0.08666667, 0.09333333, 0.09333333,\n",
       "        0.1       , 0.1       , 0.10666667, 0.10666667, 0.11333333,\n",
       "        0.11333333, 0.12      , 0.12      , 0.14      , 0.14      ,\n",
       "        0.17333333, 0.17333333, 0.20666667, 0.20666667, 0.23333333,\n",
       "        0.23333333, 0.25333333, 0.25333333, 0.27333333, 0.27333333,\n",
       "        0.28666667, 0.28666667, 0.30666667, 0.30666667, 0.32      ,\n",
       "        0.32      , 0.32666667, 0.32666667, 0.34666667, 0.34666667,\n",
       "        0.35333333, 0.35333333, 0.37333333, 0.37333333, 0.46      ,\n",
       "        0.46      , 0.46666667, 0.46666667, 0.48666667, 0.48666667,\n",
       "        0.58666667, 0.58666667, 0.59333333, 0.59333333, 0.63333333,\n",
       "        0.63333333, 0.72      , 0.72      , 0.76      , 0.76      ,\n",
       "        0.78666667, 0.78666667, 0.79333333, 0.79333333, 0.8       ,\n",
       "        0.8       , 0.80666667, 0.80666667, 0.82      , 0.82      ,\n",
       "        0.83333333, 0.83333333, 0.86666667, 0.86666667, 0.88666667,\n",
       "        0.88666667, 0.93333333, 0.93333333, 1.        ]),\n",
       " 'weighted': array([0.        , 0.        , 0.        , 0.00666667, 0.00666667,\n",
       "        0.01333333, 0.01333333, 0.02      , 0.02      , 0.02666667,\n",
       "        0.02666667, 0.03333333, 0.03333333, 0.05333333, 0.05333333,\n",
       "        0.06      , 0.06      , 0.06666667, 0.06666667, 0.07333333,\n",
       "        0.07333333, 0.08666667, 0.08666667, 0.09333333, 0.09333333,\n",
       "        0.1       , 0.1       , 0.10666667, 0.10666667, 0.11333333,\n",
       "        0.11333333, 0.12      , 0.12      , 0.14      , 0.14      ,\n",
       "        0.17333333, 0.17333333, 0.20666667, 0.20666667, 0.23333333,\n",
       "        0.23333333, 0.25333333, 0.25333333, 0.27333333, 0.27333333,\n",
       "        0.28666667, 0.28666667, 0.30666667, 0.30666667, 0.32      ,\n",
       "        0.32      , 0.32666667, 0.32666667, 0.34666667, 0.34666667,\n",
       "        0.35333333, 0.35333333, 0.37333333, 0.37333333, 0.46      ,\n",
       "        0.46      , 0.46666667, 0.46666667, 0.48666667, 0.48666667,\n",
       "        0.58666667, 0.58666667, 0.59333333, 0.59333333, 0.63333333,\n",
       "        0.63333333, 0.72      , 0.72      , 0.76      , 0.76      ,\n",
       "        0.78666667, 0.78666667, 0.79333333, 0.79333333, 0.8       ,\n",
       "        0.8       , 0.80666667, 0.80666667, 0.82      , 0.82      ,\n",
       "        0.83333333, 0.83333333, 0.86666667, 0.86666667, 0.88666667,\n",
       "        0.88666667, 0.93333333, 0.93333333, 1.        ]),\n",
       " 'macro': array([0.        , 0.        , 0.        , 0.00666667, 0.00666667,\n",
       "        0.01333333, 0.01333333, 0.02      , 0.02      , 0.02666667,\n",
       "        0.02666667, 0.03333333, 0.03333333, 0.05333333, 0.05333333,\n",
       "        0.06      , 0.06      , 0.06666667, 0.06666667, 0.07333333,\n",
       "        0.07333333, 0.08666667, 0.08666667, 0.09333333, 0.09333333,\n",
       "        0.1       , 0.1       , 0.10666667, 0.10666667, 0.11333333,\n",
       "        0.11333333, 0.12      , 0.12      , 0.14      , 0.14      ,\n",
       "        0.17333333, 0.17333333, 0.20666667, 0.20666667, 0.23333333,\n",
       "        0.23333333, 0.25333333, 0.25333333, 0.27333333, 0.27333333,\n",
       "        0.28666667, 0.28666667, 0.30666667, 0.30666667, 0.32      ,\n",
       "        0.32      , 0.32666667, 0.32666667, 0.34666667, 0.34666667,\n",
       "        0.35333333, 0.35333333, 0.37333333, 0.37333333, 0.46      ,\n",
       "        0.46      , 0.46666667, 0.46666667, 0.48666667, 0.48666667,\n",
       "        0.58666667, 0.58666667, 0.59333333, 0.59333333, 0.63333333,\n",
       "        0.63333333, 0.72      , 0.72      , 0.76      , 0.76      ,\n",
       "        0.78666667, 0.78666667, 0.79333333, 0.79333333, 0.8       ,\n",
       "        0.8       , 0.80666667, 0.80666667, 0.82      , 0.82      ,\n",
       "        0.83333333, 0.83333333, 0.86666667, 0.86666667, 0.88666667,\n",
       "        0.88666667, 0.93333333, 0.93333333, 1.        ])}"
      ]
     },
     "execution_count": 39,
     "metadata": {},
     "output_type": "execute_result"
    }
   ],
   "source": [
    "fpr"
   ]
  },
  {
   "cell_type": "code",
   "execution_count": 23,
   "metadata": {},
   "outputs": [
    {
     "data": {
      "text/plain": [
       "0.7277333333333333"
      ]
     },
     "execution_count": 23,
     "metadata": {},
     "output_type": "execute_result"
    }
   ],
   "source": [
    "roc_auc[\"micro\"]"
   ]
  },
  {
   "cell_type": "code",
   "execution_count": 37,
   "metadata": {},
   "outputs": [],
   "source": [
    "# Compute micro-average ROC curve and ROC area\n",
    "fpr[\"macro\"], tpr[\"macro\"], _ = roc_curve(y_test.ravel(), y_score.ravel())\n",
    "roc_auc[\"macro\"] = auc(fpr[\"macro\"], tpr[\"macro\"])"
   ]
  },
  {
   "cell_type": "code",
   "execution_count": 38,
   "metadata": {},
   "outputs": [
    {
     "data": {
      "text/plain": [
       "0.7277333333333333"
      ]
     },
     "execution_count": 38,
     "metadata": {},
     "output_type": "execute_result"
    }
   ],
   "source": [
    "roc_auc[\"macro\"]"
   ]
  },
  {
   "cell_type": "markdown",
   "metadata": {},
   "source": [
    "Plot of a ROC curve for a specific class\n",
    "\n"
   ]
  },
  {
   "cell_type": "code",
   "execution_count": 24,
   "metadata": {
    "collapsed": false,
    "jupyter": {
     "outputs_hidden": false
    }
   },
   "outputs": [
    {
     "data": {
      "image/png": "[encoded data removed]",
      "text/plain": [
       "<Figure size 432x288 with 1 Axes>"
      ]
     },
     "metadata": {
      "needs_background": "light"
     },
     "output_type": "display_data"
    }
   ],
   "source": [
    "plt.figure()\n",
    "lw = 2\n",
    "plt.plot(fpr[2], tpr[2], color='darkorange',\n",
    "         lw=lw, label='ROC curve (area = %0.2f)' % roc_auc[2])\n",
    "plt.plot([0, 1], [0, 1], color='navy', lw=lw, linestyle='--')\n",
    "plt.xlim([0.0, 1.0])\n",
    "plt.ylim([0.0, 1.05])\n",
    "plt.xlabel('False Positive Rate')\n",
    "plt.ylabel('True Positive Rate')\n",
    "plt.title('Receiver operating characteristic example')\n",
    "plt.legend(loc=\"lower right\")\n",
    "plt.show()"
   ]
  },
  {
   "cell_type": "markdown",
   "metadata": {},
   "source": [
    "## Plot ROC curves for the multilabel problem\n",
    "Compute macro-average ROC curve and ROC area\n",
    "\n"
   ]
  },
  {
   "cell_type": "code",
   "execution_count": 28,
   "metadata": {},
   "outputs": [],
   "source": [
    "# First aggregate all false positive rates\n",
    "all_fpr = np.unique(np.concatenate([fpr[i] for i in range(n_classes)]))"
   ]
  },
  {
   "cell_type": "code",
   "execution_count": 29,
   "metadata": {},
   "outputs": [
    {
     "data": {
      "text/plain": [
       "array([0.        , 0.01851852, 0.01960784, 0.02222222, 0.03703704,\n",
       "       0.05555556, 0.07407407, 0.07843137, 0.09259259, 0.09803922,\n",
       "       0.11111111, 0.11764706, 0.12962963, 0.1372549 , 0.14814815,\n",
       "       0.15686275, 0.17647059, 0.17777778, 0.2       , 0.2037037 ,\n",
       "       0.24444444, 0.26666667, 0.27777778, 0.31372549, 0.33333333,\n",
       "       0.35294118, 0.37777778, 0.41176471, 0.42222222, 0.45098039,\n",
       "       0.47058824, 0.48888889, 0.50980392, 0.55555556, 0.56862745,\n",
       "       0.62222222, 0.64444444, 0.66666667, 0.73333333, 0.75555556,\n",
       "       0.88888889, 1.        ])"
      ]
     },
     "execution_count": 29,
     "metadata": {},
     "output_type": "execute_result"
    }
   ],
   "source": [
    "all_fpr"
   ]
  },
  {
   "cell_type": "code",
   "execution_count": 31,
   "metadata": {},
   "outputs": [],
   "source": [
    "# Then interpolate all ROC curves at this points\n",
    "mean_tpr = np.zeros_like(all_fpr)\n",
    "for i in range(n_classes):\n",
    "    mean_tpr += np.interp(all_fpr, fpr[i], tpr[i])"
   ]
  },
  {
   "cell_type": "code",
   "execution_count": 33,
   "metadata": {},
   "outputs": [],
   "source": [
    "mean_tpr /= n_classes"
   ]
  },
  {
   "cell_type": "code",
   "execution_count": 34,
   "metadata": {},
   "outputs": [
    {
     "data": {
      "text/plain": [
       "array([0.13373016, 0.14960317, 0.19126984, 0.20238095, 0.25      ,\n",
       "       0.26587302, 0.3452381 , 0.35912698, 0.375     , 0.38888889,\n",
       "       0.4       , 0.42777778, 0.45952381, 0.48730159, 0.53492063,\n",
       "       0.54880952, 0.56269841, 0.58492063, 0.60714286, 0.62301587,\n",
       "       0.6452381 , 0.65634921, 0.67222222, 0.71388889, 0.72777778,\n",
       "       0.74166667, 0.76388889, 0.77777778, 0.8       , 0.81388889,\n",
       "       0.82777778, 0.83888889, 0.85277778, 0.86388889, 0.87777778,\n",
       "       0.9       , 0.91111111, 0.96666667, 0.97777778, 0.98888889,\n",
       "       1.        , 1.        ])"
      ]
     },
     "execution_count": 34,
     "metadata": {},
     "output_type": "execute_result"
    }
   ],
   "source": [
    "mean_tpr"
   ]
  },
  {
   "cell_type": "code",
   "execution_count": 35,
   "metadata": {
    "collapsed": false,
    "jupyter": {
     "outputs_hidden": false
    }
   },
   "outputs": [
    {
     "data": {
      "image/png": "[encoded data removed]",
      "text/plain": [
       "<Figure size 432x288 with 1 Axes>"
      ]
     },
     "metadata": {
      "needs_background": "light"
     },
     "output_type": "display_data"
    }
   ],
   "source": [
    "# Finally average it and compute AUC\n",
    "#mean_tpr /= n_classes\n",
    "\n",
    "fpr[\"macro\"] = all_fpr\n",
    "tpr[\"macro\"] = mean_tpr\n",
    "roc_auc[\"macro\"] = auc(fpr[\"macro\"], tpr[\"macro\"])\n",
    "\n",
    "# Plot all ROC curves\n",
    "plt.figure()\n",
    "plt.plot(fpr[\"micro\"], tpr[\"micro\"],\n",
    "         label='micro-average ROC curve (area = {0:0.2f})'''.format(roc_auc[\"micro\"]),\n",
    "         color='deeppink', linestyle=':', linewidth=4)\n",
    "\n",
    "plt.plot(fpr[\"macro\"], tpr[\"macro\"],\n",
    "         label='macro-average ROC curve (area = {0:0.2f})'''.format(roc_auc[\"macro\"]),\n",
    "         color='navy', linestyle=':', linewidth=4)\n",
    "\n",
    "colors = cycle(['aqua', 'darkorange', 'cornflowerblue'])\n",
    "for i, color in zip(range(n_classes), colors):\n",
    "    plt.plot(fpr[i], tpr[i], color=color, lw=lw, label='ROC curve of class {0} (area = {1:0.2f})'''.format(i, roc_auc[i]))\n",
    "\n",
    "plt.plot([0, 1], [0, 1], 'k--', lw=lw)\n",
    "plt.xlim([0.0, 1.0])\n",
    "plt.ylim([0.0, 1.05])\n",
    "plt.xlabel('False Positive Rate')\n",
    "plt.ylabel('True Positive Rate')\n",
    "plt.title('Some extension of Receiver operating characteristic to multi-class')\n",
    "plt.legend(loc=\"lower right\")\n",
    "plt.show()"
   ]
  },
  {
   "cell_type": "markdown",
   "metadata": {},
   "source": [
    "## Area under ROC for the multiclass problem\n",
    "The :func:`sklearn.metrics.roc_auc_score` function can be used for\n",
    "multi-class classification. The multi-class One-vs-One scheme compares every\n",
    "unique pairwise combination of classes. In this section, we calculate the AUC\n",
    "using the OvR and OvO schemes. We report a macro average, and a\n",
    "prevalence-weighted average.\n",
    "\n"
   ]
  },
  {
   "cell_type": "code",
   "execution_count": 40,
   "metadata": {},
   "outputs": [],
   "source": [
    "y_prob = classifier.predict_proba(X_test)"
   ]
  },
  {
   "cell_type": "code",
   "execution_count": 41,
   "metadata": {
    "scrolled": true
   },
   "outputs": [
    {
     "data": {
      "text/plain": [
       "array([[0.06548185, 0.28009701, 0.85673617],\n",
       "       [0.39343527, 0.24360441, 0.48134758],\n",
       "       [0.6970069 , 0.22194041, 0.25610591],\n",
       "       [0.03919529, 0.31578785, 0.75645528],\n",
       "       [0.57996733, 0.29251019, 0.02658435],\n",
       "       [0.11592663, 0.28260871, 0.64927185],\n",
       "       [0.61344851, 0.29753427, 0.01675224],\n",
       "       [0.11355341, 0.3661768 , 0.06411484],\n",
       "       [0.24535818, 0.29819703, 0.18124381],\n",
       "       [0.18275436, 0.29570193, 0.31551446],\n",
       "       [0.21284636, 0.28906341, 0.30883648],\n",
       "       [0.27598735, 0.23436945, 0.7603437 ],\n",
       "       [0.37080247, 0.24240723, 0.53195669],\n",
       "       [0.51351352, 0.26620334, 0.12385265],\n",
       "       [0.14803872, 0.2945416 , 0.42728055],\n",
       "       [0.70002944, 0.25211349, 0.0649614 ],\n",
       "       [0.07854163, 0.33186998, 0.36344899],\n",
       "       [0.13960787, 0.31366317, 0.26457872],\n",
       "       [0.86670886, 0.19908597, 0.17975006],\n",
       "       [0.48131933, 0.20866372, 0.7672848 ],\n",
       "       [0.08040636, 0.32862383, 0.40574087],\n",
       "       [0.56741862, 0.26682362, 0.08770446],\n",
       "       [0.35055261, 0.22215714, 0.77847273],\n",
       "       [0.70427178, 0.23350667, 0.16174491],\n",
       "       [0.08805349, 0.30315331, 0.55441722],\n",
       "       [0.5120772 , 0.27978875, 0.06219439],\n",
       "       [0.55889387, 0.31700937, 0.01043748],\n",
       "       [0.54220628, 0.23019127, 0.40182172],\n",
       "       [0.46289361, 0.27839354, 0.09811297],\n",
       "       [0.40201648, 0.23338908, 0.57024873],\n",
       "       [0.25558709, 0.27310897, 0.38573019],\n",
       "       [0.36996152, 0.22352524, 0.75463945],\n",
       "       [0.52993608, 0.26445773, 0.1276561 ],\n",
       "       [0.15273872, 0.26599097, 0.72470939],\n",
       "       [0.22780317, 0.23289232, 0.83776658],\n",
       "       [0.26428528, 0.28782012, 0.23282436],\n",
       "       [0.53414678, 0.25928839, 0.1557121 ],\n",
       "       [0.0170658 , 0.3370339 , 0.8612672 ],\n",
       "       [0.75807145, 0.24018602, 0.07484284],\n",
       "       [0.54865551, 0.24767014, 0.21194042],\n",
       "       [0.17638627, 0.30138308, 0.28120885],\n",
       "       [0.74186893, 0.19750599, 0.45716678],\n",
       "       [0.21825879, 0.24767642, 0.74021034],\n",
       "       [0.58058347, 0.22745571, 0.38332661],\n",
       "       [0.60714799, 0.2203658 , 0.42155859],\n",
       "       [0.47317061, 0.21645037, 0.64967324],\n",
       "       [0.08010365, 0.29145516, 0.71420597],\n",
       "       [0.06309289, 0.27055496, 0.91398092],\n",
       "       [0.1119174 , 0.31172001, 0.37776998],\n",
       "       [0.03152953, 0.24404821, 0.99136779],\n",
       "       [0.29638887, 0.29008145, 0.17680307],\n",
       "       [0.28888395, 0.28274077, 0.25573595],\n",
       "       [0.26236477, 0.23870854, 0.7391113 ],\n",
       "       [0.69972782, 0.2444689 , 0.09501567],\n",
       "       [0.09387832, 0.31722767, 0.40764304],\n",
       "       [0.13942582, 0.2824293 , 0.57830915],\n",
       "       [0.13685283, 0.31427538, 0.27415084],\n",
       "       [0.22032811, 0.25779493, 0.62780553],\n",
       "       [0.1687203 , 0.29927801, 0.31148687],\n",
       "       [0.65458313, 0.2156565 , 0.402117  ],\n",
       "       [0.36802933, 0.26288439, 0.30443429],\n",
       "       [0.82754765, 0.21813303, 0.1116135 ],\n",
       "       [0.74356545, 0.22031036, 0.19475813],\n",
       "       [0.40423806, 0.23370897, 0.58329857],\n",
       "       [0.20832613, 0.2752452 , 0.476139  ],\n",
       "       [0.08949873, 0.35206276, 0.17168836],\n",
       "       [0.28076249, 0.25229237, 0.55403128],\n",
       "       [0.03057242, 0.26602202, 0.97481167],\n",
       "       [0.61151886, 0.2518374 , 0.13320983],\n",
       "       [0.51033921, 0.25289891, 0.21924338],\n",
       "       [0.21791749, 0.2428716 , 0.78632037],\n",
       "       [0.30138372, 0.32190118, 0.0501923 ],\n",
       "       [0.75272755, 0.21166914, 0.28579963],\n",
       "       [0.79493868, 0.22164127, 0.13539295],\n",
       "       [0.22812352, 0.29089395, 0.27670965]])"
      ]
     },
     "execution_count": 41,
     "metadata": {},
     "output_type": "execute_result"
    }
   ],
   "source": [
    "y_prob"
   ]
  },
  {
   "cell_type": "code",
   "execution_count": 42,
   "metadata": {
    "collapsed": false,
    "jupyter": {
     "outputs_hidden": false
    }
   },
   "outputs": [
    {
     "name": "stdout",
     "output_type": "stream",
     "text": [
      "One-vs-One ROC AUC scores:\n",
      "0.767722 (macro),\n",
      "0.748802 (weighted by prevalence)\n",
      "One-vs-Rest ROC AUC scores:\n",
      "0.767722 (macro),\n",
      "0.748802 (weighted by prevalence)\n"
     ]
    }
   ],
   "source": [
    "macro_roc_auc_ovo = roc_auc_score(y_test, y_prob, multi_class=\"ovo\", average=\"macro\")\n",
    "weighted_roc_auc_ovo = roc_auc_score(y_test, y_prob, multi_class=\"ovo\", average=\"weighted\")\n",
    "macro_roc_auc_ovr = roc_auc_score(y_test, y_prob, multi_class=\"ovr\", average=\"macro\")\n",
    "weighted_roc_auc_ovr = roc_auc_score(y_test, y_prob, multi_class=\"ovr\", average=\"weighted\")\n",
    "\n",
    "print(\"One-vs-One ROC AUC scores:\\n{:.6f} (macro),\\n{:.6f} \"\n",
    "      \"(weighted by prevalence)\"\n",
    "      .format(macro_roc_auc_ovo, weighted_roc_auc_ovo))\n",
    "\n",
    "print(\"One-vs-Rest ROC AUC scores:\\n{:.6f} (macro),\\n{:.6f} \"\n",
    "      \"(weighted by prevalence)\"\n",
    "      .format(macro_roc_auc_ovr, weighted_roc_auc_ovr))"
   ]
  },
  {
   "cell_type": "code",
   "execution_count": null,
   "metadata": {},
   "outputs": [],
   "source": []
  }
 ],
 "metadata": {
  "kernelspec": {
   "display_name": "Python 3",
   "language": "python",
   "name": "python3"
  },
  "language_info": {
   "codemirror_mode": {
    "name": "ipython",
    "version": 3
   },
   "file_extension": ".py",
   "mimetype": "text/x-python",
   "name": "python",
   "nbconvert_exporter": "python",
   "pygments_lexer": "ipython3",
   "version": "3.7.7"
  }
 },
 "nbformat": 4,
 "nbformat_minor": 4
}
