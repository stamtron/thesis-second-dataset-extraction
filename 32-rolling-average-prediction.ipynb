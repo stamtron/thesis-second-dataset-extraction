{
 "cells": [
  {
   "cell_type": "code",
   "execution_count": null,
   "metadata": {},
   "outputs": [],
   "source": [
    "%reload_ext autoreload\n",
    "%autoreload 2\n",
    "%matplotlib inline"
   ]
  },
  {
   "cell_type": "code",
   "execution_count": null,
   "metadata": {},
   "outputs": [],
   "source": [
    "import cv2\n",
    "import numpy as np\n",
    "import matplotlib.pyplot as plt\n",
    "from fastai.vision import *\n",
    "import os\n",
    "import torch\n",
    "import torch.nn as nn\n",
    "import torch.optim as optim\n",
    "import torch.nn.functional as F\n",
    "from torch.utils.data import DataLoader\n",
    "import torchvision.transforms as transforms\n",
    "import torchvision.datasets as datasets\n",
    "import matplotlib.pyplot as plt\n",
    "import numpy as np\n",
    "from torch.autograd import Variable\n",
    "from helpers import *\n",
    "from fastai.vision import *\n",
    "import os\n",
    "import fastai\n",
    "import torch\n",
    "from pathlib import Path\n",
    "from fastai.callbacks.hooks import *\n",
    "from PIL import ImageFilter\n",
    "import numpy\n",
    "from torchvision import transforms\n",
    "import re\n",
    "from PIL import Image as Image1\n",
    "from fastai.vision import Image\n",
    "from torchsummary1 import summary"
   ]
  },
  {
   "cell_type": "code",
   "execution_count": null,
   "metadata": {},
   "outputs": [],
   "source": [
    "plt.rcParams['figure.figsize'] = (18,8)\n",
    "font = {'family' : 'DejaVu Sans',  'weight' : 'normal',  'size'  : 20}\n",
    "plt.rc('font', **font)"
   ]
  },
  {
   "cell_type": "markdown",
   "metadata": {},
   "source": [
    "# Loading the model"
   ]
  },
  {
   "cell_type": "code",
   "execution_count": null,
   "metadata": {},
   "outputs": [],
   "source": [
    "def list_dir(self, pattern=\"*\"):\n",
    "    import glob\n",
    "    return [Path(x) for x in glob.glob(str(self/pattern))]\n",
    "Path.ls = list_dir"
   ]
  },
  {
   "cell_type": "code",
   "execution_count": null,
   "metadata": {},
   "outputs": [],
   "source": [
    "def load_model():\n",
    "    test_seed = 23 \n",
    "    train_val_seed = 375\n",
    "    path = Path('./scratch')\n",
    "    folder='train2'\n",
    "    data_dir = path/'cvs'\n",
    "    file_format = 'cv-test_seed-{}-train_seed-{}.xlsx'\n",
    "    data_file = data_dir / file_format.format(test_seed, train_val_seed)\n",
    "    \n",
    "    df_train_val, _ = nsea_load_data_from_excel(data_file)\n",
    "    data=create_db_train_val(df_train_val, path, folder)\n",
    "    model_name = \"full-model-test_seed-{}-train_seed-{}\".format(test_seed, train_val_seed)\n",
    "    \n",
    "    arch = models.resnet50\n",
    "\n",
    "    learn = cnn_learner(data, arch)\n",
    "    learn.load(model_name);\n",
    "    return learn    "
   ]
  },
  {
   "cell_type": "code",
   "execution_count": null,
   "metadata": {},
   "outputs": [],
   "source": [
    "learn = load_model()"
   ]
  },
  {
   "cell_type": "code",
   "execution_count": null,
   "metadata": {},
   "outputs": [],
   "source": [
    "summary(learn.model, (3,576,704))"
   ]
  },
  {
   "cell_type": "markdown",
   "metadata": {},
   "source": [
    "# Export Pickle"
   ]
  },
  {
   "cell_type": "code",
   "execution_count": null,
   "metadata": {},
   "outputs": [],
   "source": [
    "learn.export(file = 'export_resnet50.pkl')"
   ]
  },
  {
   "cell_type": "markdown",
   "metadata": {},
   "source": [
    "# Blurring the video frames"
   ]
  },
  {
   "cell_type": "code",
   "execution_count": null,
   "metadata": {},
   "outputs": [],
   "source": [
    "def blur_image(img):\n",
    "    #img = transforms.ToPILImage()(img.data).convert(\"RGB\")\n",
    "    img = Image1.fromarray(img)\n",
    "    \n",
    "    cropped = img.crop((10,60,130,200)) # left, up , right, bottom\n",
    "    blur = cropped.filter(ImageFilter.GaussianBlur(radius=5))\n",
    "    img.paste(blur, (10,60,130,200))\n",
    "    \n",
    "    cropped = img.crop((480,20,700,100))\n",
    "    blur = cropped.filter(ImageFilter.GaussianBlur(radius=5))\n",
    "    img.paste(blur, (480,20,700,100))\n",
    "    \n",
    "    cropped = img.crop((350,10,500,60))\n",
    "    blur = cropped.filter(ImageFilter.GaussianBlur(radius=5))\n",
    "    img.paste(blur, (350,10,500,60))\n",
    "    \n",
    "    cropped = img.crop((520,520,700,576))\n",
    "    blur = cropped.filter(ImageFilter.GaussianBlur(radius=5))\n",
    "    img.paste(blur, (520,520,700,576))\n",
    "    \n",
    "    cropped = img.crop((5,10,220,100))\n",
    "    blur = cropped.filter(ImageFilter.GaussianBlur(radius=5))\n",
    "    img.paste(blur, (5,10,220,100))\n",
    "    \n",
    "    #img = pil2tensor(img,np.float32)\n",
    "    #img = img/255\n",
    "    return img"
   ]
  },
  {
   "cell_type": "markdown",
   "metadata": {},
   "source": [
    "# Thresholds"
   ]
  },
  {
   "cell_type": "code",
   "execution_count": null,
   "metadata": {},
   "outputs": [],
   "source": [
    "pkl_file = open('optimal-thresholds.pkl', 'rb')\n",
    "thresholds= pickle.load(pkl_file)\n",
    "pkl_file.close()\n",
    "thresholds"
   ]
  },
  {
   "cell_type": "code",
   "execution_count": null,
   "metadata": {},
   "outputs": [],
   "source": [
    "thresholds['Anode']"
   ]
  },
  {
   "cell_type": "markdown",
   "metadata": {},
   "source": [
    "# Real Time Rolling Prediction Average"
   ]
  },
  {
   "cell_type": "code",
   "execution_count": null,
   "metadata": {},
   "outputs": [],
   "source": [
    "video_path = '/media/data/astamoulakatos/Survey-1-2016/DATA_20160823051752172/20160823051752484@DVR1_Ch2.asf'"
   ]
  },
  {
   "cell_type": "code",
   "execution_count": null,
   "metadata": {},
   "outputs": [],
   "source": [
    "# Create a VideoCapture object and read from input file\n",
    "# If the input is the camera, pass 0 instead of the video file name\n",
    "cap = cv2.VideoCapture(video_path)\n",
    "# Check if camera opened successfully\n",
    "if (cap.isOpened()== False): \n",
    "    print(\"Error opening video stream or file\")"
   ]
  },
  {
   "cell_type": "code",
   "execution_count": null,
   "metadata": {},
   "outputs": [],
   "source": [
    "classes = ['Anode', 'Burial', 'Exposure', 'Field Joint', 'Free Span']\n",
    "i_list = []\n",
    "cl1 = []\n",
    "cl2 = []\n",
    "cl3 = []\n",
    "cl4 = []\n",
    "cl5 = []"
   ]
  },
  {
   "cell_type": "code",
   "execution_count": null,
   "metadata": {},
   "outputs": [],
   "source": [
    "# Read until video is completed\n",
    "total_frames = 500\n",
    "frame_counter = 0\n",
    "while(cap.isOpened()):\n",
    "  # Capture frame-by-frame\n",
    "    ret, frame = cap.read()\n",
    "    frame_counter = frame_counter + 1\n",
    "    frame = blur_image(frame)\n",
    "    frame = Image(pil2tensor(frame, dtype=np.float32).div_(255))\n",
    "    if ret == True:\n",
    "        # Make the prediction\n",
    "        p = learn.predict(frame, thresh=0.5)\n",
    "        classf = p[2].numpy()\n",
    "        i_list.append(frame_counter+1)\n",
    "        cl1.append(classf[0])\n",
    "        cl2.append(classf[1])\n",
    "        cl3.append(classf[2])\n",
    "        cl4.append(classf[3])\n",
    "        cl5.append(classf[4])\n",
    "        # Display the resulting frame\n",
    "        # plt.imshow(frame) and plt.show()\n",
    "    else: \n",
    "        break\n",
    "    if frame_counter > total_frames:\n",
    "        break\n",
    "# When everything done, release the video capture object\n",
    "cap.release()"
   ]
  },
  {
   "cell_type": "code",
   "execution_count": null,
   "metadata": {},
   "outputs": [],
   "source": [
    "data = {'Anode':cl1, 'Burial':cl2, 'Exposure':cl3, 'Field Joint':cl4, 'Free Span':cl5} \n",
    "  \n",
    "df = pd.DataFrame(data) \n",
    "df"
   ]
  },
  {
   "cell_type": "code",
   "execution_count": null,
   "metadata": {},
   "outputs": [],
   "source": [
    "frame.show(figsize=(18,8))"
   ]
  },
  {
   "cell_type": "markdown",
   "metadata": {},
   "source": [
    "# Setting the thresholds"
   ]
  },
  {
   "cell_type": "code",
   "execution_count": null,
   "metadata": {},
   "outputs": [],
   "source": [
    "df.head()"
   ]
  },
  {
   "cell_type": "code",
   "execution_count": null,
   "metadata": {},
   "outputs": [],
   "source": [
    "th = np.array([thresholds[key] for key in thresholds])\n",
    "th"
   ]
  },
  {
   "cell_type": "code",
   "execution_count": null,
   "metadata": {},
   "outputs": [],
   "source": [
    "pred = df.to_numpy()"
   ]
  },
  {
   "cell_type": "code",
   "execution_count": null,
   "metadata": {},
   "outputs": [],
   "source": [
    "pred"
   ]
  },
  {
   "cell_type": "code",
   "execution_count": null,
   "metadata": {},
   "outputs": [],
   "source": [
    "## Apply digitisation on the outputs\n",
    "for idx, event_type in enumerate(classes):\n",
    "    pred[:,idx] = np.where(pred[:,idx] >= thresholds[event_type], 1, 0)\n",
    "pred"
   ]
  },
  {
   "cell_type": "code",
   "execution_count": null,
   "metadata": {},
   "outputs": [],
   "source": [
    "pred[:,0]"
   ]
  },
  {
   "cell_type": "code",
   "execution_count": null,
   "metadata": {},
   "outputs": [],
   "source": [
    "plt.plot(pred) and plt.show()"
   ]
  },
  {
   "cell_type": "markdown",
   "metadata": {},
   "source": [
    "# Rolling Average Prediction\n",
    "## Neighboring Window\n",
    "### window size = k = 10"
   ]
  },
  {
   "cell_type": "code",
   "execution_count": null,
   "metadata": {},
   "outputs": [],
   "source": [
    "pred_rlp = pred"
   ]
  },
  {
   "cell_type": "code",
   "execution_count": null,
   "metadata": {},
   "outputs": [],
   "source": [
    "k = 10"
   ]
  },
  {
   "cell_type": "code",
   "execution_count": null,
   "metadata": {},
   "outputs": [],
   "source": [
    "#amount_of_ones = 0\n",
    "for l in range(0,5):\n",
    "    amount_of_ones = 0\n",
    "    counter = 0\n",
    "    for i in pred[:,l]:\n",
    "        amount_of_ones = amount_of_ones + i\n",
    "        counter = counter + 1\n",
    "        if (counter == k):\n",
    "            pred_rlp[:,l] = (amount_of_ones > k/2)\n",
    "            amount_of_ones = 0\n",
    "            counter = 0\n",
    "    print(amount_of_ones)\n",
    "    #pred[:,l] = (amount_of_ones > len(pred[:,l])/2)"
   ]
  },
  {
   "cell_type": "code",
   "execution_count": null,
   "metadata": {},
   "outputs": [],
   "source": [
    "plt.plot(pred_rlp) and plt.show()"
   ]
  },
  {
   "cell_type": "markdown",
   "metadata": {},
   "source": [
    "# Rolling Average Prediction\n",
    "## Sliding Window"
   ]
  },
  {
   "cell_type": "code",
   "execution_count": null,
   "metadata": {},
   "outputs": [],
   "source": [
    "from itertools import islice"
   ]
  },
  {
   "cell_type": "code",
   "execution_count": null,
   "metadata": {},
   "outputs": [],
   "source": [
    "def window(seq, n=10):\n",
    "    \"Returns a sliding window (of width n) over data from the iterable\"\n",
    "    \"   s -> (s0,s1,...s[n-1]), (s1,s2,...,sn), ...                   \"\n",
    "    it = iter(seq)\n",
    "    result = tuple(islice(it, n))\n",
    "    if len(result) == n:\n",
    "        yield result\n",
    "    for elem in it:\n",
    "        result = result[1:] + (elem,)\n",
    "        yield result"
   ]
  },
  {
   "cell_type": "code",
   "execution_count": null,
   "metadata": {},
   "outputs": [],
   "source": [
    "pred_rlp_sw = pred\n",
    "pred_rlp_sw"
   ]
  },
  {
   "cell_type": "code",
   "execution_count": null,
   "metadata": {},
   "outputs": [],
   "source": [
    "for l in range(0,5):\n",
    "    amount_of_ones = 0\n",
    "    counter = 0\n",
    "    for res in window(pred[:,l] , n=k): \n",
    "        #print(res)\n",
    "        for i in res:\n",
    "            print(i)\n",
    "            amount_of_ones = amount_of_ones + i\n",
    "            counter = counter + 1\n",
    "            if (counter == k):\n",
    "                pred_rlp_sw[:,l] = (amount_of_ones > k/2)\n",
    "                amount_of_ones = 0\n",
    "                counter = 0\n",
    "            #print(amount_of_ones)"
   ]
  },
  {
   "cell_type": "code",
   "execution_count": null,
   "metadata": {},
   "outputs": [],
   "source": [
    "plt.plot(pred_rlp_sw) and plt.show()"
   ]
  },
  {
   "cell_type": "code",
   "execution_count": null,
   "metadata": {},
   "outputs": [],
   "source": []
  },
  {
   "cell_type": "code",
   "execution_count": null,
   "metadata": {},
   "outputs": [],
   "source": []
  },
  {
   "cell_type": "code",
   "execution_count": null,
   "metadata": {},
   "outputs": [],
   "source": []
  },
  {
   "cell_type": "markdown",
   "metadata": {},
   "source": [
    "# Doing the same with PyTorch"
   ]
  },
  {
   "cell_type": "code",
   "execution_count": null,
   "metadata": {},
   "outputs": [],
   "source": [
    "net = learn.model"
   ]
  },
  {
   "cell_type": "code",
   "execution_count": null,
   "metadata": {},
   "outputs": [],
   "source": [
    "net;"
   ]
  },
  {
   "cell_type": "code",
   "execution_count": null,
   "metadata": {},
   "outputs": [],
   "source": [
    "transform = transforms.Normalize(mean=[0.485, 0.456, 0.406], std=[0.229, 0.224, 0.225])"
   ]
  },
  {
   "cell_type": "code",
   "execution_count": null,
   "metadata": {},
   "outputs": [],
   "source": [
    "fram = frame.data"
   ]
  },
  {
   "cell_type": "code",
   "execution_count": null,
   "metadata": {},
   "outputs": [],
   "source": [
    "fram = transform(fram)"
   ]
  },
  {
   "cell_type": "code",
   "execution_count": null,
   "metadata": {},
   "outputs": [],
   "source": [
    "fram = fram.unsqueeze(dim = 0)"
   ]
  },
  {
   "cell_type": "code",
   "execution_count": null,
   "metadata": {},
   "outputs": [],
   "source": [
    "fram.shape"
   ]
  },
  {
   "cell_type": "code",
   "execution_count": null,
   "metadata": {},
   "outputs": [],
   "source": [
    "fram = fram.cuda()"
   ]
  },
  {
   "cell_type": "code",
   "execution_count": null,
   "metadata": {},
   "outputs": [],
   "source": [
    "with torch.no_grad():\n",
    "    out = net(fram)"
   ]
  },
  {
   "cell_type": "code",
   "execution_count": null,
   "metadata": {},
   "outputs": [],
   "source": [
    "net.eval;"
   ]
  },
  {
   "cell_type": "code",
   "execution_count": null,
   "metadata": {},
   "outputs": [],
   "source": [
    "out1 = net(fram)"
   ]
  },
  {
   "cell_type": "code",
   "execution_count": null,
   "metadata": {},
   "outputs": [],
   "source": [
    "out1.sigmoid()"
   ]
  },
  {
   "cell_type": "code",
   "execution_count": null,
   "metadata": {},
   "outputs": [],
   "source": [
    "plt.hist(fram.flatten())"
   ]
  },
  {
   "cell_type": "code",
   "execution_count": null,
   "metadata": {},
   "outputs": [],
   "source": []
  },
  {
   "cell_type": "code",
   "execution_count": null,
   "metadata": {},
   "outputs": [],
   "source": [
    "net = net.eval()"
   ]
  },
  {
   "cell_type": "code",
   "execution_count": null,
   "metadata": {},
   "outputs": [],
   "source": [
    "frame = (frame.data).unsqueeze(dim = 0)"
   ]
  },
  {
   "cell_type": "code",
   "execution_count": null,
   "metadata": {},
   "outputs": [],
   "source": [
    "frame = frame.cuda()"
   ]
  },
  {
   "cell_type": "code",
   "execution_count": null,
   "metadata": {},
   "outputs": [],
   "source": [
    "output = net(frame)"
   ]
  },
  {
   "cell_type": "code",
   "execution_count": null,
   "metadata": {},
   "outputs": [],
   "source": [
    "output.sigmoid()"
   ]
  },
  {
   "cell_type": "code",
   "execution_count": null,
   "metadata": {},
   "outputs": [],
   "source": [
    "frame.shape"
   ]
  },
  {
   "cell_type": "code",
   "execution_count": null,
   "metadata": {},
   "outputs": [],
   "source": [
    "frame.shape"
   ]
  },
  {
   "cell_type": "code",
   "execution_count": null,
   "metadata": {},
   "outputs": [],
   "source": [
    "img1 = (frame.data).squeeze()"
   ]
  },
  {
   "cell_type": "code",
   "execution_count": null,
   "metadata": {},
   "outputs": [],
   "source": [
    "plt.imshow((img1).permute(1, 2, 0)) and plt.show()"
   ]
  },
  {
   "cell_type": "code",
   "execution_count": null,
   "metadata": {},
   "outputs": [],
   "source": [
    "(learn.model(frame)).sigmoid()"
   ]
  },
  {
   "cell_type": "code",
   "execution_count": null,
   "metadata": {},
   "outputs": [],
   "source": []
  }
 ],
 "metadata": {
  "language_info": {
   "name": "python",
   "pygments_lexer": "ipython3"
  }
 },
 "nbformat": 4,
 "nbformat_minor": 4
}
