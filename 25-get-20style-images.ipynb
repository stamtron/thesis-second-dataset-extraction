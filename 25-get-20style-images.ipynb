{
 "cells": [
  {
   "cell_type": "code",
   "execution_count": 1,
   "metadata": {},
   "outputs": [],
   "source": [
    "import sys\n",
    "\n",
    "sys.path.append('./helpers_models/')\n",
    "sys.path.append('./data_visualization_and_augmentations/')\n",
    "sys.path.append('../torch_videovision/')\n",
    "sys.path.append('./important_csvs/')\n",
    "\n",
    "from helpers_resnet import *\n",
    "from focal_loss_2 import *\n",
    "from load_data_and_augmentations import *\n",
    "from imbalanced_sampler_3 import MultilabelBalancedRandomSampler\n",
    "from warp_lsep import *"
   ]
  },
  {
   "cell_type": "code",
   "execution_count": 2,
   "metadata": {},
   "outputs": [],
   "source": [
    "tensor_transform = get_tensor_transform('ImageNet', False)\n",
    "train_spat_transform = get_spatial_transform(0)\n",
    "train_temp_transform = get_temporal_transform()\n",
    "valid_spat_transform = get_spatial_transform(0)\n",
    "valid_temp_transform = va.TemporalFit(size=16)\n",
    "\n",
    "root_dir = '/media/scratch/astamoulakatos/centre_Ch2/'\n",
    "df = pd.read_csv('./important_csvs/more_balanced_dataset/big_stratified_new.csv')\n",
    "\n",
    "####################################################\n",
    "bs = 20\n",
    "seq_length = 1\n",
    "df_train = get_df(df, 50, True, False, False)\n",
    "class_image_paths, end_idx, idx_label = get_indices(df_train, root_dir)\n",
    "indices, labels = get_final_indices_2d_train(idx_label, end_idx, skip_frames=15, set_step=4, seq_length=1)\n",
    "indices = torch.cat(indices)\n",
    "indices = indices[torch.randperm(len(indices))]\n",
    "labels = []\n",
    "for i in class_image_paths:\n",
    "    labels.append(i[2])\n",
    "labels = np.array(labels)\n",
    "train_sampler = MultilabelBalancedRandomSampler(\n",
    "    labels, indices, class_choice=\"least_sampled\"\n",
    ")\n",
    "dataset = MyDataset(\n",
    "        image_paths = class_image_paths,\n",
    "        seq_length = seq_length,\n",
    "        temp_transform = train_temp_transform,\n",
    "        spat_transform = train_spat_transform,\n",
    "        tensor_transform = tensor_transform,\n",
    "        length = len(train_sampler),\n",
    "        lstm = False,\n",
    "        oned = True,\n",
    "        augment = True,\n",
    "        multi = 1)\n",
    "train_loader = DataLoader(\n",
    "        dataset,\n",
    "        batch_size = bs,\n",
    "        sampler = train_sampler,\n",
    "        drop_last = True,\n",
    "        num_workers = 0)\n",
    "##########################################################################################\n",
    "\n",
    "#train_loader = get_loader(16, 64, end_idx, class_image_paths, train_temp_transform, train_spat_transform, tensor_transform, False, False)\n",
    "df_valid = get_df(df, 50, False, True, False)\n",
    "class_image_paths, end_idx, idx_label= get_indices(df_valid, root_dir)\n",
    "indices, labels = get_final_indices_2d_valid(idx_label, end_idx, skip_frames=15, set_step=4, seq_length=1)\n",
    "valid_loader, valid_dataset = get_loader_new(seq_length, bs, indices, class_image_paths, valid_temp_transform,\n",
    "                                             valid_spat_transform, tensor_transform, False, True, True, 1)\n",
    "\n",
    "df_test = get_df(df, 50, False, False, True)\n",
    "class_image_paths, end_idx, idx_label = get_indices(df_test, root_dir)\n",
    "indices, labels = get_final_indices_2d_valid(idx_label, end_idx, skip_frames=15, set_step=4, seq_length=1)\n",
    "test_loader, test_dataset = get_loader_new(seq_length, bs, indices, class_image_paths, valid_temp_transform, \n",
    "                                            valid_spat_transform, tensor_transform, False, True, True, 1)"
   ]
  },
  {
   "cell_type": "code",
   "execution_count": 3,
   "metadata": {
    "scrolled": true
   },
   "outputs": [],
   "source": [
    "#show_batch(train_loader,20)"
   ]
  },
  {
   "cell_type": "code",
   "execution_count": 4,
   "metadata": {},
   "outputs": [],
   "source": [
    "def imshow(inp, title=None):\n",
    "    inp = inp.cpu().numpy().transpose((1, 2, 0))\n",
    "    mean = np.array([0.485, 0.456, 0.406])\n",
    "    std = np.array([0.229, 0.224, 0.225])\n",
    "    inp = std * inp + mean\n",
    "    inp = np.clip(inp, 0, 1)\n",
    "    plt.figure(figsize=(30,30))\n",
    "    plt.imshow(inp)\n",
    "    if title is not None:\n",
    "        plt.title(title, fontsize=30)\n",
    "    plt.pause(0.001)  # pause a bit so that plots are updated "
   ]
  },
  {
   "cell_type": "code",
   "execution_count": 17,
   "metadata": {},
   "outputs": [],
   "source": [
    "def imsave(inp, title=None):\n",
    "    inp = inp.cpu().numpy().transpose((1, 2, 0))\n",
    "    mean = np.array([0.485, 0.456, 0.406])\n",
    "    std = np.array([0.229, 0.224, 0.225])\n",
    "    inp = std * inp + mean\n",
    "    inp = np.clip(inp, 0, 1)\n",
    "    plt.imsave('./saved-style-images/'+title+'.png',inp)\n",
    "    #return inp\n",
    "    #cv2.imwrite('./saved-style-images/'+title+'.png',inp)\n",
    "    "
   ]
  },
  {
   "cell_type": "code",
   "execution_count": 169,
   "metadata": {},
   "outputs": [],
   "source": [
    "imgs, labels = next(iter(train_loader))"
   ]
  },
  {
   "cell_type": "code",
   "execution_count": 171,
   "metadata": {},
   "outputs": [
    {
     "name": "stdout",
     "output_type": "stream",
     "text": [
      "tensor([1., 0., 0., 0., 0.])\n",
      "tensor([1., 0., 1., 0., 0.])\n",
      "tensor([1., 0., 0., 1., 0.])\n",
      "tensor([0., 1., 0., 0., 0.])\n",
      "tensor([1., 0., 0., 0., 1.])\n",
      "tensor([0., 1., 0., 0., 0.])\n",
      "tensor([1., 0., 0., 0., 0.])\n",
      "tensor([1., 0., 1., 0., 0.])\n",
      "tensor([1., 0., 0., 1., 0.])\n",
      "tensor([1., 0., 0., 0., 1.])\n",
      "tensor([0., 1., 0., 0., 0.])\n",
      "tensor([1., 0., 0., 1., 0.])\n",
      "tensor([1., 0., 1., 0., 0.])\n",
      "tensor([1., 0., 0., 0., 1.])\n",
      "tensor([1., 0., 0., 0., 0.])\n",
      "tensor([0., 1., 0., 0., 0.])\n",
      "tensor([1., 0., 1., 0., 0.])\n",
      "tensor([1., 0., 0., 1., 0.])\n",
      "tensor([1., 0., 0., 0., 1.])\n",
      "tensor([1., 0., 0., 0., 0.])\n"
     ]
    }
   ],
   "source": [
    "for l in labels:\n",
    "    print(l)#labels[4]"
   ]
  },
  {
   "cell_type": "code",
   "execution_count": 176,
   "metadata": {},
   "outputs": [],
   "source": [
    "imsave(imgs[13],'exp3')"
   ]
  },
  {
   "cell_type": "code",
   "execution_count": null,
   "metadata": {},
   "outputs": [],
   "source": []
  },
  {
   "cell_type": "code",
   "execution_count": null,
   "metadata": {},
   "outputs": [],
   "source": []
  }
 ],
 "metadata": {
  "kernelspec": {
   "display_name": "Python 3",
   "language": "python",
   "name": "python3"
  },
  "language_info": {
   "codemirror_mode": {
    "name": "ipython",
    "version": 3
   },
   "file_extension": ".py",
   "mimetype": "text/x-python",
   "name": "python",
   "nbconvert_exporter": "python",
   "pygments_lexer": "ipython3",
   "version": "3.7.7"
  }
 },
 "nbformat": 4,
 "nbformat_minor": 4
}
