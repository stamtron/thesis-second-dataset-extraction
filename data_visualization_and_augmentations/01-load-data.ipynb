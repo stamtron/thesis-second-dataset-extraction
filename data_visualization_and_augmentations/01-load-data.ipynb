{
 "cells": [
  {
   "cell_type": "code",
   "execution_count": null,
   "metadata": {},
   "outputs": [],
   "source": [
    "import os\n",
    "import torch\n",
    "import pandas as pd\n",
    "from skimage import io, transform\n",
    "import numpy as np\n",
    "import matplotlib.pyplot as plt\n",
    "from torch.utils.data import Dataset, DataLoader\n",
    "#from torchvision import transforms, utils\n",
    "import glob\n",
    "import torch\n",
    "from PIL import Image\n",
    "import re\n",
    "import matplotlib.pyplot as plt\n",
    "import torchvision"
   ]
  },
  {
   "cell_type": "code",
   "execution_count": null,
   "metadata": {},
   "outputs": [],
   "source": [
    "import sys\n",
    "sys.path.append('../../torch_videovision/')"
   ]
  },
  {
   "cell_type": "code",
   "execution_count": null,
   "metadata": {},
   "outputs": [],
   "source": [
    "from torchvideotransforms.video_transforms import Compose as vidCompose\n",
    "from torchvideotransforms.video_transforms import Normalize as vidNormalize\n",
    "from torchvideotransforms.volume_transforms import ClipToTensor"
   ]
  },
  {
   "cell_type": "code",
   "execution_count": null,
   "metadata": {},
   "outputs": [],
   "source": [
    "%reload_ext autoreload\n",
    "%autoreload 2\n",
    "%matplotlib inline"
   ]
  },
  {
   "cell_type": "code",
   "execution_count": null,
   "metadata": {},
   "outputs": [],
   "source": [
    "plt.rcParams['figure.figsize'] = (20,10)\n",
    "font = {'family' : 'DejaVu Sans',  'weight' : 'normal',  'size'  : 20}\n",
    "plt.rc('font', **font)"
   ]
  },
  {
   "cell_type": "code",
   "execution_count": null,
   "metadata": {},
   "outputs": [],
   "source": [
    "#from spatial_transforms import *\n",
    "#from temporal_transforms import *"
   ]
  },
  {
   "cell_type": "code",
   "execution_count": null,
   "metadata": {},
   "outputs": [],
   "source": [
    "import vidaug.augmentors as va"
   ]
  },
  {
   "cell_type": "code",
   "execution_count": null,
   "metadata": {},
   "outputs": [],
   "source": [
    "# transform = transforms.Compose([\n",
    "#     transforms.Resize((576, 704)),\n",
    "#     transforms.RandomAffine(\n",
    "#             degrees=15,\n",
    "#             translate=(0.05, 0.05),\n",
    "#             scale=(0.95, 1.05),\n",
    "#             resample=2,\n",
    "#             fillcolor=0,\n",
    "#         ),\n",
    "#         transforms.ColorJitter(\n",
    "#             brightness=0.3,\n",
    "#             contrast=0.2,\n",
    "#             saturation=0.4,\n",
    "#             hue=0.1\n",
    "#         ),\n",
    "#         transforms.RandomHorizontalFlip(),\n",
    "#     transforms.ToTensor(),\n",
    "#     transforms.Normalize(mean=[0.485, 0.456, 0.406], std=[0.229, 0.224, 0.225])\n",
    "# ])"
   ]
  },
  {
   "cell_type": "code",
   "execution_count": null,
   "metadata": {},
   "outputs": [],
   "source": [
    "video_transform_list = [\n",
    "#     RandomRotation(30),\n",
    "#     Resize((576, 704)),\n",
    "#     ColorJitter(0.2,0.2,0.2,0.2),\n",
    "    ClipToTensor(channel_nb=3),\n",
    "    vidNormalize(mean=[0.485, 0.456, 0.406], std=[0.229, 0.224, 0.225]),\n",
    "]\n",
    "tensor_transform = vidCompose(video_transform_list)"
   ]
  },
  {
   "cell_type": "code",
   "execution_count": null,
   "metadata": {},
   "outputs": [],
   "source": [
    "transform = va.SomeOf([\n",
    "    va.RandomRotate(degrees=20), #andomly rotates the video with a degree randomly choosen from [-10, 10]  \n",
    "    va.HorizontalFlip(),# horizontally flip the video with 100% probability\n",
    "    va.ElasticTransformation(0.1,0.1),\n",
    "    va.GaussianBlur(sigma=0.1),\n",
    "    va.InvertColor(),\n",
    "    va.Superpixel(0.2,2),\n",
    "    va.Multiply(2.0),\n",
    "    va.Add(10),\n",
    "    va.Pepper(),\n",
    "    va.PiecewiseAffineTransform(0.3,0.3,0.3),\n",
    "    va.Salt(),\n",
    "    va.TemporalRandomCrop(size=16),\n",
    "    #va.TemporalElasticTransformation(),\n",
    "    #va.InverseOrder(),\n",
    "], N=3)"
   ]
  },
  {
   "cell_type": "code",
   "execution_count": null,
   "metadata": {},
   "outputs": [],
   "source": [
    "def parse_img_num(img):\n",
    "    m = re.search(r\"frame(\\d+).png\", img)\n",
    "    if m:\n",
    "        return f\"{int(m.groups()[0]):06d}\"\n",
    "    print(img)\n",
    "    raise Exception(\"Couldn't parse number\")"
   ]
  },
  {
   "cell_type": "code",
   "execution_count": null,
   "metadata": {},
   "outputs": [],
   "source": [
    "class MySampler(torch.utils.data.Sampler):\n",
    "    def __init__(self, end_idx, seq_length):\n",
    "        indices = []\n",
    "        for i in range(len(end_idx) - 1):\n",
    "            start = end_idx[i]\n",
    "            end = end_idx[i + 1] - seq_length\n",
    "            if start > end:\n",
    "                pass\n",
    "            else:\n",
    "                indices.append(torch.arange(start, end))\n",
    "        indices = torch.cat(indices)\n",
    "        self.indices = indices\n",
    "        \n",
    "    def __iter__(self):\n",
    "        indices = self.indices[torch.randperm(len(self.indices))]\n",
    "        return iter(indices.tolist())\n",
    "    \n",
    "    def __len__(self):\n",
    "        return len(self.indices)"
   ]
  },
  {
   "cell_type": "code",
   "execution_count": null,
   "metadata": {},
   "outputs": [],
   "source": [
    "class MyDataset(Dataset):\n",
    "    def __init__(self, image_paths, seq_length, transform, tensor_transform, length): #csv_file, \n",
    "        self.image_paths = image_paths\n",
    "        self.seq_length = seq_length\n",
    "        self.transform = transform\n",
    "        self.tensor_transform = tensor_transform\n",
    "        self.length = length\n",
    "        \n",
    "    def __getitem__(self, index):\n",
    "        start = index\n",
    "        end = index + self.seq_length\n",
    "        print('Getting images from {} to {}'.format(start, end))\n",
    "        indices = list(range(start, end))\n",
    "        images = []\n",
    "        tr = self.transform\n",
    "        for i in indices:\n",
    "            image_path = self.image_paths[i][0]\n",
    "            image = Image.open(image_path)\n",
    "#             if self.transform:\n",
    "#                 image = tr(image)\n",
    "            images.append(image)\n",
    "        x = self.transform(images)\n",
    "        x = self.tensor_transform(x)\n",
    "#        x = torch.stack(images)\n",
    "        y = torch.tensor([self.image_paths[start][1]], dtype=torch.long)\n",
    "        x = x.permute(1,0,2,3)\n",
    "        return x, y\n",
    "    \n",
    "    def __len__(self):\n",
    "        return self.length"
   ]
  },
  {
   "cell_type": "code",
   "execution_count": null,
   "metadata": {},
   "outputs": [],
   "source": [
    "# class MyDataset(Dataset):\n",
    "#     def __init__(self, image_paths, seq_length, transform, length): #csv_file, \n",
    "#         self.image_paths = image_paths\n",
    "#         self.seq_length = seq_length\n",
    "#         self.transform = transform\n",
    "#         self.length = length\n",
    "        \n",
    "#     def __getitem__(self, index):\n",
    "#         start = index\n",
    "#         end = index + self.seq_length\n",
    "#         print('Getting images from {} to {}'.format(start, end))\n",
    "#         indices = list(range(start, end))\n",
    "#         images = []\n",
    "#         tr = self.transform\n",
    "#         for i in indices:\n",
    "#             image_path = self.image_paths[i][0]\n",
    "#             image = Image.open(image_path)\n",
    "#             if self.transform:\n",
    "#                 image = tr(image)\n",
    "#             images.append(image)\n",
    "# #        x = video_transform(images)\n",
    "#         x = torch.stack(images)\n",
    "#         y = torch.tensor([self.image_paths[start][1]], dtype=torch.long)\n",
    "#         return x, y\n",
    "    \n",
    "#     def __len__(self):\n",
    "#         return self.length"
   ]
  },
  {
   "cell_type": "code",
   "execution_count": null,
   "metadata": {},
   "outputs": [],
   "source": [
    "#root_dir = '/media/raid/astamoulakatos/nsea_frame_sequences/centre_Ch2/'\n",
    "root_dir = '/media/scratch/astamoulakatos/nsea_video_jpegs/'\n",
    "class_paths = [d.path for d in os.scandir(root_dir) if d.is_dir]"
   ]
  },
  {
   "cell_type": "code",
   "execution_count": null,
   "metadata": {},
   "outputs": [],
   "source": [
    "class_paths"
   ]
  },
  {
   "cell_type": "code",
   "execution_count": null,
   "metadata": {},
   "outputs": [],
   "source": [
    "df = pd.read_csv('../small_dataset_csvs/events_with_number_of_frames_stratified.csv')\n",
    "df.head()"
   ]
  },
  {
   "cell_type": "code",
   "execution_count": null,
   "metadata": {},
   "outputs": [],
   "source": [
    "len(df)"
   ]
  },
  {
   "cell_type": "code",
   "execution_count": null,
   "metadata": {},
   "outputs": [],
   "source": [
    "len(df[df.number_of_frames>=48])"
   ]
  },
  {
   "cell_type": "code",
   "execution_count": null,
   "metadata": {},
   "outputs": [],
   "source": [
    "len(df[df.fold!=0])"
   ]
  },
  {
   "cell_type": "code",
   "execution_count": null,
   "metadata": {},
   "outputs": [],
   "source": [
    "df_new = df[df.number_of_frames>=48]; df_new"
   ]
  },
  {
   "cell_type": "code",
   "execution_count": null,
   "metadata": {},
   "outputs": [],
   "source": [
    "class_names = ['exp_fs','bur','exp','exp_and','exp_fj']\n",
    "one_hot_classes = [[1,0,0,0,1],[0,1,0,0,0],[1,0,0,0,0],[1,0,0,1,0],[1,0,0,1,0]]\n",
    "class_image_paths = []\n",
    "end_idx = []\n",
    "for c, class_path in enumerate(class_paths):\n",
    "     for d in os.scandir(class_path):\n",
    "        if d.is_dir:\n",
    "            if d.path in df[df.fold==0].event_path.values:\n",
    "                paths = sorted(glob.glob(os.path.join(d.path, '*.png')))\n",
    "                # Add class idx to paths\n",
    "                paths = [(p, one_hot_classes[c]) for p in paths]\n",
    "                class_image_paths.extend(paths)\n",
    "                end_idx.extend([len(paths)])"
   ]
  },
  {
   "cell_type": "code",
   "execution_count": null,
   "metadata": {},
   "outputs": [],
   "source": [
    "'exp_fj' in class_path"
   ]
  },
  {
   "cell_type": "code",
   "execution_count": null,
   "metadata": {},
   "outputs": [],
   "source": [
    "df[df.fold!=0].event_path.count()"
   ]
  },
  {
   "cell_type": "code",
   "execution_count": null,
   "metadata": {},
   "outputs": [],
   "source": [
    "df.event_path.count()"
   ]
  },
  {
   "cell_type": "code",
   "execution_count": null,
   "metadata": {},
   "outputs": [],
   "source": [
    "df[df.fold==0].event_path.count()"
   ]
  },
  {
   "cell_type": "code",
   "execution_count": null,
   "metadata": {},
   "outputs": [],
   "source": [
    "end_idx = [0, *end_idx]\n",
    "end_idx = torch.cumsum(torch.tensor(end_idx), 0)"
   ]
  },
  {
   "cell_type": "code",
   "execution_count": null,
   "metadata": {},
   "outputs": [],
   "source": [
    "end_idx"
   ]
  },
  {
   "cell_type": "code",
   "execution_count": null,
   "metadata": {},
   "outputs": [],
   "source": [
    "seq_length = 16"
   ]
  },
  {
   "cell_type": "code",
   "execution_count": null,
   "metadata": {},
   "outputs": [],
   "source": [
    "sampler = MySampler(end_idx, seq_length)"
   ]
  },
  {
   "cell_type": "code",
   "execution_count": null,
   "metadata": {},
   "outputs": [],
   "source": [
    "dataset = MyDataset(\n",
    "    image_paths=class_image_paths,\n",
    "    seq_length=seq_length,\n",
    "    transform=transform,\n",
    "    tensor_transform=tensor_transform,\n",
    "    length=len(sampler))"
   ]
  },
  {
   "cell_type": "code",
   "execution_count": null,
   "metadata": {},
   "outputs": [],
   "source": [
    "loader = DataLoader(\n",
    "    dataset,\n",
    "    batch_size=2,\n",
    "    sampler=sampler,\n",
    "    drop_last=True,\n",
    "    num_workers=0\n",
    ")"
   ]
  },
  {
   "cell_type": "code",
   "execution_count": null,
   "metadata": {},
   "outputs": [],
   "source": [
    "def imshow(inp, title=None):\n",
    "    inp = inp.numpy().transpose((1, 2, 0))\n",
    "    mean = np.array([0.485, 0.456, 0.406])\n",
    "    std = np.array([0.229, 0.224, 0.225])\n",
    "    inp = std * inp + mean\n",
    "    inp = np.clip(inp, 0, 1)\n",
    "    plt.figure(figsize=(30,30))\n",
    "    plt.imshow(inp)\n",
    "    if title is not None:\n",
    "        plt.title(title)\n",
    "    plt.pause(0.001)  # pause a bit so that plots are updated"
   ]
  },
  {
   "cell_type": "code",
   "execution_count": null,
   "metadata": {},
   "outputs": [],
   "source": [
    "# Get a batch of training data\n",
    "inputs, classes = next(iter(loader))\n",
    "inputs = inputs.squeeze(dim = 0)\n",
    "\n",
    "# Make a grid from batch\n",
    "out = torchvision.utils.make_grid(inputs)\n",
    "\n",
    "\n",
    "for i, f in enumerate(one_hot_classes):\n",
    "    if np.array_equal(classes[0][0].numpy(), np.asarray(f)):\n",
    "        title = class_names[i]\n",
    "        \n",
    "        \n",
    "imshow(out, title=title)"
   ]
  },
  {
   "cell_type": "code",
   "execution_count": null,
   "metadata": {},
   "outputs": [],
   "source": [
    "inputs, classes = next(iter(loader))\n",
    "inputs = inputs.permute(0,2,1,3,4)\n",
    "inputs = inputs.squeeze(dim = 0)\n",
    "\n",
    "# Make a grid from batch\n",
    "class_names = ['exp_fs','bur','exp','exp_and','exp_fj']\n",
    "one_hot_classes = [[1,0,0,0,1],[0,1,0,0,0],[1,0,0,0,0],[1,0,0,1,0],[1,0,0,1,0]]\n",
    "out = torchvision.utils.make_grid(inputs)\n",
    "for i, f in enumerate(one_hot_classes):\n",
    "    if np.array_equal(classes[0].numpy(), np.asarray(f)):\n",
    "        title = class_names[i]\n",
    "imshow(out, title=title)"
   ]
  },
  {
   "cell_type": "code",
   "execution_count": null,
   "metadata": {},
   "outputs": [],
   "source": [
    "out.shape"
   ]
  },
  {
   "cell_type": "code",
   "execution_count": null,
   "metadata": {},
   "outputs": [],
   "source": [
    "inputs.shape"
   ]
  },
  {
   "cell_type": "code",
   "execution_count": null,
   "metadata": {},
   "outputs": [],
   "source": [
    "inputs = inputs.squeeze(dim = 0)"
   ]
  },
  {
   "cell_type": "code",
   "execution_count": null,
   "metadata": {},
   "outputs": [],
   "source": [
    "inputs = inputs.permute(0,2,1,3,4)"
   ]
  },
  {
   "cell_type": "code",
   "execution_count": null,
   "metadata": {},
   "outputs": [],
   "source": [
    "classes"
   ]
  },
  {
   "cell_type": "code",
   "execution_count": null,
   "metadata": {},
   "outputs": [],
   "source": []
  }
 ],
 "metadata": {
  "language_info": {
   "name": "python",
   "pygments_lexer": "ipython3"
  }
 },
 "nbformat": 4,
 "nbformat_minor": 4
}
