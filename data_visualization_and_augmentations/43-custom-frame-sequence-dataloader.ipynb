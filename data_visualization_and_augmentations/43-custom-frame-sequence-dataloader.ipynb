{
 "cells": [
  {
   "cell_type": "code",
   "execution_count": null,
   "metadata": {},
   "outputs": [],
   "source": [
    "import os\n",
    "import torch\n",
    "import pandas as pd\n",
    "from skimage import io, transform\n",
    "import numpy as np\n",
    "import matplotlib.pyplot as plt\n",
    "from torch.utils.data import Dataset, DataLoader\n",
    "from torchvision import transforms, utils\n",
    "import glob\n",
    "import torch\n",
    "from PIL import Image\n",
    "import re"
   ]
  },
  {
   "cell_type": "code",
   "execution_count": null,
   "metadata": {},
   "outputs": [],
   "source": [
    "import matplotlib.pyplot as plt\n",
    "plt.rcParams['figure.figsize'] = (20,8)\n",
    "font = {'family' : 'DejaVu Sans',  'weight' : 'normal',  'size'  : 18}\n",
    "plt.rc('font', **font)"
   ]
  },
  {
   "cell_type": "code",
   "execution_count": null,
   "metadata": {},
   "outputs": [],
   "source": [
    "%matplotlib inline"
   ]
  },
  {
   "cell_type": "code",
   "execution_count": null,
   "metadata": {},
   "outputs": [],
   "source": [
    "transform = transforms.Compose([\n",
    "    transforms.Resize((576, 704)),\n",
    "    transforms.ToTensor(),\n",
    "    transforms.Normalize(mean=[0.485, 0.456, 0.406], std=[0.229, 0.224, 0.225])\n",
    "])"
   ]
  },
  {
   "cell_type": "code",
   "execution_count": null,
   "metadata": {},
   "outputs": [],
   "source": [
    "def parse_img_num(img):\n",
    "    m = re.search(r\"frame(\\d+).png\", img)\n",
    "    if m:\n",
    "        return f\"{int(m.groups()[0]):06d}\"\n",
    "    print(img)\n",
    "    raise Exception(\"Couldn't parse number\")"
   ]
  },
  {
   "cell_type": "code",
   "execution_count": null,
   "metadata": {},
   "outputs": [],
   "source": [
    "class MySampler(torch.utils.data.Sampler):\n",
    "    def __init__(self, end_idx, seq_length):\n",
    "        indices = []\n",
    "        for i in range(len(end_idx) - 1):\n",
    "            start = end_idx[i]\n",
    "            end = end_idx[i + 1] - seq_length\n",
    "            if start > end:\n",
    "                indices.append(torch.arange(end, start))\n",
    "            else:\n",
    "                indices.append(torch.arange(start, end))\n",
    "        indices = torch.cat(indices)\n",
    "        self.indices = indices\n",
    "        \n",
    "    def __iter__(self):\n",
    "        indices = self.indices[torch.randperm(len(self.indices))]\n",
    "        return iter(indices.tolist())\n",
    "    \n",
    "    def __len__(self):\n",
    "        return len(self.indices)"
   ]
  },
  {
   "cell_type": "code",
   "execution_count": null,
   "metadata": {},
   "outputs": [],
   "source": [
    "class MyDataset(Dataset):\n",
    "    def __init__(self, image_paths, seq_length, transform, length): #csv_file, \n",
    "        self.image_paths = image_paths\n",
    "        self.seq_length = seq_length\n",
    "        self.transform = transform\n",
    "        self.length = length\n",
    "        \n",
    "    def __getitem__(self, index):\n",
    "        start = index\n",
    "        end = index + self.seq_length\n",
    "        print('Getting images from {} to {}'.format(start, end))\n",
    "        indices = list(range(start, end))\n",
    "        images = []\n",
    "        for i in indices:\n",
    "            image_path = self.image_paths[i][0]\n",
    "            image = Image.open(image_path)\n",
    "            if self.transform:\n",
    "                image = self.transform(image)\n",
    "            images.append(image)\n",
    "        x = torch.stack(images)\n",
    "        y = torch.tensor([self.image_paths[start][1]], dtype=torch.long)\n",
    "        \n",
    "        return x, y\n",
    "    \n",
    "    def __len__(self):\n",
    "        return self.length"
   ]
  },
  {
   "cell_type": "code",
   "execution_count": null,
   "metadata": {},
   "outputs": [],
   "source": [
    "root_dir = '/media/scratch/astamoulakatos/nsea_video_jpegs/'\n",
    "class_paths = [d.path for d in os.scandir(root_dir) if d.is_dir]"
   ]
  },
  {
   "cell_type": "code",
   "execution_count": null,
   "metadata": {},
   "outputs": [],
   "source": [
    "class_paths"
   ]
  },
  {
   "cell_type": "code",
   "execution_count": null,
   "metadata": {},
   "outputs": [],
   "source": [
    "one_hot_classes = [[1,0,1,0,0],[1,0,0,0,1],[1,0,0,0,0],[1,0,0,1,0],[0,1,0,0,0]]"
   ]
  },
  {
   "cell_type": "code",
   "execution_count": null,
   "metadata": {},
   "outputs": [],
   "source": [
    "df = pd.read_csv('../train-valid-splits-video-scratch/valid.csv')\n",
    "df.head()"
   ]
  },
  {
   "cell_type": "code",
   "execution_count": null,
   "metadata": {},
   "outputs": [],
   "source": [
    "class_names = ['exp_and','exp_fs','exp','exp_fj','bur']\n",
    "one_hot_classes = [[1,0,1,0,0],[1,0,0,0,1],[1,0,0,0,0],[1,0,0,1,0],[0,1,0,0,0]]\n",
    "class_image_paths = []\n",
    "end_idx = []\n",
    "for c, class_path in enumerate(class_paths):\n",
    "     for d in os.scandir(class_path):\n",
    "        if d.is_dir:\n",
    "            if d.path in df.videos.values:\n",
    "                paths = sorted(glob.glob(os.path.join(d.path, '*.png')))\n",
    "                # Add class idx to paths\n",
    "                paths = [(p, one_hot_classes[c]) for p in paths]\n",
    "                class_image_paths.extend(paths)\n",
    "                end_idx.extend([len(paths)])"
   ]
  },
  {
   "cell_type": "code",
   "execution_count": null,
   "metadata": {},
   "outputs": [],
   "source": [
    "end_idx[:10]"
   ]
  },
  {
   "cell_type": "code",
   "execution_count": null,
   "metadata": {},
   "outputs": [],
   "source": [
    "len(paths)"
   ]
  },
  {
   "cell_type": "code",
   "execution_count": null,
   "metadata": {},
   "outputs": [],
   "source": [
    "len(class_image_paths)"
   ]
  },
  {
   "cell_type": "code",
   "execution_count": null,
   "metadata": {},
   "outputs": [],
   "source": [
    "len(end_idx)"
   ]
  },
  {
   "cell_type": "code",
   "execution_count": null,
   "metadata": {},
   "outputs": [],
   "source": [
    "sum(end_idx)"
   ]
  },
  {
   "cell_type": "code",
   "execution_count": null,
   "metadata": {},
   "outputs": [],
   "source": [
    "end_idx = [0, *end_idx]\n",
    "end_idx = torch.cumsum(torch.tensor(end_idx), 0)"
   ]
  },
  {
   "cell_type": "code",
   "execution_count": null,
   "metadata": {},
   "outputs": [],
   "source": [
    "end_idx[:10]"
   ]
  },
  {
   "cell_type": "code",
   "execution_count": null,
   "metadata": {},
   "outputs": [],
   "source": [
    "# class_image_paths = []\n",
    "# end_idx = []\n",
    "# for c, class_path in enumerate(class_paths):\n",
    "#     for d in os.scandir(class_path):\n",
    "#         if d.is_dir:\n",
    "#             paths = sorted(glob.glob(os.path.join(d.path, '*.png')))\n",
    "#             # Add class idx to paths\n",
    "#             paths = [(p, one_hot_classes[c]) for p in paths]\n",
    "#             class_image_paths.extend(paths)\n",
    "#             end_idx.extend([len(paths)])\n",
    "            \n",
    "# end_idx = [0, *end_idx]\n",
    "# end_idx = torch.cumsum(torch.tensor(end_idx), 0)"
   ]
  },
  {
   "cell_type": "code",
   "execution_count": null,
   "metadata": {},
   "outputs": [],
   "source": [
    "class_image_paths = []\n",
    "end_idx = []\n",
    "for c, class_path in enumerate(class_paths):\n",
    "    for d in os.scandir(class_path):\n",
    "        if d.is_dir:\n",
    "            if d.path in df.videos.values:\n",
    "                paths = sorted(glob.glob(os.path.join(d.path, '*.png')))\n",
    "                # Add class idx to paths\n",
    "                paths = [(p, one_hot_classes[c]) for p in paths]\n",
    "                if len(paths)>=16:\n",
    "                    class_image_paths.extend(paths)\n",
    "                    end_idx.extend([len(paths)])\n",
    "                \n",
    "end_idx = [0, *end_idx]\n",
    "end_idx = torch.cumsum(torch.tensor(end_idx), 0)"
   ]
  },
  {
   "cell_type": "code",
   "execution_count": null,
   "metadata": {},
   "outputs": [],
   "source": [
    "end_idx"
   ]
  },
  {
   "cell_type": "code",
   "execution_count": null,
   "metadata": {},
   "outputs": [],
   "source": [
    "seq_length = 16"
   ]
  },
  {
   "cell_type": "code",
   "execution_count": null,
   "metadata": {},
   "outputs": [],
   "source": [
    "indices = []\n",
    "for i in range(len(end_idx) - 1):\n",
    "    start = end_idx[i]\n",
    "    print(start)\n",
    "    end = end_idx[i + 1] - seq_length\n",
    "    print(end)\n",
    "    #if start > end:\n",
    "    indices.append(torch.arange(start, end))\n",
    "    print(indices)\n",
    "#             else:\n",
    "#                 indices.append(torch.arange(start, end))\n",
    "indices = torch.cat(indices)"
   ]
  },
  {
   "cell_type": "code",
   "execution_count": null,
   "metadata": {},
   "outputs": [],
   "source": [
    "indices[10:20]"
   ]
  },
  {
   "cell_type": "code",
   "execution_count": null,
   "metadata": {},
   "outputs": [],
   "source": [
    "indices = indices[torch.randperm(len(indices))]\n",
    "l = iter(indices.tolist())\n",
    "    "
   ]
  },
  {
   "cell_type": "code",
   "execution_count": null,
   "metadata": {},
   "outputs": [],
   "source": [
    "indices"
   ]
  },
  {
   "cell_type": "code",
   "execution_count": null,
   "metadata": {},
   "outputs": [],
   "source": [
    "next(iter(l))"
   ]
  },
  {
   "cell_type": "code",
   "execution_count": null,
   "metadata": {},
   "outputs": [],
   "source": [
    "class MySampler_test(torch.utils.data.Sampler):\n",
    "    def __init__(self, end_idx, seq_length):\n",
    "        indices = []\n",
    "        for i in range(len(end_idx) - 1):\n",
    "            start = end_idx[i]\n",
    "            print(start)\n",
    "            end = end_idx[i + 1] - seq_length\n",
    "            print(end)\n",
    "#             if start > end:\n",
    "#                 indices.append(torch.arange(end, start))\n",
    "#             else:\n",
    "            indices.append(torch.arange(start, end))\n",
    "        indices = torch.cat(indices)\n",
    "        self.indices = indices\n",
    "        \n",
    "    def __iter__(self):\n",
    "        indices = self.indices[torch.randperm(len(self.indices))]\n",
    "        return iter(indices.tolist())\n",
    "    \n",
    "    def __len__(self):\n",
    "        return len(self.indices) "
   ]
  },
  {
   "cell_type": "code",
   "execution_count": null,
   "metadata": {},
   "outputs": [],
   "source": [
    "sampler.indices"
   ]
  },
  {
   "cell_type": "code",
   "execution_count": null,
   "metadata": {},
   "outputs": [],
   "source": [
    "sampler = MySampler_test(end_idx, seq_length)"
   ]
  },
  {
   "cell_type": "code",
   "execution_count": null,
   "metadata": {},
   "outputs": [],
   "source": [
    "sampler = MySampler(end_idx, seq_length)"
   ]
  },
  {
   "cell_type": "code",
   "execution_count": null,
   "metadata": {},
   "outputs": [],
   "source": [
    "len(sampler)"
   ]
  },
  {
   "cell_type": "code",
   "execution_count": null,
   "metadata": {},
   "outputs": [],
   "source": [
    "dataset = MyDataset(\n",
    "    image_paths=class_image_paths,\n",
    "    seq_length=seq_length,\n",
    "    transform=transform,\n",
    "    length=len(sampler))\n"
   ]
  },
  {
   "cell_type": "code",
   "execution_count": null,
   "metadata": {},
   "outputs": [],
   "source": [
    "loader = DataLoader(\n",
    "    dataset,\n",
    "    batch_size=1,\n",
    "    sampler=sampler,\n",
    "    drop_last=True,\n",
    "    num_workers=0\n",
    ")"
   ]
  },
  {
   "cell_type": "code",
   "execution_count": null,
   "metadata": {},
   "outputs": [],
   "source": [
    "# for data, target in loader:\n",
    "#     print(data.shape)\n",
    "#     print(target.shape)"
   ]
  },
  {
   "cell_type": "code",
   "execution_count": null,
   "metadata": {},
   "outputs": [],
   "source": [
    "t = next(iter(loader))"
   ]
  },
  {
   "cell_type": "code",
   "execution_count": null,
   "metadata": {},
   "outputs": [],
   "source": [
    "import torchvision"
   ]
  },
  {
   "cell_type": "code",
   "execution_count": null,
   "metadata": {},
   "outputs": [],
   "source": [
    "class_names = ['exp_and','exp_fs','exp','exp_fj','bur']"
   ]
  },
  {
   "cell_type": "code",
   "execution_count": null,
   "metadata": {},
   "outputs": [],
   "source": [
    "def imshow(inp, title=None):\n",
    "    inp = inp.numpy().transpose((1, 2, 0))\n",
    "    mean = np.array([0.485, 0.456, 0.406])\n",
    "    std = np.array([0.229, 0.224, 0.225])\n",
    "    inp = std * inp + mean\n",
    "    inp = np.clip(inp, 0, 1)\n",
    "    plt.figure(figsize=(30,30))\n",
    "    plt.imshow(inp)\n",
    "    if title is not None:\n",
    "        plt.title(title)\n",
    "    plt.pause(0.001)  # pause a bit so that plots are updated\n"
   ]
  },
  {
   "cell_type": "code",
   "execution_count": null,
   "metadata": {},
   "outputs": [],
   "source": [
    "# Get a batch of training data\n",
    "inputs, classes = next(iter(loader))\n",
    "inputs = inputs.squeeze(dim = 0)\n",
    "\n",
    "# Make a grid from batch\n",
    "out = torchvision.utils.make_grid(inputs)\n",
    "\n",
    "\n",
    "for i, f in enumerate(one_hot_classes):\n",
    "    if np.array_equal(classes[0][0].numpy(), np.asarray(f)):\n",
    "        title = class_names[i]\n",
    "        \n",
    "        \n",
    "imshow(out, title=title)"
   ]
  },
  {
   "cell_type": "code",
   "execution_count": null,
   "metadata": {},
   "outputs": [],
   "source": [
    "classes"
   ]
  },
  {
   "cell_type": "code",
   "execution_count": null,
   "metadata": {},
   "outputs": [],
   "source": [
    "inputs"
   ]
  },
  {
   "cell_type": "code",
   "execution_count": null,
   "metadata": {},
   "outputs": [],
   "source": []
  },
  {
   "cell_type": "code",
   "execution_count": null,
   "metadata": {},
   "outputs": [],
   "source": []
  },
  {
   "cell_type": "code",
   "execution_count": null,
   "metadata": {},
   "outputs": [],
   "source": []
  }
 ],
 "metadata": {
  "kernelspec": {
   "display_name": "Python 3",
   "language": "python",
   "name": "python3"
  },
  "language_info": {
   "codemirror_mode": {
    "name": "ipython",
    "version": 3
   },
   "file_extension": ".py",
   "mimetype": "text/x-python",
   "name": "python",
   "nbconvert_exporter": "python",
   "pygments_lexer": "ipython3",
   "version": "3.7.7"
  }
 },
 "nbformat": 4,
 "nbformat_minor": 4
}
