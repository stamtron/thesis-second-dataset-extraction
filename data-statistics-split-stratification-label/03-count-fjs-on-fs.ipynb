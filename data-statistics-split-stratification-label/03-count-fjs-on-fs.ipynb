{
 "cells": [
  {
   "cell_type": "code",
   "execution_count": null,
   "metadata": {},
   "outputs": [],
   "source": [
    "import os\n",
    "import pandas as pd\n",
    "import re"
   ]
  },
  {
   "cell_type": "code",
   "execution_count": null,
   "metadata": {},
   "outputs": [],
   "source": [
    "csv_path = '../important_csvs/combined.csv'"
   ]
  },
  {
   "cell_type": "code",
   "execution_count": null,
   "metadata": {},
   "outputs": [],
   "source": [
    "df = pd.read_csv(csv_path)"
   ]
  },
  {
   "cell_type": "code",
   "execution_count": null,
   "metadata": {},
   "outputs": [],
   "source": [
    "df"
   ]
  },
  {
   "cell_type": "code",
   "execution_count": null,
   "metadata": {},
   "outputs": [],
   "source": [
    "counter_sue = 0\n",
    "counter_sus = 0\n",
    "counter_fj_fs_1 = 0\n",
    "counter_fj_fs_2 = 0"
   ]
  },
  {
   "cell_type": "code",
   "execution_count": null,
   "metadata": {},
   "outputs": [],
   "source": [
    "counter_an_fs_1 = 0\n",
    "counter_an_fs_2 = 0"
   ]
  },
  {
   "cell_type": "code",
   "execution_count": null,
   "metadata": {},
   "outputs": [],
   "source": [
    "for i in range(1,len(df)-1):\n",
    "    if df['Observation Code'][i] == 'SUS':\n",
    "        counter_sus = counter_sus + 1\n",
    "    if df['Observation Code'][i] == 'SUE':\n",
    "        counter_sue = counter_sue + 1 \n",
    "    if df['Observation Code'][i] == 'FJ':\n",
    "        if df['Observation Code'][i-1] == 'SUS' and df['Observation Code'][i+1] == 'SUE':\n",
    "            counter_fj_fs_1 = counter_fj_fs_1 + 1\n",
    "    if df['Observation Code'][i] == 'FJ':\n",
    "        if df['Observation Code'][i-1] == 'SUE' and df['Observation Code'][i+1] == 'SUS':\n",
    "            counter_fj_fs_2 = counter_fj_fs_2 + 1\n",
    "    if df['Observation Code'][i] == 'AN':\n",
    "        if df['Observation Code'][i-1] == 'SUS' and df['Observation Code'][i+1] == 'SUE':\n",
    "            counter_an_fs_1 = counter_an_fs_1 + 1\n",
    "    if df['Observation Code'][i] == 'AN':\n",
    "        if df['Observation Code'][i-1] == 'SUE' and df['Observation Code'][i+1] == 'SUS':\n",
    "            counter_an_fs_2 = counter_an_fs_2 + 1"
   ]
  },
  {
   "cell_type": "code",
   "execution_count": null,
   "metadata": {},
   "outputs": [],
   "source": [
    "counter_sue"
   ]
  },
  {
   "cell_type": "code",
   "execution_count": null,
   "metadata": {},
   "outputs": [],
   "source": [
    "counter_sue, counter_sus, counter_fj_fs_1, counter_fj_fs_2, counter_an_fs_1, counter_an_fs_2"
   ]
  },
  {
   "cell_type": "code",
   "execution_count": null,
   "metadata": {},
   "outputs": [],
   "source": [
    "df['Observation Code'][i]"
   ]
  },
  {
   "cell_type": "code",
   "execution_count": null,
   "metadata": {},
   "outputs": [],
   "source": []
  }
 ],
 "metadata": {
  "language_info": {
   "name": "python",
   "pygments_lexer": "ipython3"
  }
 },
 "nbformat": 4,
 "nbformat_minor": 4
}
