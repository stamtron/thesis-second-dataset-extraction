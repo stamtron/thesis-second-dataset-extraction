{
 "cells": [
  {
   "cell_type": "code",
   "execution_count": 26,
   "metadata": {},
   "outputs": [],
   "source": [
    "%reload_ext autoreload\n",
    "%autoreload 2\n",
    "%matplotlib inline"
   ]
  },
  {
   "cell_type": "code",
   "execution_count": 2,
   "metadata": {},
   "outputs": [],
   "source": [
    "import os\n",
    "import pandas as pd\n",
    "import re\n",
    "import shutil\n",
    "from sklearn.model_selection import StratifiedKFold\n",
    "import random\n",
    "import os\n",
    "import numpy as np\n",
    "import torch\n",
    "import matplotlib.pyplot as plt"
   ]
  },
  {
   "cell_type": "code",
   "execution_count": 3,
   "metadata": {},
   "outputs": [],
   "source": [
    "plt.rcParams['figure.figsize'] = (20,10)\n",
    "font = {'family' : 'DejaVu Sans',  'weight' : 'normal',  'size'  : 20}\n",
    "plt.rc('font', **font)"
   ]
  },
  {
   "cell_type": "code",
   "execution_count": null,
   "metadata": {},
   "outputs": [],
   "source": [
    "HOME_FOLDER = '/media/raid/astamoulakatos/nsea_frame_sequences/centre_Ch2/'\n",
    "\n",
    "noOfFiles = 0\n",
    "noOfDir = 0"
   ]
  },
  {
   "cell_type": "code",
   "execution_count": null,
   "metadata": {},
   "outputs": [],
   "source": [
    "for base, dirs, files in os.walk(HOME_FOLDER):\n",
    "    print('Looking in : ',base)\n",
    "    for directories in dirs:\n",
    "        noOfDir += 1\n",
    "    for Files in files:\n",
    "        noOfFiles += 1"
   ]
  },
  {
   "cell_type": "code",
   "execution_count": null,
   "metadata": {},
   "outputs": [],
   "source": [
    "print('Number of files',noOfFiles)\n",
    "print('Number of Directories',noOfDir)\n",
    "print('Total:',(noOfDir + noOfFiles))"
   ]
  },
  {
   "cell_type": "code",
   "execution_count": null,
   "metadata": {},
   "outputs": [],
   "source": [
    "number_of_frames = []\n",
    "event_path = []\n",
    "for d in os.listdir(HOME_FOLDER):\n",
    "    label_path = os.path.join(HOME_FOLDER,d)\n",
    "    for l in os.listdir(label_path):\n",
    "        file_path = os.path.join(label_path,l)\n",
    "        #print(len(os.listdir(file_path)), file_path)\n",
    "        number = len(os.listdir(file_path))\n",
    "        number_of_frames.append(number) \n",
    "#         if number > 400:\n",
    "#             shutil.rmtree(file_path)\n",
    "#         else:\n",
    "#             number_of_frames.append(number)                          \n",
    "        event_path.append(file_path)"
   ]
  },
  {
   "cell_type": "code",
   "execution_count": null,
   "metadata": {},
   "outputs": [],
   "source": [
    "df = pd.DataFrame(columns = ['event_path', 'number_of_frames'])"
   ]
  },
  {
   "cell_type": "code",
   "execution_count": null,
   "metadata": {},
   "outputs": [],
   "source": [
    "df.event_path = event_path\n",
    "df.number_of_frames = number_of_frames"
   ]
  },
  {
   "cell_type": "code",
   "execution_count": null,
   "metadata": {},
   "outputs": [],
   "source": [
    "df"
   ]
  },
  {
   "cell_type": "code",
   "execution_count": null,
   "metadata": {},
   "outputs": [],
   "source": [
    "df.number_of_frames.max()"
   ]
  },
  {
   "cell_type": "code",
   "execution_count": null,
   "metadata": {},
   "outputs": [],
   "source": [
    "df.number_of_frames.min()"
   ]
  },
  {
   "cell_type": "code",
   "execution_count": null,
   "metadata": {},
   "outputs": [],
   "source": [
    "df.number_of_frames.mean()"
   ]
  },
  {
   "cell_type": "code",
   "execution_count": null,
   "metadata": {},
   "outputs": [],
   "source": [
    "df['exposure'] = 0\n",
    "df['burial'] = 0\n",
    "df['field_joint'] = 0\n",
    "df['anode'] = 0\n",
    "df['free_span'] = 0"
   ]
  },
  {
   "cell_type": "code",
   "execution_count": null,
   "metadata": {},
   "outputs": [],
   "source": [
    "labels = []\n",
    "for i in range(len(df)):\n",
    "    m = re.search('Ch2/(.+?)/S', str(df.event_path[i]))\n",
    "    #m = re.search('egs/(.+?)/S', str(df.event_path[i]))\n",
    "    boom = m.group(1)\n",
    "    if boom == 'exp_and':\n",
    "        df.exposure[i] = 1\n",
    "        df.anode[i] = 1\n",
    "    if boom == 'exp':\n",
    "        df.exposure[i] = 1\n",
    "    if boom == 'bur':\n",
    "        df.burial[i] = 1\n",
    "    if boom == 'exp_fs':\n",
    "        df.exposure[i] = 1\n",
    "        df.free_span[i] = 1\n",
    "    if boom == 'exp_fj':\n",
    "        df.exposure[i] = 1\n",
    "        df.field_joint[i] = 1\n",
    "    labels.append(boom)"
   ]
  },
  {
   "cell_type": "code",
   "execution_count": null,
   "metadata": {},
   "outputs": [],
   "source": [
    "df['label'] = labels"
   ]
  },
  {
   "cell_type": "code",
   "execution_count": null,
   "metadata": {},
   "outputs": [],
   "source": [
    "df1 = df[['event_path','exposure','burial','field_joint','anode','free_span']]"
   ]
  },
  {
   "cell_type": "code",
   "execution_count": null,
   "metadata": {},
   "outputs": [],
   "source": [
    "fig1, ax1 = plt.subplots()\n",
    "df1.iloc[:,1:].sum(axis=0).plot.pie(autopct='%1.1f%%',shadow=True, startangle=90,ax=ax1)\n",
    "ax1.axis(\"equal\")\n",
    "plt.show()"
   ]
  },
  {
   "cell_type": "markdown",
   "metadata": {},
   "source": [
    "# events"
   ]
  },
  {
   "cell_type": "code",
   "execution_count": null,
   "metadata": {},
   "outputs": [],
   "source": [
    "df1.iloc[:,1:].sum(axis=0)"
   ]
  },
  {
   "cell_type": "markdown",
   "metadata": {},
   "source": [
    "# frames"
   ]
  },
  {
   "cell_type": "code",
   "execution_count": null,
   "metadata": {},
   "outputs": [],
   "source": [
    "df.groupby('label')['number_of_frames'].sum()"
   ]
  },
  {
   "cell_type": "markdown",
   "metadata": {},
   "source": [
    "# exclude events with less than 50 frames (2 secs)"
   ]
  },
  {
   "cell_type": "code",
   "execution_count": null,
   "metadata": {},
   "outputs": [],
   "source": [
    "df.number_of_frames.min()"
   ]
  },
  {
   "cell_type": "code",
   "execution_count": null,
   "metadata": {},
   "outputs": [],
   "source": [
    "df = df[df.number_of_frames>=50]\n",
    "df = df[df.number_of_frames<=400]"
   ]
  },
  {
   "cell_type": "code",
   "execution_count": null,
   "metadata": {},
   "outputs": [],
   "source": [
    "df"
   ]
  },
  {
   "cell_type": "code",
   "execution_count": null,
   "metadata": {},
   "outputs": [],
   "source": [
    "df.label.unique()"
   ]
  },
  {
   "cell_type": "markdown",
   "metadata": {},
   "source": [
    "# less exposure"
   ]
  },
  {
   "cell_type": "code",
   "execution_count": null,
   "metadata": {},
   "outputs": [],
   "source": [
    "df_exp = df[df.label=='exp']"
   ]
  },
  {
   "cell_type": "code",
   "execution_count": null,
   "metadata": {},
   "outputs": [],
   "source": [
    "df_exp = df_exp.sample(frac=0.3)"
   ]
  },
  {
   "cell_type": "code",
   "execution_count": null,
   "metadata": {},
   "outputs": [],
   "source": [
    "df_exp"
   ]
  },
  {
   "cell_type": "code",
   "execution_count": null,
   "metadata": {},
   "outputs": [],
   "source": [
    "df_exp.number_of_frames.mean()"
   ]
  },
  {
   "cell_type": "code",
   "execution_count": null,
   "metadata": {},
   "outputs": [],
   "source": [
    "df_new = df[df.label!='exp']"
   ]
  },
  {
   "cell_type": "code",
   "execution_count": null,
   "metadata": {},
   "outputs": [],
   "source": [
    "df_final = pd.concat([df_new, df_exp])"
   ]
  },
  {
   "cell_type": "code",
   "execution_count": null,
   "metadata": {},
   "outputs": [],
   "source": [
    "df_final.reset_index(drop=True)"
   ]
  },
  {
   "cell_type": "code",
   "execution_count": null,
   "metadata": {},
   "outputs": [],
   "source": [
    "df_final.label.value_counts()"
   ]
  },
  {
   "cell_type": "markdown",
   "metadata": {},
   "source": [
    "# frame sequences"
   ]
  },
  {
   "cell_type": "code",
   "execution_count": null,
   "metadata": {},
   "outputs": [],
   "source": [
    "df_final.groupby('label')['number_of_frames'].sum()"
   ]
  },
  {
   "cell_type": "markdown",
   "metadata": {},
   "source": [
    "# distribution of labels in events, not in sequences, not in frames"
   ]
  },
  {
   "cell_type": "code",
   "execution_count": null,
   "metadata": {},
   "outputs": [],
   "source": [
    "df1 = df_final[['event_path','exposure','burial','field_joint','anode','free_span']]"
   ]
  },
  {
   "cell_type": "code",
   "execution_count": null,
   "metadata": {},
   "outputs": [],
   "source": [
    "fig1, ax1 = plt.subplots()\n",
    "df1.iloc[:,1:].sum(axis=0).plot.pie(autopct='%1.1f%%',shadow=True, startangle=90,ax=ax1)\n",
    "ax1.axis(\"equal\")\n",
    "plt.show()"
   ]
  },
  {
   "cell_type": "code",
   "execution_count": null,
   "metadata": {},
   "outputs": [],
   "source": [
    "df_final.to_csv('../important_csvs/more_balanced_dataset/events_with_number_of_frames_less_exp.csv', index=False)"
   ]
  },
  {
   "cell_type": "code",
   "execution_count": null,
   "metadata": {},
   "outputs": [],
   "source": [
    "df_final['number_of_frames'].hist(by=df.label)\n",
    "plt.show()"
   ]
  },
  {
   "cell_type": "markdown",
   "metadata": {},
   "source": [
    "# stratification"
   ]
  },
  {
   "cell_type": "code",
   "execution_count": null,
   "metadata": {},
   "outputs": [],
   "source": [
    "df = df_final"
   ]
  },
  {
   "cell_type": "code",
   "execution_count": null,
   "metadata": {},
   "outputs": [],
   "source": [
    "df.reset_index(drop=True)"
   ]
  },
  {
   "cell_type": "code",
   "execution_count": null,
   "metadata": {},
   "outputs": [],
   "source": [
    "SEED = 42\n",
    "\n",
    "def seed_everything(seed):\n",
    "    random.seed(seed)\n",
    "    os.environ['PYTHONHASHSEED'] = str(seed)\n",
    "    np.random.seed(seed)\n",
    "    torch.manual_seed(seed)\n",
    "    torch.cuda.manual_seed(seed)\n",
    "    torch.backends.cudnn.deterministic = True\n",
    "    torch.backends.cudnn.benchmark = True\n",
    "\n",
    "seed_everything(SEED)"
   ]
  },
  {
   "cell_type": "code",
   "execution_count": null,
   "metadata": {},
   "outputs": [],
   "source": [
    "skf = StratifiedKFold(n_splits=5)"
   ]
  },
  {
   "cell_type": "code",
   "execution_count": null,
   "metadata": {},
   "outputs": [],
   "source": [
    "df['fold'] = 0"
   ]
  },
  {
   "cell_type": "code",
   "execution_count": null,
   "metadata": {},
   "outputs": [],
   "source": [
    "g = df.groupby('label')"
   ]
  },
  {
   "cell_type": "code",
   "execution_count": null,
   "metadata": {},
   "outputs": [],
   "source": [
    "i = g['number_of_frames'].quantile([0.05, 0.25, 0.5, 0.9]).unstack()\n",
    "j = g['number_of_frames'].agg(['min', 'max'])"
   ]
  },
  {
   "cell_type": "code",
   "execution_count": null,
   "metadata": {},
   "outputs": [],
   "source": [
    "pd.concat([i, j], 1)"
   ]
  },
  {
   "cell_type": "code",
   "execution_count": null,
   "metadata": {},
   "outputs": [],
   "source": [
    "values = [400, 400, 99, 103, 276]"
   ]
  },
  {
   "cell_type": "code",
   "execution_count": null,
   "metadata": {},
   "outputs": [],
   "source": [
    "i.T.plot(subplots=True)\n",
    "plt.show()"
   ]
  },
  {
   "cell_type": "code",
   "execution_count": null,
   "metadata": {},
   "outputs": [],
   "source": [
    "df['stratify_group'] = 'yo'"
   ]
  },
  {
   "cell_type": "code",
   "execution_count": null,
   "metadata": {},
   "outputs": [],
   "source": [
    "labels = df.label.unique()"
   ]
  },
  {
   "cell_type": "code",
   "execution_count": null,
   "metadata": {},
   "outputs": [],
   "source": [
    "for l, v in zip(labels, values):\n",
    "    df.loc[df.label==l, 'stratify_group'] = np.char.add(\n",
    "        df.loc[df.label==l, 'label'].values.astype(str),\n",
    "        df.loc[df.label==l, 'number_of_frames'].apply(lambda x: f'_{int(x // v)}').values.astype(str)\n",
    "    )"
   ]
  },
  {
   "cell_type": "code",
   "execution_count": null,
   "metadata": {},
   "outputs": [],
   "source": [
    "df"
   ]
  },
  {
   "cell_type": "code",
   "execution_count": null,
   "metadata": {},
   "outputs": [],
   "source": [
    "for fold_number, (train_index, val_index) in enumerate(skf.split(X=df['event_path'], y=df['stratify_group'])):\n",
    "    df.loc[df.iloc[val_index].index, 'fold'] = fold_number"
   ]
  },
  {
   "cell_type": "code",
   "execution_count": null,
   "metadata": {},
   "outputs": [],
   "source": [
    "df.to_csv('../important_csvs/more_balanced_dataset/more_balanced_stratified.csv', index=False)"
   ]
  },
  {
   "cell_type": "code",
   "execution_count": null,
   "metadata": {},
   "outputs": [],
   "source": [
    "df.fold.value_counts()"
   ]
  },
  {
   "cell_type": "code",
   "execution_count": null,
   "metadata": {},
   "outputs": [],
   "source": [
    "df.stratify_group.value_counts()"
   ]
  },
  {
   "cell_type": "code",
   "execution_count": 10,
   "metadata": {},
   "outputs": [],
   "source": [
    "df = pd.read_csv('../important_csvs/more_balanced_dataset/more_balanced_stratified.csv')"
   ]
  },
  {
   "cell_type": "code",
   "execution_count": 5,
   "metadata": {},
   "outputs": [],
   "source": [
    "df = df.sample(frac=0.5)"
   ]
  },
  {
   "cell_type": "code",
   "execution_count": 17,
   "metadata": {},
   "outputs": [],
   "source": [
    "df = df.reset_index(drop=True)"
   ]
  },
  {
   "cell_type": "code",
   "execution_count": 18,
   "metadata": {},
   "outputs": [
    {
     "data": {
      "text/html": [
       "<div>\n",
       "<style scoped>\n",
       "    .dataframe tbody tr th:only-of-type {\n",
       "        vertical-align: middle;\n",
       "    }\n",
       "\n",
       "    .dataframe tbody tr th {\n",
       "        vertical-align: top;\n",
       "    }\n",
       "\n",
       "    .dataframe thead th {\n",
       "        text-align: right;\n",
       "    }\n",
       "</style>\n",
       "<table border=\"1\" class=\"dataframe\">\n",
       "  <thead>\n",
       "    <tr style=\"text-align: right;\">\n",
       "      <th></th>\n",
       "      <th>event_path</th>\n",
       "      <th>number_of_frames</th>\n",
       "      <th>exposure</th>\n",
       "      <th>burial</th>\n",
       "      <th>field_joint</th>\n",
       "      <th>anode</th>\n",
       "      <th>free_span</th>\n",
       "      <th>label</th>\n",
       "      <th>fold</th>\n",
       "      <th>stratify_group</th>\n",
       "    </tr>\n",
       "  </thead>\n",
       "  <tbody>\n",
       "    <tr>\n",
       "      <th>0</th>\n",
       "      <td>/media/scratch/astamoulakatos/centre_Ch2/bur/S...</td>\n",
       "      <td>400</td>\n",
       "      <td>0</td>\n",
       "      <td>1</td>\n",
       "      <td>0</td>\n",
       "      <td>0</td>\n",
       "      <td>0</td>\n",
       "      <td>bur</td>\n",
       "      <td>0</td>\n",
       "      <td>bur_1</td>\n",
       "    </tr>\n",
       "    <tr>\n",
       "      <th>1</th>\n",
       "      <td>/media/scratch/astamoulakatos/centre_Ch2/bur/S...</td>\n",
       "      <td>400</td>\n",
       "      <td>0</td>\n",
       "      <td>1</td>\n",
       "      <td>0</td>\n",
       "      <td>0</td>\n",
       "      <td>0</td>\n",
       "      <td>bur</td>\n",
       "      <td>0</td>\n",
       "      <td>bur_1</td>\n",
       "    </tr>\n",
       "    <tr>\n",
       "      <th>2</th>\n",
       "      <td>/media/scratch/astamoulakatos/centre_Ch2/bur/S...</td>\n",
       "      <td>102</td>\n",
       "      <td>0</td>\n",
       "      <td>1</td>\n",
       "      <td>0</td>\n",
       "      <td>0</td>\n",
       "      <td>0</td>\n",
       "      <td>bur</td>\n",
       "      <td>0</td>\n",
       "      <td>bur_0</td>\n",
       "    </tr>\n",
       "    <tr>\n",
       "      <th>3</th>\n",
       "      <td>/media/scratch/astamoulakatos/centre_Ch2/bur/S...</td>\n",
       "      <td>400</td>\n",
       "      <td>0</td>\n",
       "      <td>1</td>\n",
       "      <td>0</td>\n",
       "      <td>0</td>\n",
       "      <td>0</td>\n",
       "      <td>bur</td>\n",
       "      <td>0</td>\n",
       "      <td>bur_1</td>\n",
       "    </tr>\n",
       "    <tr>\n",
       "      <th>4</th>\n",
       "      <td>/media/scratch/astamoulakatos/centre_Ch2/bur/S...</td>\n",
       "      <td>175</td>\n",
       "      <td>0</td>\n",
       "      <td>1</td>\n",
       "      <td>0</td>\n",
       "      <td>0</td>\n",
       "      <td>0</td>\n",
       "      <td>bur</td>\n",
       "      <td>0</td>\n",
       "      <td>bur_0</td>\n",
       "    </tr>\n",
       "    <tr>\n",
       "      <th>...</th>\n",
       "      <td>...</td>\n",
       "      <td>...</td>\n",
       "      <td>...</td>\n",
       "      <td>...</td>\n",
       "      <td>...</td>\n",
       "      <td>...</td>\n",
       "      <td>...</td>\n",
       "      <td>...</td>\n",
       "      <td>...</td>\n",
       "      <td>...</td>\n",
       "    </tr>\n",
       "    <tr>\n",
       "      <th>1095</th>\n",
       "      <td>/media/scratch/astamoulakatos/centre_Ch2/exp/S...</td>\n",
       "      <td>400</td>\n",
       "      <td>1</td>\n",
       "      <td>0</td>\n",
       "      <td>0</td>\n",
       "      <td>0</td>\n",
       "      <td>0</td>\n",
       "      <td>exp</td>\n",
       "      <td>4</td>\n",
       "      <td>exp_1</td>\n",
       "    </tr>\n",
       "    <tr>\n",
       "      <th>1096</th>\n",
       "      <td>/media/scratch/astamoulakatos/centre_Ch2/exp/S...</td>\n",
       "      <td>400</td>\n",
       "      <td>1</td>\n",
       "      <td>0</td>\n",
       "      <td>0</td>\n",
       "      <td>0</td>\n",
       "      <td>0</td>\n",
       "      <td>exp</td>\n",
       "      <td>4</td>\n",
       "      <td>exp_1</td>\n",
       "    </tr>\n",
       "    <tr>\n",
       "      <th>1097</th>\n",
       "      <td>/media/scratch/astamoulakatos/centre_Ch2/exp/S...</td>\n",
       "      <td>400</td>\n",
       "      <td>1</td>\n",
       "      <td>0</td>\n",
       "      <td>0</td>\n",
       "      <td>0</td>\n",
       "      <td>0</td>\n",
       "      <td>exp</td>\n",
       "      <td>4</td>\n",
       "      <td>exp_1</td>\n",
       "    </tr>\n",
       "    <tr>\n",
       "      <th>1098</th>\n",
       "      <td>/media/scratch/astamoulakatos/centre_Ch2/exp/S...</td>\n",
       "      <td>358</td>\n",
       "      <td>1</td>\n",
       "      <td>0</td>\n",
       "      <td>0</td>\n",
       "      <td>0</td>\n",
       "      <td>0</td>\n",
       "      <td>exp</td>\n",
       "      <td>4</td>\n",
       "      <td>exp_1</td>\n",
       "    </tr>\n",
       "    <tr>\n",
       "      <th>1099</th>\n",
       "      <td>/media/scratch/astamoulakatos/centre_Ch2/exp/S...</td>\n",
       "      <td>360</td>\n",
       "      <td>1</td>\n",
       "      <td>0</td>\n",
       "      <td>0</td>\n",
       "      <td>0</td>\n",
       "      <td>0</td>\n",
       "      <td>exp</td>\n",
       "      <td>4</td>\n",
       "      <td>exp_1</td>\n",
       "    </tr>\n",
       "  </tbody>\n",
       "</table>\n",
       "<p>1100 rows × 10 columns</p>\n",
       "</div>"
      ],
      "text/plain": [
       "                                             event_path  number_of_frames  \\\n",
       "0     /media/scratch/astamoulakatos/centre_Ch2/bur/S...               400   \n",
       "1     /media/scratch/astamoulakatos/centre_Ch2/bur/S...               400   \n",
       "2     /media/scratch/astamoulakatos/centre_Ch2/bur/S...               102   \n",
       "3     /media/scratch/astamoulakatos/centre_Ch2/bur/S...               400   \n",
       "4     /media/scratch/astamoulakatos/centre_Ch2/bur/S...               175   \n",
       "...                                                 ...               ...   \n",
       "1095  /media/scratch/astamoulakatos/centre_Ch2/exp/S...               400   \n",
       "1096  /media/scratch/astamoulakatos/centre_Ch2/exp/S...               400   \n",
       "1097  /media/scratch/astamoulakatos/centre_Ch2/exp/S...               400   \n",
       "1098  /media/scratch/astamoulakatos/centre_Ch2/exp/S...               358   \n",
       "1099  /media/scratch/astamoulakatos/centre_Ch2/exp/S...               360   \n",
       "\n",
       "      exposure  burial  field_joint  anode  free_span label  fold  \\\n",
       "0            0       1            0      0          0   bur     0   \n",
       "1            0       1            0      0          0   bur     0   \n",
       "2            0       1            0      0          0   bur     0   \n",
       "3            0       1            0      0          0   bur     0   \n",
       "4            0       1            0      0          0   bur     0   \n",
       "...        ...     ...          ...    ...        ...   ...   ...   \n",
       "1095         1       0            0      0          0   exp     4   \n",
       "1096         1       0            0      0          0   exp     4   \n",
       "1097         1       0            0      0          0   exp     4   \n",
       "1098         1       0            0      0          0   exp     4   \n",
       "1099         1       0            0      0          0   exp     4   \n",
       "\n",
       "     stratify_group  \n",
       "0             bur_1  \n",
       "1             bur_1  \n",
       "2             bur_0  \n",
       "3             bur_1  \n",
       "4             bur_0  \n",
       "...             ...  \n",
       "1095          exp_1  \n",
       "1096          exp_1  \n",
       "1097          exp_1  \n",
       "1098          exp_1  \n",
       "1099          exp_1  \n",
       "\n",
       "[1100 rows x 10 columns]"
      ]
     },
     "execution_count": 18,
     "metadata": {},
     "output_type": "execute_result"
    }
   ],
   "source": [
    "df"
   ]
  },
  {
   "cell_type": "code",
   "execution_count": 19,
   "metadata": {},
   "outputs": [
    {
     "data": {
      "text/plain": [
       "0    224\n",
       "1    222\n",
       "2    220\n",
       "4    218\n",
       "3    216\n",
       "Name: fold, dtype: int64"
      ]
     },
     "execution_count": 19,
     "metadata": {},
     "output_type": "execute_result"
    }
   ],
   "source": [
    "df.fold.value_counts()"
   ]
  },
  {
   "cell_type": "code",
   "execution_count": 20,
   "metadata": {},
   "outputs": [
    {
     "data": {
      "text/plain": [
       "bur        315\n",
       "exp_fj     257\n",
       "exp_fs     239\n",
       "exp        236\n",
       "exp_and     53\n",
       "Name: label, dtype: int64"
      ]
     },
     "execution_count": 20,
     "metadata": {},
     "output_type": "execute_result"
    }
   ],
   "source": [
    "df.label.value_counts()"
   ]
  },
  {
   "cell_type": "code",
   "execution_count": null,
   "metadata": {},
   "outputs": [],
   "source": [
    "for i in range(len(df)):\n",
    "    if (df.label[i] != 'exp'):\n",
    "        df.exposure[i] = 0"
   ]
  },
  {
   "cell_type": "code",
   "execution_count": null,
   "metadata": {},
   "outputs": [],
   "source": [
    "df"
   ]
  },
  {
   "cell_type": "code",
   "execution_count": null,
   "metadata": {},
   "outputs": [],
   "source": [
    "df.to_csv('../important_csvs/more_balanced_dataset/small_set_multi_class.csv', index=False)"
   ]
  },
  {
   "cell_type": "code",
   "execution_count": 21,
   "metadata": {},
   "outputs": [
    {
     "data": {
      "text/plain": [
       "100"
      ]
     },
     "execution_count": 21,
     "metadata": {},
     "output_type": "execute_result"
    }
   ],
   "source": [
    "df.number_of_frames.min()"
   ]
  },
  {
   "cell_type": "code",
   "execution_count": 22,
   "metadata": {},
   "outputs": [
    {
     "data": {
      "text/plain": [
       "400"
      ]
     },
     "execution_count": 22,
     "metadata": {},
     "output_type": "execute_result"
    }
   ],
   "source": [
    "df.number_of_frames.max()"
   ]
  },
  {
   "cell_type": "code",
   "execution_count": 15,
   "metadata": {},
   "outputs": [],
   "source": [
    "df = df[df.number_of_frames>=100]"
   ]
  },
  {
   "cell_type": "code",
   "execution_count": 16,
   "metadata": {},
   "outputs": [
    {
     "data": {
      "text/html": [
       "<div>\n",
       "<style scoped>\n",
       "    .dataframe tbody tr th:only-of-type {\n",
       "        vertical-align: middle;\n",
       "    }\n",
       "\n",
       "    .dataframe tbody tr th {\n",
       "        vertical-align: top;\n",
       "    }\n",
       "\n",
       "    .dataframe thead th {\n",
       "        text-align: right;\n",
       "    }\n",
       "</style>\n",
       "<table border=\"1\" class=\"dataframe\">\n",
       "  <thead>\n",
       "    <tr style=\"text-align: right;\">\n",
       "      <th></th>\n",
       "      <th>event_path</th>\n",
       "      <th>number_of_frames</th>\n",
       "      <th>exposure</th>\n",
       "      <th>burial</th>\n",
       "      <th>field_joint</th>\n",
       "      <th>anode</th>\n",
       "      <th>free_span</th>\n",
       "      <th>label</th>\n",
       "      <th>fold</th>\n",
       "      <th>stratify_group</th>\n",
       "    </tr>\n",
       "  </thead>\n",
       "  <tbody>\n",
       "    <tr>\n",
       "      <th>0</th>\n",
       "      <td>/media/scratch/astamoulakatos/centre_Ch2/bur/S...</td>\n",
       "      <td>400</td>\n",
       "      <td>0</td>\n",
       "      <td>1</td>\n",
       "      <td>0</td>\n",
       "      <td>0</td>\n",
       "      <td>0</td>\n",
       "      <td>bur</td>\n",
       "      <td>0</td>\n",
       "      <td>bur_1</td>\n",
       "    </tr>\n",
       "    <tr>\n",
       "      <th>1</th>\n",
       "      <td>/media/scratch/astamoulakatos/centre_Ch2/bur/S...</td>\n",
       "      <td>400</td>\n",
       "      <td>0</td>\n",
       "      <td>1</td>\n",
       "      <td>0</td>\n",
       "      <td>0</td>\n",
       "      <td>0</td>\n",
       "      <td>bur</td>\n",
       "      <td>0</td>\n",
       "      <td>bur_1</td>\n",
       "    </tr>\n",
       "    <tr>\n",
       "      <th>2</th>\n",
       "      <td>/media/scratch/astamoulakatos/centre_Ch2/bur/S...</td>\n",
       "      <td>102</td>\n",
       "      <td>0</td>\n",
       "      <td>1</td>\n",
       "      <td>0</td>\n",
       "      <td>0</td>\n",
       "      <td>0</td>\n",
       "      <td>bur</td>\n",
       "      <td>0</td>\n",
       "      <td>bur_0</td>\n",
       "    </tr>\n",
       "    <tr>\n",
       "      <th>3</th>\n",
       "      <td>/media/scratch/astamoulakatos/centre_Ch2/bur/S...</td>\n",
       "      <td>400</td>\n",
       "      <td>0</td>\n",
       "      <td>1</td>\n",
       "      <td>0</td>\n",
       "      <td>0</td>\n",
       "      <td>0</td>\n",
       "      <td>bur</td>\n",
       "      <td>0</td>\n",
       "      <td>bur_1</td>\n",
       "    </tr>\n",
       "    <tr>\n",
       "      <th>4</th>\n",
       "      <td>/media/scratch/astamoulakatos/centre_Ch2/bur/S...</td>\n",
       "      <td>175</td>\n",
       "      <td>0</td>\n",
       "      <td>1</td>\n",
       "      <td>0</td>\n",
       "      <td>0</td>\n",
       "      <td>0</td>\n",
       "      <td>bur</td>\n",
       "      <td>0</td>\n",
       "      <td>bur_0</td>\n",
       "    </tr>\n",
       "    <tr>\n",
       "      <th>...</th>\n",
       "      <td>...</td>\n",
       "      <td>...</td>\n",
       "      <td>...</td>\n",
       "      <td>...</td>\n",
       "      <td>...</td>\n",
       "      <td>...</td>\n",
       "      <td>...</td>\n",
       "      <td>...</td>\n",
       "      <td>...</td>\n",
       "      <td>...</td>\n",
       "    </tr>\n",
       "    <tr>\n",
       "      <th>1432</th>\n",
       "      <td>/media/scratch/astamoulakatos/centre_Ch2/exp/S...</td>\n",
       "      <td>400</td>\n",
       "      <td>1</td>\n",
       "      <td>0</td>\n",
       "      <td>0</td>\n",
       "      <td>0</td>\n",
       "      <td>0</td>\n",
       "      <td>exp</td>\n",
       "      <td>4</td>\n",
       "      <td>exp_1</td>\n",
       "    </tr>\n",
       "    <tr>\n",
       "      <th>1433</th>\n",
       "      <td>/media/scratch/astamoulakatos/centre_Ch2/exp/S...</td>\n",
       "      <td>400</td>\n",
       "      <td>1</td>\n",
       "      <td>0</td>\n",
       "      <td>0</td>\n",
       "      <td>0</td>\n",
       "      <td>0</td>\n",
       "      <td>exp</td>\n",
       "      <td>4</td>\n",
       "      <td>exp_1</td>\n",
       "    </tr>\n",
       "    <tr>\n",
       "      <th>1434</th>\n",
       "      <td>/media/scratch/astamoulakatos/centre_Ch2/exp/S...</td>\n",
       "      <td>400</td>\n",
       "      <td>1</td>\n",
       "      <td>0</td>\n",
       "      <td>0</td>\n",
       "      <td>0</td>\n",
       "      <td>0</td>\n",
       "      <td>exp</td>\n",
       "      <td>4</td>\n",
       "      <td>exp_1</td>\n",
       "    </tr>\n",
       "    <tr>\n",
       "      <th>1435</th>\n",
       "      <td>/media/scratch/astamoulakatos/centre_Ch2/exp/S...</td>\n",
       "      <td>358</td>\n",
       "      <td>1</td>\n",
       "      <td>0</td>\n",
       "      <td>0</td>\n",
       "      <td>0</td>\n",
       "      <td>0</td>\n",
       "      <td>exp</td>\n",
       "      <td>4</td>\n",
       "      <td>exp_1</td>\n",
       "    </tr>\n",
       "    <tr>\n",
       "      <th>1436</th>\n",
       "      <td>/media/scratch/astamoulakatos/centre_Ch2/exp/S...</td>\n",
       "      <td>360</td>\n",
       "      <td>1</td>\n",
       "      <td>0</td>\n",
       "      <td>0</td>\n",
       "      <td>0</td>\n",
       "      <td>0</td>\n",
       "      <td>exp</td>\n",
       "      <td>4</td>\n",
       "      <td>exp_1</td>\n",
       "    </tr>\n",
       "  </tbody>\n",
       "</table>\n",
       "<p>1100 rows × 10 columns</p>\n",
       "</div>"
      ],
      "text/plain": [
       "                                             event_path  number_of_frames  \\\n",
       "0     /media/scratch/astamoulakatos/centre_Ch2/bur/S...               400   \n",
       "1     /media/scratch/astamoulakatos/centre_Ch2/bur/S...               400   \n",
       "2     /media/scratch/astamoulakatos/centre_Ch2/bur/S...               102   \n",
       "3     /media/scratch/astamoulakatos/centre_Ch2/bur/S...               400   \n",
       "4     /media/scratch/astamoulakatos/centre_Ch2/bur/S...               175   \n",
       "...                                                 ...               ...   \n",
       "1432  /media/scratch/astamoulakatos/centre_Ch2/exp/S...               400   \n",
       "1433  /media/scratch/astamoulakatos/centre_Ch2/exp/S...               400   \n",
       "1434  /media/scratch/astamoulakatos/centre_Ch2/exp/S...               400   \n",
       "1435  /media/scratch/astamoulakatos/centre_Ch2/exp/S...               358   \n",
       "1436  /media/scratch/astamoulakatos/centre_Ch2/exp/S...               360   \n",
       "\n",
       "      exposure  burial  field_joint  anode  free_span label  fold  \\\n",
       "0            0       1            0      0          0   bur     0   \n",
       "1            0       1            0      0          0   bur     0   \n",
       "2            0       1            0      0          0   bur     0   \n",
       "3            0       1            0      0          0   bur     0   \n",
       "4            0       1            0      0          0   bur     0   \n",
       "...        ...     ...          ...    ...        ...   ...   ...   \n",
       "1432         1       0            0      0          0   exp     4   \n",
       "1433         1       0            0      0          0   exp     4   \n",
       "1434         1       0            0      0          0   exp     4   \n",
       "1435         1       0            0      0          0   exp     4   \n",
       "1436         1       0            0      0          0   exp     4   \n",
       "\n",
       "     stratify_group  \n",
       "0             bur_1  \n",
       "1             bur_1  \n",
       "2             bur_0  \n",
       "3             bur_1  \n",
       "4             bur_0  \n",
       "...             ...  \n",
       "1432          exp_1  \n",
       "1433          exp_1  \n",
       "1434          exp_1  \n",
       "1435          exp_1  \n",
       "1436          exp_1  \n",
       "\n",
       "[1100 rows x 10 columns]"
      ]
     },
     "execution_count": 16,
     "metadata": {},
     "output_type": "execute_result"
    }
   ],
   "source": [
    "df"
   ]
  },
  {
   "cell_type": "code",
   "execution_count": 23,
   "metadata": {},
   "outputs": [
    {
     "data": {
      "text/plain": [
       "bur        315\n",
       "exp_fj     257\n",
       "exp_fs     239\n",
       "exp        236\n",
       "exp_and     53\n",
       "Name: label, dtype: int64"
      ]
     },
     "execution_count": 23,
     "metadata": {},
     "output_type": "execute_result"
    }
   ],
   "source": [
    "df.label.value_counts()"
   ]
  },
  {
   "cell_type": "markdown",
   "metadata": {},
   "source": [
    "# less exposure"
   ]
  },
  {
   "cell_type": "code",
   "execution_count": 25,
   "metadata": {},
   "outputs": [],
   "source": [
    "df_exp = df[df.label=='exp']"
   ]
  },
  {
   "cell_type": "code",
   "execution_count": 24,
   "metadata": {},
   "outputs": [
    {
     "ename": "NameError",
     "evalue": "name 'df_exp' is not defined",
     "output_type": "error",
     "traceback": [
      "\u001b[0;31m---------------------------------------------------------------------------\u001b[0m",
      "\u001b[0;31mNameError\u001b[0m                                 Traceback (most recent call last)",
      "\u001b[0;32m<ipython-input-24-8e4ea8f9368d>\u001b[0m in \u001b[0;36m<module>\u001b[0;34m\u001b[0m\n\u001b[0;32m----> 1\u001b[0;31m \u001b[0mdf_exp\u001b[0m \u001b[0;34m=\u001b[0m \u001b[0mdf_exp\u001b[0m\u001b[0;34m.\u001b[0m\u001b[0msample\u001b[0m\u001b[0;34m(\u001b[0m\u001b[0mfrac\u001b[0m\u001b[0;34m=\u001b[0m\u001b[0;36m0.25\u001b[0m\u001b[0;34m)\u001b[0m\u001b[0;34m\u001b[0m\u001b[0;34m\u001b[0m\u001b[0m\n\u001b[0m",
      "\u001b[0;31mNameError\u001b[0m: name 'df_exp' is not defined"
     ]
    }
   ],
   "source": [
    "df_exp = df_exp.sample(frac=0.25)"
   ]
  },
  {
   "cell_type": "code",
   "execution_count": 17,
   "metadata": {},
   "outputs": [
    {
     "data": {
      "text/html": [
       "<div>\n",
       "<style scoped>\n",
       "    .dataframe tbody tr th:only-of-type {\n",
       "        vertical-align: middle;\n",
       "    }\n",
       "\n",
       "    .dataframe tbody tr th {\n",
       "        vertical-align: top;\n",
       "    }\n",
       "\n",
       "    .dataframe thead th {\n",
       "        text-align: right;\n",
       "    }\n",
       "</style>\n",
       "<table border=\"1\" class=\"dataframe\">\n",
       "  <thead>\n",
       "    <tr style=\"text-align: right;\">\n",
       "      <th></th>\n",
       "      <th>event_path</th>\n",
       "      <th>number_of_frames</th>\n",
       "      <th>exposure</th>\n",
       "      <th>burial</th>\n",
       "      <th>field_joint</th>\n",
       "      <th>anode</th>\n",
       "      <th>free_span</th>\n",
       "      <th>label</th>\n",
       "      <th>fold</th>\n",
       "      <th>stratify_group</th>\n",
       "    </tr>\n",
       "  </thead>\n",
       "  <tbody>\n",
       "    <tr>\n",
       "      <th>540</th>\n",
       "      <td>/media/scratch/astamoulakatos/centre_Ch2/exp/S...</td>\n",
       "      <td>400</td>\n",
       "      <td>1</td>\n",
       "      <td>0</td>\n",
       "      <td>0</td>\n",
       "      <td>0</td>\n",
       "      <td>0</td>\n",
       "      <td>exp</td>\n",
       "      <td>4</td>\n",
       "      <td>exp_1</td>\n",
       "    </tr>\n",
       "    <tr>\n",
       "      <th>460</th>\n",
       "      <td>/media/scratch/astamoulakatos/centre_Ch2/exp/S...</td>\n",
       "      <td>400</td>\n",
       "      <td>1</td>\n",
       "      <td>0</td>\n",
       "      <td>0</td>\n",
       "      <td>0</td>\n",
       "      <td>0</td>\n",
       "      <td>exp</td>\n",
       "      <td>4</td>\n",
       "      <td>exp_1</td>\n",
       "    </tr>\n",
       "    <tr>\n",
       "      <th>94</th>\n",
       "      <td>/media/scratch/astamoulakatos/centre_Ch2/exp/S...</td>\n",
       "      <td>400</td>\n",
       "      <td>1</td>\n",
       "      <td>0</td>\n",
       "      <td>0</td>\n",
       "      <td>0</td>\n",
       "      <td>0</td>\n",
       "      <td>exp</td>\n",
       "      <td>1</td>\n",
       "      <td>exp_1</td>\n",
       "    </tr>\n",
       "    <tr>\n",
       "      <th>203</th>\n",
       "      <td>/media/scratch/astamoulakatos/centre_Ch2/exp/S...</td>\n",
       "      <td>400</td>\n",
       "      <td>1</td>\n",
       "      <td>0</td>\n",
       "      <td>0</td>\n",
       "      <td>0</td>\n",
       "      <td>0</td>\n",
       "      <td>exp</td>\n",
       "      <td>2</td>\n",
       "      <td>exp_1</td>\n",
       "    </tr>\n",
       "    <tr>\n",
       "      <th>674</th>\n",
       "      <td>/media/scratch/astamoulakatos/centre_Ch2/exp/S...</td>\n",
       "      <td>400</td>\n",
       "      <td>1</td>\n",
       "      <td>0</td>\n",
       "      <td>0</td>\n",
       "      <td>0</td>\n",
       "      <td>0</td>\n",
       "      <td>exp</td>\n",
       "      <td>0</td>\n",
       "      <td>exp_1</td>\n",
       "    </tr>\n",
       "    <tr>\n",
       "      <th>332</th>\n",
       "      <td>/media/scratch/astamoulakatos/centre_Ch2/exp/S...</td>\n",
       "      <td>400</td>\n",
       "      <td>1</td>\n",
       "      <td>0</td>\n",
       "      <td>0</td>\n",
       "      <td>0</td>\n",
       "      <td>0</td>\n",
       "      <td>exp</td>\n",
       "      <td>3</td>\n",
       "      <td>exp_1</td>\n",
       "    </tr>\n",
       "    <tr>\n",
       "      <th>599</th>\n",
       "      <td>/media/scratch/astamoulakatos/centre_Ch2/exp/S...</td>\n",
       "      <td>400</td>\n",
       "      <td>1</td>\n",
       "      <td>0</td>\n",
       "      <td>0</td>\n",
       "      <td>0</td>\n",
       "      <td>0</td>\n",
       "      <td>exp</td>\n",
       "      <td>0</td>\n",
       "      <td>exp_1</td>\n",
       "    </tr>\n",
       "    <tr>\n",
       "      <th>372</th>\n",
       "      <td>/media/scratch/astamoulakatos/centre_Ch2/exp/S...</td>\n",
       "      <td>400</td>\n",
       "      <td>1</td>\n",
       "      <td>0</td>\n",
       "      <td>0</td>\n",
       "      <td>0</td>\n",
       "      <td>0</td>\n",
       "      <td>exp</td>\n",
       "      <td>0</td>\n",
       "      <td>exp_1</td>\n",
       "    </tr>\n",
       "    <tr>\n",
       "      <th>144</th>\n",
       "      <td>/media/scratch/astamoulakatos/centre_Ch2/exp/S...</td>\n",
       "      <td>400</td>\n",
       "      <td>1</td>\n",
       "      <td>0</td>\n",
       "      <td>0</td>\n",
       "      <td>0</td>\n",
       "      <td>0</td>\n",
       "      <td>exp</td>\n",
       "      <td>0</td>\n",
       "      <td>exp_1</td>\n",
       "    </tr>\n",
       "    <tr>\n",
       "      <th>180</th>\n",
       "      <td>/media/scratch/astamoulakatos/centre_Ch2/exp/S...</td>\n",
       "      <td>400</td>\n",
       "      <td>1</td>\n",
       "      <td>0</td>\n",
       "      <td>0</td>\n",
       "      <td>0</td>\n",
       "      <td>0</td>\n",
       "      <td>exp</td>\n",
       "      <td>1</td>\n",
       "      <td>exp_1</td>\n",
       "    </tr>\n",
       "    <tr>\n",
       "      <th>417</th>\n",
       "      <td>/media/scratch/astamoulakatos/centre_Ch2/exp/S...</td>\n",
       "      <td>400</td>\n",
       "      <td>1</td>\n",
       "      <td>0</td>\n",
       "      <td>0</td>\n",
       "      <td>0</td>\n",
       "      <td>0</td>\n",
       "      <td>exp</td>\n",
       "      <td>1</td>\n",
       "      <td>exp_1</td>\n",
       "    </tr>\n",
       "    <tr>\n",
       "      <th>228</th>\n",
       "      <td>/media/scratch/astamoulakatos/centre_Ch2/exp/S...</td>\n",
       "      <td>400</td>\n",
       "      <td>1</td>\n",
       "      <td>0</td>\n",
       "      <td>0</td>\n",
       "      <td>0</td>\n",
       "      <td>0</td>\n",
       "      <td>exp</td>\n",
       "      <td>2</td>\n",
       "      <td>exp_1</td>\n",
       "    </tr>\n",
       "    <tr>\n",
       "      <th>230</th>\n",
       "      <td>/media/scratch/astamoulakatos/centre_Ch2/exp/S...</td>\n",
       "      <td>400</td>\n",
       "      <td>1</td>\n",
       "      <td>0</td>\n",
       "      <td>0</td>\n",
       "      <td>0</td>\n",
       "      <td>0</td>\n",
       "      <td>exp</td>\n",
       "      <td>0</td>\n",
       "      <td>exp_1</td>\n",
       "    </tr>\n",
       "    <tr>\n",
       "      <th>521</th>\n",
       "      <td>/media/scratch/astamoulakatos/centre_Ch2/exp/S...</td>\n",
       "      <td>400</td>\n",
       "      <td>1</td>\n",
       "      <td>0</td>\n",
       "      <td>0</td>\n",
       "      <td>0</td>\n",
       "      <td>0</td>\n",
       "      <td>exp</td>\n",
       "      <td>1</td>\n",
       "      <td>exp_1</td>\n",
       "    </tr>\n",
       "    <tr>\n",
       "      <th>6</th>\n",
       "      <td>/media/scratch/astamoulakatos/centre_Ch2/exp/S...</td>\n",
       "      <td>400</td>\n",
       "      <td>1</td>\n",
       "      <td>0</td>\n",
       "      <td>0</td>\n",
       "      <td>0</td>\n",
       "      <td>0</td>\n",
       "      <td>exp</td>\n",
       "      <td>3</td>\n",
       "      <td>exp_1</td>\n",
       "    </tr>\n",
       "    <tr>\n",
       "      <th>99</th>\n",
       "      <td>/media/scratch/astamoulakatos/centre_Ch2/exp/S...</td>\n",
       "      <td>400</td>\n",
       "      <td>1</td>\n",
       "      <td>0</td>\n",
       "      <td>0</td>\n",
       "      <td>0</td>\n",
       "      <td>0</td>\n",
       "      <td>exp</td>\n",
       "      <td>0</td>\n",
       "      <td>exp_1</td>\n",
       "    </tr>\n",
       "    <tr>\n",
       "      <th>439</th>\n",
       "      <td>/media/scratch/astamoulakatos/centre_Ch2/exp/S...</td>\n",
       "      <td>308</td>\n",
       "      <td>1</td>\n",
       "      <td>0</td>\n",
       "      <td>0</td>\n",
       "      <td>0</td>\n",
       "      <td>0</td>\n",
       "      <td>exp</td>\n",
       "      <td>4</td>\n",
       "      <td>exp_1</td>\n",
       "    </tr>\n",
       "    <tr>\n",
       "      <th>315</th>\n",
       "      <td>/media/scratch/astamoulakatos/centre_Ch2/exp/S...</td>\n",
       "      <td>400</td>\n",
       "      <td>1</td>\n",
       "      <td>0</td>\n",
       "      <td>0</td>\n",
       "      <td>0</td>\n",
       "      <td>0</td>\n",
       "      <td>exp</td>\n",
       "      <td>3</td>\n",
       "      <td>exp_1</td>\n",
       "    </tr>\n",
       "    <tr>\n",
       "      <th>300</th>\n",
       "      <td>/media/scratch/astamoulakatos/centre_Ch2/exp/S...</td>\n",
       "      <td>400</td>\n",
       "      <td>1</td>\n",
       "      <td>0</td>\n",
       "      <td>0</td>\n",
       "      <td>0</td>\n",
       "      <td>0</td>\n",
       "      <td>exp</td>\n",
       "      <td>0</td>\n",
       "      <td>exp_1</td>\n",
       "    </tr>\n",
       "    <tr>\n",
       "      <th>474</th>\n",
       "      <td>/media/scratch/astamoulakatos/centre_Ch2/exp/S...</td>\n",
       "      <td>265</td>\n",
       "      <td>1</td>\n",
       "      <td>0</td>\n",
       "      <td>0</td>\n",
       "      <td>0</td>\n",
       "      <td>0</td>\n",
       "      <td>exp</td>\n",
       "      <td>4</td>\n",
       "      <td>exp_0</td>\n",
       "    </tr>\n",
       "    <tr>\n",
       "      <th>383</th>\n",
       "      <td>/media/scratch/astamoulakatos/centre_Ch2/exp/S...</td>\n",
       "      <td>400</td>\n",
       "      <td>1</td>\n",
       "      <td>0</td>\n",
       "      <td>0</td>\n",
       "      <td>0</td>\n",
       "      <td>0</td>\n",
       "      <td>exp</td>\n",
       "      <td>0</td>\n",
       "      <td>exp_1</td>\n",
       "    </tr>\n",
       "    <tr>\n",
       "      <th>501</th>\n",
       "      <td>/media/scratch/astamoulakatos/centre_Ch2/exp/S...</td>\n",
       "      <td>400</td>\n",
       "      <td>1</td>\n",
       "      <td>0</td>\n",
       "      <td>0</td>\n",
       "      <td>0</td>\n",
       "      <td>0</td>\n",
       "      <td>exp</td>\n",
       "      <td>4</td>\n",
       "      <td>exp_1</td>\n",
       "    </tr>\n",
       "    <tr>\n",
       "      <th>620</th>\n",
       "      <td>/media/scratch/astamoulakatos/centre_Ch2/exp/S...</td>\n",
       "      <td>400</td>\n",
       "      <td>1</td>\n",
       "      <td>0</td>\n",
       "      <td>0</td>\n",
       "      <td>0</td>\n",
       "      <td>0</td>\n",
       "      <td>exp</td>\n",
       "      <td>1</td>\n",
       "      <td>exp_1</td>\n",
       "    </tr>\n",
       "    <tr>\n",
       "      <th>293</th>\n",
       "      <td>/media/scratch/astamoulakatos/centre_Ch2/exp/S...</td>\n",
       "      <td>400</td>\n",
       "      <td>1</td>\n",
       "      <td>0</td>\n",
       "      <td>0</td>\n",
       "      <td>0</td>\n",
       "      <td>0</td>\n",
       "      <td>exp</td>\n",
       "      <td>0</td>\n",
       "      <td>exp_1</td>\n",
       "    </tr>\n",
       "  </tbody>\n",
       "</table>\n",
       "</div>"
      ],
      "text/plain": [
       "                                            event_path  number_of_frames  \\\n",
       "540  /media/scratch/astamoulakatos/centre_Ch2/exp/S...               400   \n",
       "460  /media/scratch/astamoulakatos/centre_Ch2/exp/S...               400   \n",
       "94   /media/scratch/astamoulakatos/centre_Ch2/exp/S...               400   \n",
       "203  /media/scratch/astamoulakatos/centre_Ch2/exp/S...               400   \n",
       "674  /media/scratch/astamoulakatos/centre_Ch2/exp/S...               400   \n",
       "332  /media/scratch/astamoulakatos/centre_Ch2/exp/S...               400   \n",
       "599  /media/scratch/astamoulakatos/centre_Ch2/exp/S...               400   \n",
       "372  /media/scratch/astamoulakatos/centre_Ch2/exp/S...               400   \n",
       "144  /media/scratch/astamoulakatos/centre_Ch2/exp/S...               400   \n",
       "180  /media/scratch/astamoulakatos/centre_Ch2/exp/S...               400   \n",
       "417  /media/scratch/astamoulakatos/centre_Ch2/exp/S...               400   \n",
       "228  /media/scratch/astamoulakatos/centre_Ch2/exp/S...               400   \n",
       "230  /media/scratch/astamoulakatos/centre_Ch2/exp/S...               400   \n",
       "521  /media/scratch/astamoulakatos/centre_Ch2/exp/S...               400   \n",
       "6    /media/scratch/astamoulakatos/centre_Ch2/exp/S...               400   \n",
       "99   /media/scratch/astamoulakatos/centre_Ch2/exp/S...               400   \n",
       "439  /media/scratch/astamoulakatos/centre_Ch2/exp/S...               308   \n",
       "315  /media/scratch/astamoulakatos/centre_Ch2/exp/S...               400   \n",
       "300  /media/scratch/astamoulakatos/centre_Ch2/exp/S...               400   \n",
       "474  /media/scratch/astamoulakatos/centre_Ch2/exp/S...               265   \n",
       "383  /media/scratch/astamoulakatos/centre_Ch2/exp/S...               400   \n",
       "501  /media/scratch/astamoulakatos/centre_Ch2/exp/S...               400   \n",
       "620  /media/scratch/astamoulakatos/centre_Ch2/exp/S...               400   \n",
       "293  /media/scratch/astamoulakatos/centre_Ch2/exp/S...               400   \n",
       "\n",
       "     exposure  burial  field_joint  anode  free_span label  fold  \\\n",
       "540         1       0            0      0          0   exp     4   \n",
       "460         1       0            0      0          0   exp     4   \n",
       "94          1       0            0      0          0   exp     1   \n",
       "203         1       0            0      0          0   exp     2   \n",
       "674         1       0            0      0          0   exp     0   \n",
       "332         1       0            0      0          0   exp     3   \n",
       "599         1       0            0      0          0   exp     0   \n",
       "372         1       0            0      0          0   exp     0   \n",
       "144         1       0            0      0          0   exp     0   \n",
       "180         1       0            0      0          0   exp     1   \n",
       "417         1       0            0      0          0   exp     1   \n",
       "228         1       0            0      0          0   exp     2   \n",
       "230         1       0            0      0          0   exp     0   \n",
       "521         1       0            0      0          0   exp     1   \n",
       "6           1       0            0      0          0   exp     3   \n",
       "99          1       0            0      0          0   exp     0   \n",
       "439         1       0            0      0          0   exp     4   \n",
       "315         1       0            0      0          0   exp     3   \n",
       "300         1       0            0      0          0   exp     0   \n",
       "474         1       0            0      0          0   exp     4   \n",
       "383         1       0            0      0          0   exp     0   \n",
       "501         1       0            0      0          0   exp     4   \n",
       "620         1       0            0      0          0   exp     1   \n",
       "293         1       0            0      0          0   exp     0   \n",
       "\n",
       "    stratify_group  \n",
       "540          exp_1  \n",
       "460          exp_1  \n",
       "94           exp_1  \n",
       "203          exp_1  \n",
       "674          exp_1  \n",
       "332          exp_1  \n",
       "599          exp_1  \n",
       "372          exp_1  \n",
       "144          exp_1  \n",
       "180          exp_1  \n",
       "417          exp_1  \n",
       "228          exp_1  \n",
       "230          exp_1  \n",
       "521          exp_1  \n",
       "6            exp_1  \n",
       "99           exp_1  \n",
       "439          exp_1  \n",
       "315          exp_1  \n",
       "300          exp_1  \n",
       "474          exp_0  \n",
       "383          exp_1  \n",
       "501          exp_1  \n",
       "620          exp_1  \n",
       "293          exp_1  "
      ]
     },
     "execution_count": 17,
     "metadata": {},
     "output_type": "execute_result"
    }
   ],
   "source": [
    "df_exp"
   ]
  },
  {
   "cell_type": "code",
   "execution_count": 18,
   "metadata": {},
   "outputs": [
    {
     "data": {
      "text/plain": [
       "390.5416666666667"
      ]
     },
     "execution_count": 18,
     "metadata": {},
     "output_type": "execute_result"
    }
   ],
   "source": [
    "df_exp.number_of_frames.mean()"
   ]
  },
  {
   "cell_type": "code",
   "execution_count": 19,
   "metadata": {},
   "outputs": [],
   "source": [
    "df_new = df[df.label!='exp']"
   ]
  },
  {
   "cell_type": "code",
   "execution_count": 20,
   "metadata": {},
   "outputs": [],
   "source": [
    "df_final = pd.concat([df_new, df_exp])"
   ]
  },
  {
   "cell_type": "code",
   "execution_count": 21,
   "metadata": {},
   "outputs": [
    {
     "data": {
      "text/html": [
       "<div>\n",
       "<style scoped>\n",
       "    .dataframe tbody tr th:only-of-type {\n",
       "        vertical-align: middle;\n",
       "    }\n",
       "\n",
       "    .dataframe tbody tr th {\n",
       "        vertical-align: top;\n",
       "    }\n",
       "\n",
       "    .dataframe thead th {\n",
       "        text-align: right;\n",
       "    }\n",
       "</style>\n",
       "<table border=\"1\" class=\"dataframe\">\n",
       "  <thead>\n",
       "    <tr style=\"text-align: right;\">\n",
       "      <th></th>\n",
       "      <th>event_path</th>\n",
       "      <th>number_of_frames</th>\n",
       "      <th>exposure</th>\n",
       "      <th>burial</th>\n",
       "      <th>field_joint</th>\n",
       "      <th>anode</th>\n",
       "      <th>free_span</th>\n",
       "      <th>label</th>\n",
       "      <th>fold</th>\n",
       "      <th>stratify_group</th>\n",
       "    </tr>\n",
       "  </thead>\n",
       "  <tbody>\n",
       "    <tr>\n",
       "      <th>0</th>\n",
       "      <td>/media/scratch/astamoulakatos/centre_Ch2/exp_f...</td>\n",
       "      <td>107</td>\n",
       "      <td>1</td>\n",
       "      <td>0</td>\n",
       "      <td>1</td>\n",
       "      <td>0</td>\n",
       "      <td>0</td>\n",
       "      <td>exp_fj</td>\n",
       "      <td>4</td>\n",
       "      <td>exp_fj_1</td>\n",
       "    </tr>\n",
       "    <tr>\n",
       "      <th>1</th>\n",
       "      <td>/media/scratch/astamoulakatos/centre_Ch2/exp_f...</td>\n",
       "      <td>152</td>\n",
       "      <td>1</td>\n",
       "      <td>0</td>\n",
       "      <td>1</td>\n",
       "      <td>0</td>\n",
       "      <td>0</td>\n",
       "      <td>exp_fj</td>\n",
       "      <td>3</td>\n",
       "      <td>exp_fj_1</td>\n",
       "    </tr>\n",
       "    <tr>\n",
       "      <th>2</th>\n",
       "      <td>/media/scratch/astamoulakatos/centre_Ch2/exp_f...</td>\n",
       "      <td>117</td>\n",
       "      <td>1</td>\n",
       "      <td>0</td>\n",
       "      <td>1</td>\n",
       "      <td>0</td>\n",
       "      <td>0</td>\n",
       "      <td>exp_fj</td>\n",
       "      <td>2</td>\n",
       "      <td>exp_fj_1</td>\n",
       "    </tr>\n",
       "    <tr>\n",
       "      <th>3</th>\n",
       "      <td>/media/scratch/astamoulakatos/centre_Ch2/exp_f...</td>\n",
       "      <td>161</td>\n",
       "      <td>1</td>\n",
       "      <td>0</td>\n",
       "      <td>1</td>\n",
       "      <td>0</td>\n",
       "      <td>0</td>\n",
       "      <td>exp_fj</td>\n",
       "      <td>0</td>\n",
       "      <td>exp_fj_1</td>\n",
       "    </tr>\n",
       "    <tr>\n",
       "      <th>4</th>\n",
       "      <td>/media/scratch/astamoulakatos/centre_Ch2/exp_f...</td>\n",
       "      <td>203</td>\n",
       "      <td>1</td>\n",
       "      <td>0</td>\n",
       "      <td>0</td>\n",
       "      <td>0</td>\n",
       "      <td>1</td>\n",
       "      <td>exp_fs</td>\n",
       "      <td>4</td>\n",
       "      <td>exp_fs_0</td>\n",
       "    </tr>\n",
       "    <tr>\n",
       "      <th>...</th>\n",
       "      <td>...</td>\n",
       "      <td>...</td>\n",
       "      <td>...</td>\n",
       "      <td>...</td>\n",
       "      <td>...</td>\n",
       "      <td>...</td>\n",
       "      <td>...</td>\n",
       "      <td>...</td>\n",
       "      <td>...</td>\n",
       "      <td>...</td>\n",
       "    </tr>\n",
       "    <tr>\n",
       "      <th>435</th>\n",
       "      <td>/media/scratch/astamoulakatos/centre_Ch2/exp/S...</td>\n",
       "      <td>265</td>\n",
       "      <td>1</td>\n",
       "      <td>0</td>\n",
       "      <td>0</td>\n",
       "      <td>0</td>\n",
       "      <td>0</td>\n",
       "      <td>exp</td>\n",
       "      <td>4</td>\n",
       "      <td>exp_0</td>\n",
       "    </tr>\n",
       "    <tr>\n",
       "      <th>436</th>\n",
       "      <td>/media/scratch/astamoulakatos/centre_Ch2/exp/S...</td>\n",
       "      <td>400</td>\n",
       "      <td>1</td>\n",
       "      <td>0</td>\n",
       "      <td>0</td>\n",
       "      <td>0</td>\n",
       "      <td>0</td>\n",
       "      <td>exp</td>\n",
       "      <td>0</td>\n",
       "      <td>exp_1</td>\n",
       "    </tr>\n",
       "    <tr>\n",
       "      <th>437</th>\n",
       "      <td>/media/scratch/astamoulakatos/centre_Ch2/exp/S...</td>\n",
       "      <td>400</td>\n",
       "      <td>1</td>\n",
       "      <td>0</td>\n",
       "      <td>0</td>\n",
       "      <td>0</td>\n",
       "      <td>0</td>\n",
       "      <td>exp</td>\n",
       "      <td>4</td>\n",
       "      <td>exp_1</td>\n",
       "    </tr>\n",
       "    <tr>\n",
       "      <th>438</th>\n",
       "      <td>/media/scratch/astamoulakatos/centre_Ch2/exp/S...</td>\n",
       "      <td>400</td>\n",
       "      <td>1</td>\n",
       "      <td>0</td>\n",
       "      <td>0</td>\n",
       "      <td>0</td>\n",
       "      <td>0</td>\n",
       "      <td>exp</td>\n",
       "      <td>1</td>\n",
       "      <td>exp_1</td>\n",
       "    </tr>\n",
       "    <tr>\n",
       "      <th>439</th>\n",
       "      <td>/media/scratch/astamoulakatos/centre_Ch2/exp/S...</td>\n",
       "      <td>400</td>\n",
       "      <td>1</td>\n",
       "      <td>0</td>\n",
       "      <td>0</td>\n",
       "      <td>0</td>\n",
       "      <td>0</td>\n",
       "      <td>exp</td>\n",
       "      <td>0</td>\n",
       "      <td>exp_1</td>\n",
       "    </tr>\n",
       "  </tbody>\n",
       "</table>\n",
       "<p>440 rows × 10 columns</p>\n",
       "</div>"
      ],
      "text/plain": [
       "                                            event_path  number_of_frames  \\\n",
       "0    /media/scratch/astamoulakatos/centre_Ch2/exp_f...               107   \n",
       "1    /media/scratch/astamoulakatos/centre_Ch2/exp_f...               152   \n",
       "2    /media/scratch/astamoulakatos/centre_Ch2/exp_f...               117   \n",
       "3    /media/scratch/astamoulakatos/centre_Ch2/exp_f...               161   \n",
       "4    /media/scratch/astamoulakatos/centre_Ch2/exp_f...               203   \n",
       "..                                                 ...               ...   \n",
       "435  /media/scratch/astamoulakatos/centre_Ch2/exp/S...               265   \n",
       "436  /media/scratch/astamoulakatos/centre_Ch2/exp/S...               400   \n",
       "437  /media/scratch/astamoulakatos/centre_Ch2/exp/S...               400   \n",
       "438  /media/scratch/astamoulakatos/centre_Ch2/exp/S...               400   \n",
       "439  /media/scratch/astamoulakatos/centre_Ch2/exp/S...               400   \n",
       "\n",
       "     exposure  burial  field_joint  anode  free_span   label  fold  \\\n",
       "0           1       0            1      0          0  exp_fj     4   \n",
       "1           1       0            1      0          0  exp_fj     3   \n",
       "2           1       0            1      0          0  exp_fj     2   \n",
       "3           1       0            1      0          0  exp_fj     0   \n",
       "4           1       0            0      0          1  exp_fs     4   \n",
       "..        ...     ...          ...    ...        ...     ...   ...   \n",
       "435         1       0            0      0          0     exp     4   \n",
       "436         1       0            0      0          0     exp     0   \n",
       "437         1       0            0      0          0     exp     4   \n",
       "438         1       0            0      0          0     exp     1   \n",
       "439         1       0            0      0          0     exp     0   \n",
       "\n",
       "    stratify_group  \n",
       "0         exp_fj_1  \n",
       "1         exp_fj_1  \n",
       "2         exp_fj_1  \n",
       "3         exp_fj_1  \n",
       "4         exp_fs_0  \n",
       "..             ...  \n",
       "435          exp_0  \n",
       "436          exp_1  \n",
       "437          exp_1  \n",
       "438          exp_1  \n",
       "439          exp_1  \n",
       "\n",
       "[440 rows x 10 columns]"
      ]
     },
     "execution_count": 21,
     "metadata": {},
     "output_type": "execute_result"
    }
   ],
   "source": [
    "df_final.reset_index(drop=True)"
   ]
  },
  {
   "cell_type": "code",
   "execution_count": 22,
   "metadata": {},
   "outputs": [
    {
     "data": {
      "text/plain": [
       "bur        149\n",
       "exp_fj     123\n",
       "exp_fs     120\n",
       "exp         24\n",
       "exp_and     24\n",
       "Name: label, dtype: int64"
      ]
     },
     "execution_count": 22,
     "metadata": {},
     "output_type": "execute_result"
    }
   ],
   "source": [
    "df_final.label.value_counts()"
   ]
  },
  {
   "cell_type": "code",
   "execution_count": null,
   "metadata": {},
   "outputs": [],
   "source": []
  }
 ],
 "metadata": {
  "kernelspec": {
   "display_name": "Python 3",
   "language": "python",
   "name": "python3"
  },
  "language_info": {
   "codemirror_mode": {
    "name": "ipython",
    "version": 3
   },
   "file_extension": ".py",
   "mimetype": "text/x-python",
   "name": "python",
   "nbconvert_exporter": "python",
   "pygments_lexer": "ipython3",
   "version": "3.7.7"
  }
 },
 "nbformat": 4,
 "nbformat_minor": 4
}
